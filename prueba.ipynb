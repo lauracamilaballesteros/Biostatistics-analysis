{
 "cells": [
  {
   "cell_type": "markdown",
   "metadata": {},
   "source": [
    "# **Prueba técnica: Análisis bioestadístico**"
   ]
  },
  {
   "cell_type": "markdown",
   "metadata": {},
   "source": [
    "Para empezar se crea un entorno virtual que se llama biostatistics que contiene todas las librerias\n",
    "necesarias para el proyecto. Se procedera a analizar los datos de cada uno de los dataset individuales."
   ]
  },
  {
   "cell_type": "markdown",
   "metadata": {},
   "source": [
    "El primer objetivo trazado es llegar a una estructura de datos que contenga cada país con sus indicadores y un diccionario de dicha estructura."
   ]
  },
  {
   "cell_type": "code",
   "execution_count": 126,
   "metadata": {},
   "outputs": [],
   "source": [
    "import pandas as pd\n",
    "import matplotlib.pyplot as plt\n",
    "import seaborn as sns\n"
   ]
  },
  {
   "cell_type": "markdown",
   "metadata": {},
   "source": [
    "Ahora se leeran y analizaran los datos de csv individuales para crear una estructura de datos"
   ]
  },
  {
   "cell_type": "code",
   "execution_count": 2,
   "metadata": {},
   "outputs": [],
   "source": [
    "\n",
    "\n",
    "ruta = \"C:/Users/USUARIO/Documents/GitHub/Biostatistics-analysis/datos\"\n",
    "\n",
    "df_age_death = pd.read_csv(f\"{ruta}/30-70cancerChdEtc.csv\")\n",
    "df_airpollution_death_rate = pd.read_csv(f\"{ruta}/airPollutionDeathRate.csv\")\n",
    "df_alcohol_substance_abuse = pd.read_csv(f\"{ruta}/alcoholSubstanceAbuse.csv\")\n",
    "df_crude_suicide_rates = pd.read_csv(f\"{ruta}/crudeSuicideRates.csv\")\n",
    "df_incidence_tuberculosis = pd.read_csv(f\"{ruta}/incedenceOfTuberculosis.csv\")\n",
    "df_infant_mortality_rate = pd.read_csv(f\"{ruta}/infantMortalityRate.csv\")\n",
    "df_maternal_mortality_ratio = pd.read_csv(f\"{ruta}/maternalMortalityRatio.csv\")\n",
    "df_road_traffic_deaths = pd.read_csv(f\"{ruta}/roadTrafficDeaths.csv\")\n",
    "df_tobacco_age = pd.read_csv(f\"{ruta}/tobaccoAge15.csv\")\n"
   ]
  },
  {
   "cell_type": "markdown",
   "metadata": {},
   "source": [
    "Visualizando los datos correspondientes al primer df"
   ]
  },
  {
   "cell_type": "code",
   "execution_count": 3,
   "metadata": {},
   "outputs": [
    {
     "name": "stdout",
     "output_type": "stream",
     "text": [
      "<class 'pandas.core.frame.DataFrame'>\n",
      "RangeIndex: 2745 entries, 0 to 2744\n",
      "Data columns (total 5 columns):\n",
      " #   Column         Non-Null Count  Dtype  \n",
      "---  ------         --------------  -----  \n",
      " 0   Location       2745 non-null   object \n",
      " 1   Period         2745 non-null   int64  \n",
      " 2   Indicator      2745 non-null   object \n",
      " 3   Dim1           2745 non-null   object \n",
      " 4   First Tooltip  2745 non-null   float64\n",
      "dtypes: float64(1), int64(1), object(3)\n",
      "memory usage: 107.4+ KB\n"
     ]
    }
   ],
   "source": [
    "df_age_death.info()"
   ]
  },
  {
   "cell_type": "code",
   "execution_count": 4,
   "metadata": {},
   "outputs": [
    {
     "data": {
      "text/html": [
       "<div>\n",
       "<style scoped>\n",
       "    .dataframe tbody tr th:only-of-type {\n",
       "        vertical-align: middle;\n",
       "    }\n",
       "\n",
       "    .dataframe tbody tr th {\n",
       "        vertical-align: top;\n",
       "    }\n",
       "\n",
       "    .dataframe thead th {\n",
       "        text-align: right;\n",
       "    }\n",
       "</style>\n",
       "<table border=\"1\" class=\"dataframe\">\n",
       "  <thead>\n",
       "    <tr style=\"text-align: right;\">\n",
       "      <th></th>\n",
       "      <th>Location</th>\n",
       "      <th>Period</th>\n",
       "      <th>Indicator</th>\n",
       "      <th>Dim1</th>\n",
       "      <th>First Tooltip</th>\n",
       "    </tr>\n",
       "  </thead>\n",
       "  <tbody>\n",
       "    <tr>\n",
       "      <th>0</th>\n",
       "      <td>Afghanistan</td>\n",
       "      <td>2016</td>\n",
       "      <td>Probability (%) of dying between age 30 and ex...</td>\n",
       "      <td>Both sexes</td>\n",
       "      <td>29.8</td>\n",
       "    </tr>\n",
       "    <tr>\n",
       "      <th>1</th>\n",
       "      <td>Afghanistan</td>\n",
       "      <td>2016</td>\n",
       "      <td>Probability (%) of dying between age 30 and ex...</td>\n",
       "      <td>Male</td>\n",
       "      <td>31.8</td>\n",
       "    </tr>\n",
       "    <tr>\n",
       "      <th>2</th>\n",
       "      <td>Afghanistan</td>\n",
       "      <td>2016</td>\n",
       "      <td>Probability (%) of dying between age 30 and ex...</td>\n",
       "      <td>Female</td>\n",
       "      <td>27.7</td>\n",
       "    </tr>\n",
       "    <tr>\n",
       "      <th>3</th>\n",
       "      <td>Afghanistan</td>\n",
       "      <td>2015</td>\n",
       "      <td>Probability (%) of dying between age 30 and ex...</td>\n",
       "      <td>Both sexes</td>\n",
       "      <td>29.8</td>\n",
       "    </tr>\n",
       "    <tr>\n",
       "      <th>4</th>\n",
       "      <td>Afghanistan</td>\n",
       "      <td>2015</td>\n",
       "      <td>Probability (%) of dying between age 30 and ex...</td>\n",
       "      <td>Male</td>\n",
       "      <td>31.9</td>\n",
       "    </tr>\n",
       "  </tbody>\n",
       "</table>\n",
       "</div>"
      ],
      "text/plain": [
       "      Location  Period                                          Indicator  \\\n",
       "0  Afghanistan    2016  Probability (%) of dying between age 30 and ex...   \n",
       "1  Afghanistan    2016  Probability (%) of dying between age 30 and ex...   \n",
       "2  Afghanistan    2016  Probability (%) of dying between age 30 and ex...   \n",
       "3  Afghanistan    2015  Probability (%) of dying between age 30 and ex...   \n",
       "4  Afghanistan    2015  Probability (%) of dying between age 30 and ex...   \n",
       "\n",
       "         Dim1  First Tooltip  \n",
       "0  Both sexes           29.8  \n",
       "1        Male           31.8  \n",
       "2      Female           27.7  \n",
       "3  Both sexes           29.8  \n",
       "4        Male           31.9  "
      ]
     },
     "execution_count": 4,
     "metadata": {},
     "output_type": "execute_result"
    }
   ],
   "source": [
    "df_age_death.head()"
   ]
  },
  {
   "cell_type": "markdown",
   "metadata": {},
   "source": [
    "Se visualiza que los datos se encuentran en formato adecuado"
   ]
  },
  {
   "cell_type": "code",
   "execution_count": 5,
   "metadata": {},
   "outputs": [
    {
     "data": {
      "text/plain": [
       "array(['Probability (%) of dying between age 30 and exact age 70 from any of cardiovascular disease, cancer, diabetes, or chronic respiratory disease'],\n",
       "      dtype=object)"
      ]
     },
     "execution_count": 5,
     "metadata": {},
     "output_type": "execute_result"
    }
   ],
   "source": [
    "df_age_death.Indicator.unique()"
   ]
  },
  {
   "cell_type": "markdown",
   "metadata": {},
   "source": [
    "Se crea la columna para concatenar los dataframes"
   ]
  },
  {
   "cell_type": "code",
   "execution_count": 6,
   "metadata": {},
   "outputs": [],
   "source": [
    "df_age_death['Probability of dying 30-70'] = df_age_death['First Tooltip'].copy()"
   ]
  },
  {
   "cell_type": "code",
   "execution_count": 7,
   "metadata": {},
   "outputs": [
    {
     "data": {
      "text/plain": [
       "184"
      ]
     },
     "execution_count": 7,
     "metadata": {},
     "output_type": "execute_result"
    }
   ],
   "source": [
    "df_age_death.Location.nunique()"
   ]
  },
  {
   "cell_type": "markdown",
   "metadata": {},
   "source": [
    "Verificando que los datos tengan congruencia"
   ]
  },
  {
   "cell_type": "code",
   "execution_count": 8,
   "metadata": {},
   "outputs": [
    {
     "data": {
      "text/plain": [
       "Location                        0\n",
       "Period                          0\n",
       "Indicator                       0\n",
       "Dim1                            0\n",
       "First Tooltip                 0.0\n",
       "Probability of dying 30-70    0.0\n",
       "dtype: object"
      ]
     },
     "execution_count": 8,
     "metadata": {},
     "output_type": "execute_result"
    }
   ],
   "source": [
    "df_age_death[df_age_death['First Tooltip']>100].sum()"
   ]
  },
  {
   "cell_type": "markdown",
   "metadata": {},
   "source": [
    "Se debe dejar el dataframe solo con las columnas de interés."
   ]
  },
  {
   "cell_type": "markdown",
   "metadata": {},
   "source": [
    "### **Se crea una función para filtrar las columnas**"
   ]
  },
  {
   "cell_type": "code",
   "execution_count": 9,
   "metadata": {},
   "outputs": [],
   "source": [
    "def filter_dataframes(df,columns):\n",
    "    df_copy = df.copy()\n",
    "    df_filtered = df_copy[[columns]]\n",
    "    return df_filtered"
   ]
  },
  {
   "cell_type": "markdown",
   "metadata": {},
   "source": [
    "#### **Se crea una función para borrar columnas**"
   ]
  },
  {
   "cell_type": "code",
   "execution_count": 10,
   "metadata": {},
   "outputs": [],
   "source": [
    "def drop_columns(df, columns_d):\n",
    "    df_copy = df.copy()\n",
    "    df_copy.drop(columns=columns_d, inplace=True)\n",
    "    return df_copy\n"
   ]
  },
  {
   "cell_type": "code",
   "execution_count": 11,
   "metadata": {},
   "outputs": [],
   "source": [
    "columns_drop = ['Indicator', 'First Tooltip']\n",
    "df_age_copy = drop_columns(df_age_death, columns_drop)"
   ]
  },
  {
   "cell_type": "markdown",
   "metadata": {},
   "source": [
    "Ahora se procedera de la misma forma con el resto de dataframes"
   ]
  },
  {
   "cell_type": "markdown",
   "metadata": {},
   "source": [
    "#### **Para el segundo dataframe**"
   ]
  },
  {
   "cell_type": "code",
   "execution_count": 12,
   "metadata": {},
   "outputs": [
    {
     "data": {
      "text/html": [
       "<div>\n",
       "<style scoped>\n",
       "    .dataframe tbody tr th:only-of-type {\n",
       "        vertical-align: middle;\n",
       "    }\n",
       "\n",
       "    .dataframe tbody tr th {\n",
       "        vertical-align: top;\n",
       "    }\n",
       "\n",
       "    .dataframe thead th {\n",
       "        text-align: right;\n",
       "    }\n",
       "</style>\n",
       "<table border=\"1\" class=\"dataframe\">\n",
       "  <thead>\n",
       "    <tr style=\"text-align: right;\">\n",
       "      <th></th>\n",
       "      <th>Location</th>\n",
       "      <th>Dim2</th>\n",
       "      <th>Indicator</th>\n",
       "      <th>Period</th>\n",
       "      <th>Dim1</th>\n",
       "      <th>First Tooltip</th>\n",
       "    </tr>\n",
       "  </thead>\n",
       "  <tbody>\n",
       "    <tr>\n",
       "      <th>0</th>\n",
       "      <td>Afghanistan</td>\n",
       "      <td>Total</td>\n",
       "      <td>Ambient and household air pollution attributab...</td>\n",
       "      <td>2016</td>\n",
       "      <td>Both sexes</td>\n",
       "      <td>95.12 [85.12-104.3]</td>\n",
       "    </tr>\n",
       "    <tr>\n",
       "      <th>1</th>\n",
       "      <td>Afghanistan</td>\n",
       "      <td>Total</td>\n",
       "      <td>Ambient and household air pollution attributab...</td>\n",
       "      <td>2016</td>\n",
       "      <td>Male</td>\n",
       "      <td>95.58 [85.5-106]</td>\n",
       "    </tr>\n",
       "    <tr>\n",
       "      <th>2</th>\n",
       "      <td>Afghanistan</td>\n",
       "      <td>Total</td>\n",
       "      <td>Ambient and household air pollution attributab...</td>\n",
       "      <td>2016</td>\n",
       "      <td>Female</td>\n",
       "      <td>94.63 [84.55-103.9]</td>\n",
       "    </tr>\n",
       "    <tr>\n",
       "      <th>3</th>\n",
       "      <td>Afghanistan</td>\n",
       "      <td>Total</td>\n",
       "      <td>Ambient and household air pollution attributab...</td>\n",
       "      <td>2016</td>\n",
       "      <td>Both sexes</td>\n",
       "      <td>211.1 [188.9-231.3]</td>\n",
       "    </tr>\n",
       "    <tr>\n",
       "      <th>4</th>\n",
       "      <td>Afghanistan</td>\n",
       "      <td>Total</td>\n",
       "      <td>Ambient and household air pollution attributab...</td>\n",
       "      <td>2016</td>\n",
       "      <td>Male</td>\n",
       "      <td>228.7 [204.6-253.6]</td>\n",
       "    </tr>\n",
       "  </tbody>\n",
       "</table>\n",
       "</div>"
      ],
      "text/plain": [
       "      Location   Dim2                                          Indicator  \\\n",
       "0  Afghanistan  Total  Ambient and household air pollution attributab...   \n",
       "1  Afghanistan  Total  Ambient and household air pollution attributab...   \n",
       "2  Afghanistan  Total  Ambient and household air pollution attributab...   \n",
       "3  Afghanistan  Total  Ambient and household air pollution attributab...   \n",
       "4  Afghanistan  Total  Ambient and household air pollution attributab...   \n",
       "\n",
       "   Period        Dim1        First Tooltip  \n",
       "0    2016  Both sexes  95.12 [85.12-104.3]  \n",
       "1    2016        Male     95.58 [85.5-106]  \n",
       "2    2016      Female  94.63 [84.55-103.9]  \n",
       "3    2016  Both sexes  211.1 [188.9-231.3]  \n",
       "4    2016        Male  228.7 [204.6-253.6]  "
      ]
     },
     "execution_count": 12,
     "metadata": {},
     "output_type": "execute_result"
    }
   ],
   "source": [
    "df_airpollution_death_rate.head()"
   ]
  },
  {
   "cell_type": "markdown",
   "metadata": {},
   "source": [
    "Se crea una función de preprocesamiento para separar la mediana del intervalo de confianza y el intervalo en dos columnas."
   ]
  },
  {
   "cell_type": "code",
   "execution_count": 13,
   "metadata": {},
   "outputs": [],
   "source": [
    "\n",
    "def split_interval_median(df, column, name_column, median):\n",
    "    pattern = r'\\[(.*?)\\]' \n",
    "    df[name_column] = df[column].str.extract(pattern, expand=False)\n",
    "    df[median] = df[column].str.extract(r'(\\d+\\.\\d+|\\d+)', expand=False).astype(float)\n",
    "    return df"
   ]
  },
  {
   "cell_type": "code",
   "execution_count": 14,
   "metadata": {},
   "outputs": [
    {
     "name": "stdout",
     "output_type": "stream",
     "text": [
      "<class 'pandas.core.frame.DataFrame'>\n",
      "RangeIndex: 6588 entries, 0 to 6587\n",
      "Data columns (total 6 columns):\n",
      " #   Column         Non-Null Count  Dtype \n",
      "---  ------         --------------  ----- \n",
      " 0   Location       6588 non-null   object\n",
      " 1   Dim2           6588 non-null   object\n",
      " 2   Indicator      6588 non-null   object\n",
      " 3   Period         6588 non-null   int64 \n",
      " 4   Dim1           6588 non-null   object\n",
      " 5   First Tooltip  6588 non-null   object\n",
      "dtypes: int64(1), object(5)\n",
      "memory usage: 308.9+ KB\n"
     ]
    }
   ],
   "source": [
    "df_airpollution_death_rate.info()"
   ]
  },
  {
   "cell_type": "markdown",
   "metadata": {},
   "source": [
    "Se observan los indicadores presentes en el dataframe"
   ]
  },
  {
   "cell_type": "code",
   "execution_count": 15,
   "metadata": {},
   "outputs": [
    {
     "data": {
      "text/plain": [
       "array(['Ambient and household air pollution attributable death rate (per 100 000 population)',\n",
       "       'Ambient and household air pollution attributable death rate (per 100 000 population, age-standardized)'],\n",
       "      dtype=object)"
      ]
     },
     "execution_count": 15,
     "metadata": {},
     "output_type": "execute_result"
    }
   ],
   "source": [
    "df_airpollution_death_rate.Indicator.unique()"
   ]
  },
  {
   "cell_type": "code",
   "execution_count": 16,
   "metadata": {},
   "outputs": [
    {
     "data": {
      "text/plain": [
       "array(['Total', 'Lower respiratory infections',\n",
       "       'Trachea, bronchus, lung cancers', 'Ischaemic heart disease',\n",
       "       'Stroke', 'Chronic obstructive pulmonary disease'], dtype=object)"
      ]
     },
     "execution_count": 16,
     "metadata": {},
     "output_type": "execute_result"
    }
   ],
   "source": [
    "df_airpollution_death_rate.Dim2.unique()"
   ]
  },
  {
   "cell_type": "code",
   "execution_count": 17,
   "metadata": {},
   "outputs": [
    {
     "data": {
      "text/plain": [
       "183"
      ]
     },
     "execution_count": 17,
     "metadata": {},
     "output_type": "execute_result"
    }
   ],
   "source": [
    "df_airpollution_death_rate.Location.nunique()"
   ]
  },
  {
   "cell_type": "code",
   "execution_count": 18,
   "metadata": {},
   "outputs": [],
   "source": [
    "df_indicator_air = df_airpollution_death_rate[df_airpollution_death_rate['Indicator'] ==\n",
    " 'Ambient and household air pollution attributable death rate (per 100 000 population)']"
   ]
  },
  {
   "cell_type": "code",
   "execution_count": 19,
   "metadata": {},
   "outputs": [],
   "source": [
    "df_indicator_air_normalized = df_airpollution_death_rate[df_airpollution_death_rate['Indicator'] ==\n",
    " 'Ambient and household air pollution attributable death rate (per 100 000 population, age-standardized)']"
   ]
  },
  {
   "cell_type": "code",
   "execution_count": 20,
   "metadata": {},
   "outputs": [
    {
     "name": "stderr",
     "output_type": "stream",
     "text": [
      "C:\\Users\\USUARIO\\AppData\\Local\\Temp\\ipykernel_32224\\3424376160.py:3: SettingWithCopyWarning: \n",
      "A value is trying to be set on a copy of a slice from a DataFrame.\n",
      "Try using .loc[row_indexer,col_indexer] = value instead\n",
      "\n",
      "See the caveats in the documentation: https://pandas.pydata.org/pandas-docs/stable/user_guide/indexing.html#returning-a-view-versus-a-copy\n",
      "  df[name_column] = df[column].str.extract(pattern, expand=False)\n",
      "C:\\Users\\USUARIO\\AppData\\Local\\Temp\\ipykernel_32224\\3424376160.py:4: SettingWithCopyWarning: \n",
      "A value is trying to be set on a copy of a slice from a DataFrame.\n",
      "Try using .loc[row_indexer,col_indexer] = value instead\n",
      "\n",
      "See the caveats in the documentation: https://pandas.pydata.org/pandas-docs/stable/user_guide/indexing.html#returning-a-view-versus-a-copy\n",
      "  df[median] = df[column].str.extract(r'(\\d+\\.\\d+|\\d+)', expand=False).astype(float)\n"
     ]
    },
    {
     "data": {
      "text/html": [
       "<div>\n",
       "<style scoped>\n",
       "    .dataframe tbody tr th:only-of-type {\n",
       "        vertical-align: middle;\n",
       "    }\n",
       "\n",
       "    .dataframe tbody tr th {\n",
       "        vertical-align: top;\n",
       "    }\n",
       "\n",
       "    .dataframe thead th {\n",
       "        text-align: right;\n",
       "    }\n",
       "</style>\n",
       "<table border=\"1\" class=\"dataframe\">\n",
       "  <thead>\n",
       "    <tr style=\"text-align: right;\">\n",
       "      <th></th>\n",
       "      <th>Location</th>\n",
       "      <th>Dim2</th>\n",
       "      <th>Indicator</th>\n",
       "      <th>Period</th>\n",
       "      <th>Dim1</th>\n",
       "      <th>First Tooltip</th>\n",
       "      <th>Pollution death rate per 100 000</th>\n",
       "      <th>Point estimate pollution death rate per 100 000</th>\n",
       "    </tr>\n",
       "  </thead>\n",
       "  <tbody>\n",
       "    <tr>\n",
       "      <th>0</th>\n",
       "      <td>Afghanistan</td>\n",
       "      <td>Total</td>\n",
       "      <td>Ambient and household air pollution attributab...</td>\n",
       "      <td>2016</td>\n",
       "      <td>Both sexes</td>\n",
       "      <td>95.12 [85.12-104.3]</td>\n",
       "      <td>85.12-104.3</td>\n",
       "      <td>95.12</td>\n",
       "    </tr>\n",
       "    <tr>\n",
       "      <th>1</th>\n",
       "      <td>Afghanistan</td>\n",
       "      <td>Total</td>\n",
       "      <td>Ambient and household air pollution attributab...</td>\n",
       "      <td>2016</td>\n",
       "      <td>Male</td>\n",
       "      <td>95.58 [85.5-106]</td>\n",
       "      <td>85.5-106</td>\n",
       "      <td>95.58</td>\n",
       "    </tr>\n",
       "    <tr>\n",
       "      <th>2</th>\n",
       "      <td>Afghanistan</td>\n",
       "      <td>Total</td>\n",
       "      <td>Ambient and household air pollution attributab...</td>\n",
       "      <td>2016</td>\n",
       "      <td>Female</td>\n",
       "      <td>94.63 [84.55-103.9]</td>\n",
       "      <td>84.55-103.9</td>\n",
       "      <td>94.63</td>\n",
       "    </tr>\n",
       "    <tr>\n",
       "      <th>6</th>\n",
       "      <td>Afghanistan</td>\n",
       "      <td>Lower respiratory infections</td>\n",
       "      <td>Ambient and household air pollution attributab...</td>\n",
       "      <td>2016</td>\n",
       "      <td>Both sexes</td>\n",
       "      <td>31.26 [25.66-35.67]</td>\n",
       "      <td>25.66-35.67</td>\n",
       "      <td>31.26</td>\n",
       "    </tr>\n",
       "    <tr>\n",
       "      <th>7</th>\n",
       "      <td>Afghanistan</td>\n",
       "      <td>Lower respiratory infections</td>\n",
       "      <td>Ambient and household air pollution attributab...</td>\n",
       "      <td>2016</td>\n",
       "      <td>Male</td>\n",
       "      <td>29.37 [24.07-33.6]</td>\n",
       "      <td>24.07-33.6</td>\n",
       "      <td>29.37</td>\n",
       "    </tr>\n",
       "    <tr>\n",
       "      <th>...</th>\n",
       "      <td>...</td>\n",
       "      <td>...</td>\n",
       "      <td>...</td>\n",
       "      <td>...</td>\n",
       "      <td>...</td>\n",
       "      <td>...</td>\n",
       "      <td>...</td>\n",
       "      <td>...</td>\n",
       "    </tr>\n",
       "    <tr>\n",
       "      <th>6577</th>\n",
       "      <td>Zimbabwe</td>\n",
       "      <td>Stroke</td>\n",
       "      <td>Ambient and household air pollution attributab...</td>\n",
       "      <td>2016</td>\n",
       "      <td>Male</td>\n",
       "      <td>6.17 [5.26-7.21]</td>\n",
       "      <td>5.26-7.21</td>\n",
       "      <td>6.17</td>\n",
       "    </tr>\n",
       "    <tr>\n",
       "      <th>6578</th>\n",
       "      <td>Zimbabwe</td>\n",
       "      <td>Stroke</td>\n",
       "      <td>Ambient and household air pollution attributab...</td>\n",
       "      <td>2016</td>\n",
       "      <td>Female</td>\n",
       "      <td>10.27 [8.7-12]</td>\n",
       "      <td>8.7-12</td>\n",
       "      <td>10.27</td>\n",
       "    </tr>\n",
       "    <tr>\n",
       "      <th>6582</th>\n",
       "      <td>Zimbabwe</td>\n",
       "      <td>Chronic obstructive pulmonary disease</td>\n",
       "      <td>Ambient and household air pollution attributab...</td>\n",
       "      <td>2016</td>\n",
       "      <td>Both sexes</td>\n",
       "      <td>5.88 [4.26-7.26]</td>\n",
       "      <td>4.26-7.26</td>\n",
       "      <td>5.88</td>\n",
       "    </tr>\n",
       "    <tr>\n",
       "      <th>6583</th>\n",
       "      <td>Zimbabwe</td>\n",
       "      <td>Chronic obstructive pulmonary disease</td>\n",
       "      <td>Ambient and household air pollution attributab...</td>\n",
       "      <td>2016</td>\n",
       "      <td>Male</td>\n",
       "      <td>5.54 [2.74-7.66]</td>\n",
       "      <td>2.74-7.66</td>\n",
       "      <td>5.54</td>\n",
       "    </tr>\n",
       "    <tr>\n",
       "      <th>6584</th>\n",
       "      <td>Zimbabwe</td>\n",
       "      <td>Chronic obstructive pulmonary disease</td>\n",
       "      <td>Ambient and household air pollution attributab...</td>\n",
       "      <td>2016</td>\n",
       "      <td>Female</td>\n",
       "      <td>6.19 [4.73-7.3]</td>\n",
       "      <td>4.73-7.3</td>\n",
       "      <td>6.19</td>\n",
       "    </tr>\n",
       "  </tbody>\n",
       "</table>\n",
       "<p>3294 rows × 8 columns</p>\n",
       "</div>"
      ],
      "text/plain": [
       "         Location                                   Dim2  \\\n",
       "0     Afghanistan                                  Total   \n",
       "1     Afghanistan                                  Total   \n",
       "2     Afghanistan                                  Total   \n",
       "6     Afghanistan           Lower respiratory infections   \n",
       "7     Afghanistan           Lower respiratory infections   \n",
       "...           ...                                    ...   \n",
       "6577     Zimbabwe                                 Stroke   \n",
       "6578     Zimbabwe                                 Stroke   \n",
       "6582     Zimbabwe  Chronic obstructive pulmonary disease   \n",
       "6583     Zimbabwe  Chronic obstructive pulmonary disease   \n",
       "6584     Zimbabwe  Chronic obstructive pulmonary disease   \n",
       "\n",
       "                                              Indicator  Period        Dim1  \\\n",
       "0     Ambient and household air pollution attributab...    2016  Both sexes   \n",
       "1     Ambient and household air pollution attributab...    2016        Male   \n",
       "2     Ambient and household air pollution attributab...    2016      Female   \n",
       "6     Ambient and household air pollution attributab...    2016  Both sexes   \n",
       "7     Ambient and household air pollution attributab...    2016        Male   \n",
       "...                                                 ...     ...         ...   \n",
       "6577  Ambient and household air pollution attributab...    2016        Male   \n",
       "6578  Ambient and household air pollution attributab...    2016      Female   \n",
       "6582  Ambient and household air pollution attributab...    2016  Both sexes   \n",
       "6583  Ambient and household air pollution attributab...    2016        Male   \n",
       "6584  Ambient and household air pollution attributab...    2016      Female   \n",
       "\n",
       "            First Tooltip Pollution death rate per 100 000  \\\n",
       "0     95.12 [85.12-104.3]                      85.12-104.3   \n",
       "1        95.58 [85.5-106]                         85.5-106   \n",
       "2     94.63 [84.55-103.9]                      84.55-103.9   \n",
       "6     31.26 [25.66-35.67]                      25.66-35.67   \n",
       "7      29.37 [24.07-33.6]                       24.07-33.6   \n",
       "...                   ...                              ...   \n",
       "6577     6.17 [5.26-7.21]                        5.26-7.21   \n",
       "6578       10.27 [8.7-12]                           8.7-12   \n",
       "6582     5.88 [4.26-7.26]                        4.26-7.26   \n",
       "6583     5.54 [2.74-7.66]                        2.74-7.66   \n",
       "6584      6.19 [4.73-7.3]                         4.73-7.3   \n",
       "\n",
       "      Point estimate pollution death rate per 100 000  \n",
       "0                                               95.12  \n",
       "1                                               95.58  \n",
       "2                                               94.63  \n",
       "6                                               31.26  \n",
       "7                                               29.37  \n",
       "...                                               ...  \n",
       "6577                                             6.17  \n",
       "6578                                            10.27  \n",
       "6582                                             5.88  \n",
       "6583                                             5.54  \n",
       "6584                                             6.19  \n",
       "\n",
       "[3294 rows x 8 columns]"
      ]
     },
     "execution_count": 20,
     "metadata": {},
     "output_type": "execute_result"
    }
   ],
   "source": [
    "split_interval_median(df_indicator_air, \"First Tooltip\", \"Pollution death rate per 100 000\", \"Point estimate pollution death rate per 100 000\")"
   ]
  },
  {
   "cell_type": "code",
   "execution_count": 21,
   "metadata": {},
   "outputs": [],
   "source": [
    "df_air_copy = drop_columns(df_indicator_air, columns_drop)"
   ]
  },
  {
   "cell_type": "code",
   "execution_count": 22,
   "metadata": {},
   "outputs": [
    {
     "name": "stderr",
     "output_type": "stream",
     "text": [
      "C:\\Users\\USUARIO\\AppData\\Local\\Temp\\ipykernel_32224\\3424376160.py:3: SettingWithCopyWarning: \n",
      "A value is trying to be set on a copy of a slice from a DataFrame.\n",
      "Try using .loc[row_indexer,col_indexer] = value instead\n",
      "\n",
      "See the caveats in the documentation: https://pandas.pydata.org/pandas-docs/stable/user_guide/indexing.html#returning-a-view-versus-a-copy\n",
      "  df[name_column] = df[column].str.extract(pattern, expand=False)\n",
      "C:\\Users\\USUARIO\\AppData\\Local\\Temp\\ipykernel_32224\\3424376160.py:4: SettingWithCopyWarning: \n",
      "A value is trying to be set on a copy of a slice from a DataFrame.\n",
      "Try using .loc[row_indexer,col_indexer] = value instead\n",
      "\n",
      "See the caveats in the documentation: https://pandas.pydata.org/pandas-docs/stable/user_guide/indexing.html#returning-a-view-versus-a-copy\n",
      "  df[median] = df[column].str.extract(r'(\\d+\\.\\d+|\\d+)', expand=False).astype(float)\n"
     ]
    },
    {
     "data": {
      "text/html": [
       "<div>\n",
       "<style scoped>\n",
       "    .dataframe tbody tr th:only-of-type {\n",
       "        vertical-align: middle;\n",
       "    }\n",
       "\n",
       "    .dataframe tbody tr th {\n",
       "        vertical-align: top;\n",
       "    }\n",
       "\n",
       "    .dataframe thead th {\n",
       "        text-align: right;\n",
       "    }\n",
       "</style>\n",
       "<table border=\"1\" class=\"dataframe\">\n",
       "  <thead>\n",
       "    <tr style=\"text-align: right;\">\n",
       "      <th></th>\n",
       "      <th>Location</th>\n",
       "      <th>Dim2</th>\n",
       "      <th>Indicator</th>\n",
       "      <th>Period</th>\n",
       "      <th>Dim1</th>\n",
       "      <th>First Tooltip</th>\n",
       "      <th>Pollution death rate per 100 000 standarized</th>\n",
       "      <th>Point estimate pollution death rate per 100 000 standarized</th>\n",
       "    </tr>\n",
       "  </thead>\n",
       "  <tbody>\n",
       "    <tr>\n",
       "      <th>3</th>\n",
       "      <td>Afghanistan</td>\n",
       "      <td>Total</td>\n",
       "      <td>Ambient and household air pollution attributab...</td>\n",
       "      <td>2016</td>\n",
       "      <td>Both sexes</td>\n",
       "      <td>211.1 [188.9-231.3]</td>\n",
       "      <td>188.9-231.3</td>\n",
       "      <td>211.10</td>\n",
       "    </tr>\n",
       "    <tr>\n",
       "      <th>4</th>\n",
       "      <td>Afghanistan</td>\n",
       "      <td>Total</td>\n",
       "      <td>Ambient and household air pollution attributab...</td>\n",
       "      <td>2016</td>\n",
       "      <td>Male</td>\n",
       "      <td>228.7 [204.6-253.6]</td>\n",
       "      <td>204.6-253.6</td>\n",
       "      <td>228.70</td>\n",
       "    </tr>\n",
       "    <tr>\n",
       "      <th>5</th>\n",
       "      <td>Afghanistan</td>\n",
       "      <td>Total</td>\n",
       "      <td>Ambient and household air pollution attributab...</td>\n",
       "      <td>2016</td>\n",
       "      <td>Female</td>\n",
       "      <td>194.7 [173.9-213.7]</td>\n",
       "      <td>173.9-213.7</td>\n",
       "      <td>194.70</td>\n",
       "    </tr>\n",
       "    <tr>\n",
       "      <th>9</th>\n",
       "      <td>Afghanistan</td>\n",
       "      <td>Lower respiratory infections</td>\n",
       "      <td>Ambient and household air pollution attributab...</td>\n",
       "      <td>2016</td>\n",
       "      <td>Both sexes</td>\n",
       "      <td>31.68 [26.01-36.15]</td>\n",
       "      <td>26.01-36.15</td>\n",
       "      <td>31.68</td>\n",
       "    </tr>\n",
       "    <tr>\n",
       "      <th>10</th>\n",
       "      <td>Afghanistan</td>\n",
       "      <td>Lower respiratory infections</td>\n",
       "      <td>Ambient and household air pollution attributab...</td>\n",
       "      <td>2016</td>\n",
       "      <td>Male</td>\n",
       "      <td>33.19 [27.21-37.97]</td>\n",
       "      <td>27.21-37.97</td>\n",
       "      <td>33.19</td>\n",
       "    </tr>\n",
       "    <tr>\n",
       "      <th>...</th>\n",
       "      <td>...</td>\n",
       "      <td>...</td>\n",
       "      <td>...</td>\n",
       "      <td>...</td>\n",
       "      <td>...</td>\n",
       "      <td>...</td>\n",
       "      <td>...</td>\n",
       "      <td>...</td>\n",
       "    </tr>\n",
       "    <tr>\n",
       "      <th>6580</th>\n",
       "      <td>Zimbabwe</td>\n",
       "      <td>Stroke</td>\n",
       "      <td>Ambient and household air pollution attributab...</td>\n",
       "      <td>2016</td>\n",
       "      <td>Male</td>\n",
       "      <td>16.48 [14.04-19.26]</td>\n",
       "      <td>14.04-19.26</td>\n",
       "      <td>16.48</td>\n",
       "    </tr>\n",
       "    <tr>\n",
       "      <th>6581</th>\n",
       "      <td>Zimbabwe</td>\n",
       "      <td>Stroke</td>\n",
       "      <td>Ambient and household air pollution attributab...</td>\n",
       "      <td>2016</td>\n",
       "      <td>Female</td>\n",
       "      <td>22.68 [19.22-26.5]</td>\n",
       "      <td>19.22-26.5</td>\n",
       "      <td>22.68</td>\n",
       "    </tr>\n",
       "    <tr>\n",
       "      <th>6585</th>\n",
       "      <td>Zimbabwe</td>\n",
       "      <td>Chronic obstructive pulmonary disease</td>\n",
       "      <td>Ambient and household air pollution attributab...</td>\n",
       "      <td>2016</td>\n",
       "      <td>Both sexes</td>\n",
       "      <td>16.09 [11.67-19.89]</td>\n",
       "      <td>11.67-19.89</td>\n",
       "      <td>16.09</td>\n",
       "    </tr>\n",
       "    <tr>\n",
       "      <th>6586</th>\n",
       "      <td>Zimbabwe</td>\n",
       "      <td>Chronic obstructive pulmonary disease</td>\n",
       "      <td>Ambient and household air pollution attributab...</td>\n",
       "      <td>2016</td>\n",
       "      <td>Male</td>\n",
       "      <td>17.72 [8.75-24.51]</td>\n",
       "      <td>8.75-24.51</td>\n",
       "      <td>17.72</td>\n",
       "    </tr>\n",
       "    <tr>\n",
       "      <th>6587</th>\n",
       "      <td>Zimbabwe</td>\n",
       "      <td>Chronic obstructive pulmonary disease</td>\n",
       "      <td>Ambient and household air pollution attributab...</td>\n",
       "      <td>2016</td>\n",
       "      <td>Female</td>\n",
       "      <td>14.95 [11.43-17.62]</td>\n",
       "      <td>11.43-17.62</td>\n",
       "      <td>14.95</td>\n",
       "    </tr>\n",
       "  </tbody>\n",
       "</table>\n",
       "<p>3294 rows × 8 columns</p>\n",
       "</div>"
      ],
      "text/plain": [
       "         Location                                   Dim2  \\\n",
       "3     Afghanistan                                  Total   \n",
       "4     Afghanistan                                  Total   \n",
       "5     Afghanistan                                  Total   \n",
       "9     Afghanistan           Lower respiratory infections   \n",
       "10    Afghanistan           Lower respiratory infections   \n",
       "...           ...                                    ...   \n",
       "6580     Zimbabwe                                 Stroke   \n",
       "6581     Zimbabwe                                 Stroke   \n",
       "6585     Zimbabwe  Chronic obstructive pulmonary disease   \n",
       "6586     Zimbabwe  Chronic obstructive pulmonary disease   \n",
       "6587     Zimbabwe  Chronic obstructive pulmonary disease   \n",
       "\n",
       "                                              Indicator  Period        Dim1  \\\n",
       "3     Ambient and household air pollution attributab...    2016  Both sexes   \n",
       "4     Ambient and household air pollution attributab...    2016        Male   \n",
       "5     Ambient and household air pollution attributab...    2016      Female   \n",
       "9     Ambient and household air pollution attributab...    2016  Both sexes   \n",
       "10    Ambient and household air pollution attributab...    2016        Male   \n",
       "...                                                 ...     ...         ...   \n",
       "6580  Ambient and household air pollution attributab...    2016        Male   \n",
       "6581  Ambient and household air pollution attributab...    2016      Female   \n",
       "6585  Ambient and household air pollution attributab...    2016  Both sexes   \n",
       "6586  Ambient and household air pollution attributab...    2016        Male   \n",
       "6587  Ambient and household air pollution attributab...    2016      Female   \n",
       "\n",
       "            First Tooltip Pollution death rate per 100 000 standarized  \\\n",
       "3     211.1 [188.9-231.3]                                  188.9-231.3   \n",
       "4     228.7 [204.6-253.6]                                  204.6-253.6   \n",
       "5     194.7 [173.9-213.7]                                  173.9-213.7   \n",
       "9     31.68 [26.01-36.15]                                  26.01-36.15   \n",
       "10    33.19 [27.21-37.97]                                  27.21-37.97   \n",
       "...                   ...                                          ...   \n",
       "6580  16.48 [14.04-19.26]                                  14.04-19.26   \n",
       "6581   22.68 [19.22-26.5]                                   19.22-26.5   \n",
       "6585  16.09 [11.67-19.89]                                  11.67-19.89   \n",
       "6586   17.72 [8.75-24.51]                                   8.75-24.51   \n",
       "6587  14.95 [11.43-17.62]                                  11.43-17.62   \n",
       "\n",
       "      Point estimate pollution death rate per 100 000 standarized  \n",
       "3                                                211.10            \n",
       "4                                                228.70            \n",
       "5                                                194.70            \n",
       "9                                                 31.68            \n",
       "10                                                33.19            \n",
       "...                                                 ...            \n",
       "6580                                              16.48            \n",
       "6581                                              22.68            \n",
       "6585                                              16.09            \n",
       "6586                                              17.72            \n",
       "6587                                              14.95            \n",
       "\n",
       "[3294 rows x 8 columns]"
      ]
     },
     "execution_count": 22,
     "metadata": {},
     "output_type": "execute_result"
    }
   ],
   "source": [
    "split_interval_median(df_indicator_air_normalized, \"First Tooltip\", \"Pollution death rate per 100 000 standarized\", \"Point estimate pollution death rate per 100 000 standarized\")"
   ]
  },
  {
   "cell_type": "code",
   "execution_count": 23,
   "metadata": {},
   "outputs": [],
   "source": [
    "df_air_copy_normalized = drop_columns(df_indicator_air_normalized, columns_drop)"
   ]
  },
  {
   "cell_type": "markdown",
   "metadata": {},
   "source": [
    "#### **Para el tercer dataframe**"
   ]
  },
  {
   "cell_type": "markdown",
   "metadata": {},
   "source": [
    "Ahora a explorar el tercer dataframe"
   ]
  },
  {
   "cell_type": "code",
   "execution_count": 24,
   "metadata": {},
   "outputs": [
    {
     "data": {
      "text/html": [
       "<div>\n",
       "<style scoped>\n",
       "    .dataframe tbody tr th:only-of-type {\n",
       "        vertical-align: middle;\n",
       "    }\n",
       "\n",
       "    .dataframe tbody tr th {\n",
       "        vertical-align: top;\n",
       "    }\n",
       "\n",
       "    .dataframe thead th {\n",
       "        text-align: right;\n",
       "    }\n",
       "</style>\n",
       "<table border=\"1\" class=\"dataframe\">\n",
       "  <thead>\n",
       "    <tr style=\"text-align: right;\">\n",
       "      <th></th>\n",
       "      <th>Location</th>\n",
       "      <th>Period</th>\n",
       "      <th>Indicator</th>\n",
       "      <th>Dim1</th>\n",
       "      <th>First Tooltip</th>\n",
       "    </tr>\n",
       "  </thead>\n",
       "  <tbody>\n",
       "    <tr>\n",
       "      <th>0</th>\n",
       "      <td>Afghanistan</td>\n",
       "      <td>2018</td>\n",
       "      <td>Total (recorded+unrecorded) alcohol per capita...</td>\n",
       "      <td>Both sexes</td>\n",
       "      <td>0.210</td>\n",
       "    </tr>\n",
       "    <tr>\n",
       "      <th>1</th>\n",
       "      <td>Afghanistan</td>\n",
       "      <td>2018</td>\n",
       "      <td>Total (recorded+unrecorded) alcohol per capita...</td>\n",
       "      <td>Male</td>\n",
       "      <td>0.360</td>\n",
       "    </tr>\n",
       "    <tr>\n",
       "      <th>2</th>\n",
       "      <td>Afghanistan</td>\n",
       "      <td>2018</td>\n",
       "      <td>Total (recorded+unrecorded) alcohol per capita...</td>\n",
       "      <td>Female</td>\n",
       "      <td>0.055</td>\n",
       "    </tr>\n",
       "    <tr>\n",
       "      <th>3</th>\n",
       "      <td>Afghanistan</td>\n",
       "      <td>2015</td>\n",
       "      <td>Total (recorded+unrecorded) alcohol per capita...</td>\n",
       "      <td>Both sexes</td>\n",
       "      <td>0.210</td>\n",
       "    </tr>\n",
       "    <tr>\n",
       "      <th>4</th>\n",
       "      <td>Afghanistan</td>\n",
       "      <td>2015</td>\n",
       "      <td>Total (recorded+unrecorded) alcohol per capita...</td>\n",
       "      <td>Male</td>\n",
       "      <td>0.350</td>\n",
       "    </tr>\n",
       "  </tbody>\n",
       "</table>\n",
       "</div>"
      ],
      "text/plain": [
       "      Location  Period                                          Indicator  \\\n",
       "0  Afghanistan    2018  Total (recorded+unrecorded) alcohol per capita...   \n",
       "1  Afghanistan    2018  Total (recorded+unrecorded) alcohol per capita...   \n",
       "2  Afghanistan    2018  Total (recorded+unrecorded) alcohol per capita...   \n",
       "3  Afghanistan    2015  Total (recorded+unrecorded) alcohol per capita...   \n",
       "4  Afghanistan    2015  Total (recorded+unrecorded) alcohol per capita...   \n",
       "\n",
       "         Dim1  First Tooltip  \n",
       "0  Both sexes          0.210  \n",
       "1        Male          0.360  \n",
       "2      Female          0.055  \n",
       "3  Both sexes          0.210  \n",
       "4        Male          0.350  "
      ]
     },
     "execution_count": 24,
     "metadata": {},
     "output_type": "execute_result"
    }
   ],
   "source": [
    "df_alcohol_substance_abuse.head()"
   ]
  },
  {
   "cell_type": "code",
   "execution_count": 25,
   "metadata": {},
   "outputs": [
    {
     "name": "stdout",
     "output_type": "stream",
     "text": [
      "<class 'pandas.core.frame.DataFrame'>\n",
      "RangeIndex: 2787 entries, 0 to 2786\n",
      "Data columns (total 5 columns):\n",
      " #   Column         Non-Null Count  Dtype  \n",
      "---  ------         --------------  -----  \n",
      " 0   Location       2787 non-null   object \n",
      " 1   Period         2787 non-null   int64  \n",
      " 2   Indicator      2787 non-null   object \n",
      " 3   Dim1           2787 non-null   object \n",
      " 4   First Tooltip  2787 non-null   float64\n",
      "dtypes: float64(1), int64(1), object(3)\n",
      "memory usage: 109.0+ KB\n"
     ]
    }
   ],
   "source": [
    "df_alcohol_substance_abuse.info()"
   ]
  },
  {
   "cell_type": "code",
   "execution_count": 26,
   "metadata": {},
   "outputs": [
    {
     "data": {
      "text/plain": [
       "array(['Total (recorded+unrecorded) alcohol per capita (15+) consumption'],\n",
       "      dtype=object)"
      ]
     },
     "execution_count": 26,
     "metadata": {},
     "output_type": "execute_result"
    }
   ],
   "source": [
    "df_alcohol_substance_abuse.Indicator.unique()"
   ]
  },
  {
   "cell_type": "code",
   "execution_count": 27,
   "metadata": {},
   "outputs": [],
   "source": [
    "df_alcohol_substance_abuse['Alcohol per capita (15+) consumption'] =df_alcohol_substance_abuse['First Tooltip']"
   ]
  },
  {
   "cell_type": "code",
   "execution_count": 28,
   "metadata": {},
   "outputs": [
    {
     "data": {
      "text/plain": [
       "188"
      ]
     },
     "execution_count": 28,
     "metadata": {},
     "output_type": "execute_result"
    }
   ],
   "source": [
    "df_alcohol_substance_abuse.Location.nunique()"
   ]
  },
  {
   "cell_type": "code",
   "execution_count": 29,
   "metadata": {},
   "outputs": [],
   "source": [
    "\n",
    "df_alcohol_copy = drop_columns(df_alcohol_substance_abuse, columns_drop)"
   ]
  },
  {
   "cell_type": "markdown",
   "metadata": {},
   "source": [
    "Vemos que existe una diferencia entre los paises que se encuentran en cada dataframe por lo que debe ser tenida en cuenta \n",
    "a la hora de unir los dataframes"
   ]
  },
  {
   "cell_type": "markdown",
   "metadata": {},
   "source": [
    "#### **Explorando el dataframe 4 se tiene**"
   ]
  },
  {
   "cell_type": "code",
   "execution_count": 30,
   "metadata": {},
   "outputs": [
    {
     "data": {
      "text/html": [
       "<div>\n",
       "<style scoped>\n",
       "    .dataframe tbody tr th:only-of-type {\n",
       "        vertical-align: middle;\n",
       "    }\n",
       "\n",
       "    .dataframe tbody tr th {\n",
       "        vertical-align: top;\n",
       "    }\n",
       "\n",
       "    .dataframe thead th {\n",
       "        text-align: right;\n",
       "    }\n",
       "</style>\n",
       "<table border=\"1\" class=\"dataframe\">\n",
       "  <thead>\n",
       "    <tr style=\"text-align: right;\">\n",
       "      <th></th>\n",
       "      <th>Location</th>\n",
       "      <th>Period</th>\n",
       "      <th>Indicator</th>\n",
       "      <th>Dim1</th>\n",
       "      <th>First Tooltip</th>\n",
       "    </tr>\n",
       "  </thead>\n",
       "  <tbody>\n",
       "    <tr>\n",
       "      <th>0</th>\n",
       "      <td>Afghanistan</td>\n",
       "      <td>2016</td>\n",
       "      <td>Crude suicide rates (per 100 000 population)</td>\n",
       "      <td>Both sexes</td>\n",
       "      <td>0.0</td>\n",
       "    </tr>\n",
       "    <tr>\n",
       "      <th>1</th>\n",
       "      <td>Afghanistan</td>\n",
       "      <td>2016</td>\n",
       "      <td>Crude suicide rates (per 100 000 population)</td>\n",
       "      <td>Male</td>\n",
       "      <td>0.0</td>\n",
       "    </tr>\n",
       "    <tr>\n",
       "      <th>2</th>\n",
       "      <td>Afghanistan</td>\n",
       "      <td>2016</td>\n",
       "      <td>Crude suicide rates (per 100 000 population)</td>\n",
       "      <td>Female</td>\n",
       "      <td>0.0</td>\n",
       "    </tr>\n",
       "    <tr>\n",
       "      <th>3</th>\n",
       "      <td>Afghanistan</td>\n",
       "      <td>2015</td>\n",
       "      <td>Crude suicide rates (per 100 000 population)</td>\n",
       "      <td>Both sexes</td>\n",
       "      <td>4.8</td>\n",
       "    </tr>\n",
       "    <tr>\n",
       "      <th>4</th>\n",
       "      <td>Afghanistan</td>\n",
       "      <td>2015</td>\n",
       "      <td>Crude suicide rates (per 100 000 population)</td>\n",
       "      <td>Male</td>\n",
       "      <td>7.8</td>\n",
       "    </tr>\n",
       "  </tbody>\n",
       "</table>\n",
       "</div>"
      ],
      "text/plain": [
       "      Location  Period                                     Indicator  \\\n",
       "0  Afghanistan    2016  Crude suicide rates (per 100 000 population)   \n",
       "1  Afghanistan    2016  Crude suicide rates (per 100 000 population)   \n",
       "2  Afghanistan    2016  Crude suicide rates (per 100 000 population)   \n",
       "3  Afghanistan    2015  Crude suicide rates (per 100 000 population)   \n",
       "4  Afghanistan    2015  Crude suicide rates (per 100 000 population)   \n",
       "\n",
       "         Dim1  First Tooltip  \n",
       "0  Both sexes            0.0  \n",
       "1        Male            0.0  \n",
       "2      Female            0.0  \n",
       "3  Both sexes            4.8  \n",
       "4        Male            7.8  "
      ]
     },
     "execution_count": 30,
     "metadata": {},
     "output_type": "execute_result"
    }
   ],
   "source": [
    "df_crude_suicide_rates.head()"
   ]
  },
  {
   "cell_type": "code",
   "execution_count": 31,
   "metadata": {},
   "outputs": [
    {
     "name": "stdout",
     "output_type": "stream",
     "text": [
      "<class 'pandas.core.frame.DataFrame'>\n",
      "RangeIndex: 2745 entries, 0 to 2744\n",
      "Data columns (total 5 columns):\n",
      " #   Column         Non-Null Count  Dtype  \n",
      "---  ------         --------------  -----  \n",
      " 0   Location       2745 non-null   object \n",
      " 1   Period         2745 non-null   int64  \n",
      " 2   Indicator      2745 non-null   object \n",
      " 3   Dim1           2745 non-null   object \n",
      " 4   First Tooltip  2745 non-null   float64\n",
      "dtypes: float64(1), int64(1), object(3)\n",
      "memory usage: 107.4+ KB\n"
     ]
    }
   ],
   "source": [
    "df_crude_suicide_rates.info()"
   ]
  },
  {
   "cell_type": "code",
   "execution_count": 32,
   "metadata": {},
   "outputs": [
    {
     "data": {
      "text/plain": [
       "array(['Crude suicide rates (per 100 000 population)'], dtype=object)"
      ]
     },
     "execution_count": 32,
     "metadata": {},
     "output_type": "execute_result"
    }
   ],
   "source": [
    "df_crude_suicide_rates.Indicator.unique()\n"
   ]
  },
  {
   "cell_type": "markdown",
   "metadata": {},
   "source": [
    "Acá se crea la columna para concatenar los dataframes"
   ]
  },
  {
   "cell_type": "code",
   "execution_count": 33,
   "metadata": {},
   "outputs": [],
   "source": [
    "df_crude_suicide_rates['Crude suicide rates per 100 000'] = df_crude_suicide_rates['First Tooltip'].copy()"
   ]
  },
  {
   "cell_type": "code",
   "execution_count": 34,
   "metadata": {},
   "outputs": [
    {
     "data": {
      "text/plain": [
       "184"
      ]
     },
     "execution_count": 34,
     "metadata": {},
     "output_type": "execute_result"
    }
   ],
   "source": [
    "df_crude_suicide_rates.Location.nunique()"
   ]
  },
  {
   "cell_type": "code",
   "execution_count": 35,
   "metadata": {},
   "outputs": [],
   "source": [
    "\n",
    "df_suicide_copy = drop_columns(df_crude_suicide_rates, columns_drop)"
   ]
  },
  {
   "cell_type": "markdown",
   "metadata": {},
   "source": [
    "#### **Ahora el dataframe 5**"
   ]
  },
  {
   "cell_type": "code",
   "execution_count": 36,
   "metadata": {},
   "outputs": [
    {
     "data": {
      "text/html": [
       "<div>\n",
       "<style scoped>\n",
       "    .dataframe tbody tr th:only-of-type {\n",
       "        vertical-align: middle;\n",
       "    }\n",
       "\n",
       "    .dataframe tbody tr th {\n",
       "        vertical-align: top;\n",
       "    }\n",
       "\n",
       "    .dataframe thead th {\n",
       "        text-align: right;\n",
       "    }\n",
       "</style>\n",
       "<table border=\"1\" class=\"dataframe\">\n",
       "  <thead>\n",
       "    <tr style=\"text-align: right;\">\n",
       "      <th></th>\n",
       "      <th>Location</th>\n",
       "      <th>Indicator</th>\n",
       "      <th>Period</th>\n",
       "      <th>First Tooltip</th>\n",
       "    </tr>\n",
       "  </thead>\n",
       "  <tbody>\n",
       "    <tr>\n",
       "      <th>0</th>\n",
       "      <td>Afghanistan</td>\n",
       "      <td>Incidence of tuberculosis (per 100 000 populat...</td>\n",
       "      <td>2019</td>\n",
       "      <td>189 [122-270]</td>\n",
       "    </tr>\n",
       "    <tr>\n",
       "      <th>1</th>\n",
       "      <td>Afghanistan</td>\n",
       "      <td>Incidence of tuberculosis (per 100 000 populat...</td>\n",
       "      <td>2018</td>\n",
       "      <td>189 [122-270]</td>\n",
       "    </tr>\n",
       "    <tr>\n",
       "      <th>2</th>\n",
       "      <td>Afghanistan</td>\n",
       "      <td>Incidence of tuberculosis (per 100 000 populat...</td>\n",
       "      <td>2017</td>\n",
       "      <td>189 [122-270]</td>\n",
       "    </tr>\n",
       "    <tr>\n",
       "      <th>3</th>\n",
       "      <td>Afghanistan</td>\n",
       "      <td>Incidence of tuberculosis (per 100 000 populat...</td>\n",
       "      <td>2016</td>\n",
       "      <td>189 [122-270]</td>\n",
       "    </tr>\n",
       "    <tr>\n",
       "      <th>4</th>\n",
       "      <td>Afghanistan</td>\n",
       "      <td>Incidence of tuberculosis (per 100 000 populat...</td>\n",
       "      <td>2015</td>\n",
       "      <td>189 [122-270]</td>\n",
       "    </tr>\n",
       "  </tbody>\n",
       "</table>\n",
       "</div>"
      ],
      "text/plain": [
       "      Location                                          Indicator  Period  \\\n",
       "0  Afghanistan  Incidence of tuberculosis (per 100 000 populat...    2019   \n",
       "1  Afghanistan  Incidence of tuberculosis (per 100 000 populat...    2018   \n",
       "2  Afghanistan  Incidence of tuberculosis (per 100 000 populat...    2017   \n",
       "3  Afghanistan  Incidence of tuberculosis (per 100 000 populat...    2016   \n",
       "4  Afghanistan  Incidence of tuberculosis (per 100 000 populat...    2015   \n",
       "\n",
       "   First Tooltip  \n",
       "0  189 [122-270]  \n",
       "1  189 [122-270]  \n",
       "2  189 [122-270]  \n",
       "3  189 [122-270]  \n",
       "4  189 [122-270]  "
      ]
     },
     "execution_count": 36,
     "metadata": {},
     "output_type": "execute_result"
    }
   ],
   "source": [
    "df_incidence_tuberculosis.head()"
   ]
  },
  {
   "cell_type": "code",
   "execution_count": 37,
   "metadata": {},
   "outputs": [
    {
     "data": {
      "text/html": [
       "<div>\n",
       "<style scoped>\n",
       "    .dataframe tbody tr th:only-of-type {\n",
       "        vertical-align: middle;\n",
       "    }\n",
       "\n",
       "    .dataframe tbody tr th {\n",
       "        vertical-align: top;\n",
       "    }\n",
       "\n",
       "    .dataframe thead th {\n",
       "        text-align: right;\n",
       "    }\n",
       "</style>\n",
       "<table border=\"1\" class=\"dataframe\">\n",
       "  <thead>\n",
       "    <tr style=\"text-align: right;\">\n",
       "      <th></th>\n",
       "      <th>Location</th>\n",
       "      <th>Indicator</th>\n",
       "      <th>Period</th>\n",
       "      <th>First Tooltip</th>\n",
       "      <th>Incidence of tuberculosis per 100 000</th>\n",
       "      <th>Point estimate incidence of tuberculosis</th>\n",
       "    </tr>\n",
       "  </thead>\n",
       "  <tbody>\n",
       "    <tr>\n",
       "      <th>0</th>\n",
       "      <td>Afghanistan</td>\n",
       "      <td>Incidence of tuberculosis (per 100 000 populat...</td>\n",
       "      <td>2019</td>\n",
       "      <td>189 [122-270]</td>\n",
       "      <td>122-270</td>\n",
       "      <td>189.0</td>\n",
       "    </tr>\n",
       "    <tr>\n",
       "      <th>1</th>\n",
       "      <td>Afghanistan</td>\n",
       "      <td>Incidence of tuberculosis (per 100 000 populat...</td>\n",
       "      <td>2018</td>\n",
       "      <td>189 [122-270]</td>\n",
       "      <td>122-270</td>\n",
       "      <td>189.0</td>\n",
       "    </tr>\n",
       "    <tr>\n",
       "      <th>2</th>\n",
       "      <td>Afghanistan</td>\n",
       "      <td>Incidence of tuberculosis (per 100 000 populat...</td>\n",
       "      <td>2017</td>\n",
       "      <td>189 [122-270]</td>\n",
       "      <td>122-270</td>\n",
       "      <td>189.0</td>\n",
       "    </tr>\n",
       "    <tr>\n",
       "      <th>3</th>\n",
       "      <td>Afghanistan</td>\n",
       "      <td>Incidence of tuberculosis (per 100 000 populat...</td>\n",
       "      <td>2016</td>\n",
       "      <td>189 [122-270]</td>\n",
       "      <td>122-270</td>\n",
       "      <td>189.0</td>\n",
       "    </tr>\n",
       "    <tr>\n",
       "      <th>4</th>\n",
       "      <td>Afghanistan</td>\n",
       "      <td>Incidence of tuberculosis (per 100 000 populat...</td>\n",
       "      <td>2015</td>\n",
       "      <td>189 [122-270]</td>\n",
       "      <td>122-270</td>\n",
       "      <td>189.0</td>\n",
       "    </tr>\n",
       "    <tr>\n",
       "      <th>...</th>\n",
       "      <td>...</td>\n",
       "      <td>...</td>\n",
       "      <td>...</td>\n",
       "      <td>...</td>\n",
       "      <td>...</td>\n",
       "      <td>...</td>\n",
       "    </tr>\n",
       "    <tr>\n",
       "      <th>3852</th>\n",
       "      <td>Zimbabwe</td>\n",
       "      <td>Incidence of tuberculosis (per 100 000 populat...</td>\n",
       "      <td>2004</td>\n",
       "      <td>607 [451-786]</td>\n",
       "      <td>451-786</td>\n",
       "      <td>607.0</td>\n",
       "    </tr>\n",
       "    <tr>\n",
       "      <th>3853</th>\n",
       "      <td>Zimbabwe</td>\n",
       "      <td>Incidence of tuberculosis (per 100 000 populat...</td>\n",
       "      <td>2003</td>\n",
       "      <td>617 [462-794]</td>\n",
       "      <td>462-794</td>\n",
       "      <td>617.0</td>\n",
       "    </tr>\n",
       "    <tr>\n",
       "      <th>3854</th>\n",
       "      <td>Zimbabwe</td>\n",
       "      <td>Incidence of tuberculosis (per 100 000 populat...</td>\n",
       "      <td>2002</td>\n",
       "      <td>617 [478-773]</td>\n",
       "      <td>478-773</td>\n",
       "      <td>617.0</td>\n",
       "    </tr>\n",
       "    <tr>\n",
       "      <th>3855</th>\n",
       "      <td>Zimbabwe</td>\n",
       "      <td>Incidence of tuberculosis (per 100 000 populat...</td>\n",
       "      <td>2001</td>\n",
       "      <td>617 [461-795]</td>\n",
       "      <td>461-795</td>\n",
       "      <td>617.0</td>\n",
       "    </tr>\n",
       "    <tr>\n",
       "      <th>3856</th>\n",
       "      <td>Zimbabwe</td>\n",
       "      <td>Incidence of tuberculosis (per 100 000 populat...</td>\n",
       "      <td>2000</td>\n",
       "      <td>605 [426-813]</td>\n",
       "      <td>426-813</td>\n",
       "      <td>605.0</td>\n",
       "    </tr>\n",
       "  </tbody>\n",
       "</table>\n",
       "<p>3857 rows × 6 columns</p>\n",
       "</div>"
      ],
      "text/plain": [
       "         Location                                          Indicator  Period  \\\n",
       "0     Afghanistan  Incidence of tuberculosis (per 100 000 populat...    2019   \n",
       "1     Afghanistan  Incidence of tuberculosis (per 100 000 populat...    2018   \n",
       "2     Afghanistan  Incidence of tuberculosis (per 100 000 populat...    2017   \n",
       "3     Afghanistan  Incidence of tuberculosis (per 100 000 populat...    2016   \n",
       "4     Afghanistan  Incidence of tuberculosis (per 100 000 populat...    2015   \n",
       "...           ...                                                ...     ...   \n",
       "3852     Zimbabwe  Incidence of tuberculosis (per 100 000 populat...    2004   \n",
       "3853     Zimbabwe  Incidence of tuberculosis (per 100 000 populat...    2003   \n",
       "3854     Zimbabwe  Incidence of tuberculosis (per 100 000 populat...    2002   \n",
       "3855     Zimbabwe  Incidence of tuberculosis (per 100 000 populat...    2001   \n",
       "3856     Zimbabwe  Incidence of tuberculosis (per 100 000 populat...    2000   \n",
       "\n",
       "      First Tooltip Incidence of tuberculosis per 100 000  \\\n",
       "0     189 [122-270]                               122-270   \n",
       "1     189 [122-270]                               122-270   \n",
       "2     189 [122-270]                               122-270   \n",
       "3     189 [122-270]                               122-270   \n",
       "4     189 [122-270]                               122-270   \n",
       "...             ...                                   ...   \n",
       "3852  607 [451-786]                               451-786   \n",
       "3853  617 [462-794]                               462-794   \n",
       "3854  617 [478-773]                               478-773   \n",
       "3855  617 [461-795]                               461-795   \n",
       "3856  605 [426-813]                               426-813   \n",
       "\n",
       "      Point estimate incidence of tuberculosis  \n",
       "0                                        189.0  \n",
       "1                                        189.0  \n",
       "2                                        189.0  \n",
       "3                                        189.0  \n",
       "4                                        189.0  \n",
       "...                                        ...  \n",
       "3852                                     607.0  \n",
       "3853                                     617.0  \n",
       "3854                                     617.0  \n",
       "3855                                     617.0  \n",
       "3856                                     605.0  \n",
       "\n",
       "[3857 rows x 6 columns]"
      ]
     },
     "execution_count": 37,
     "metadata": {},
     "output_type": "execute_result"
    }
   ],
   "source": [
    "split_interval_median(df_incidence_tuberculosis, \"First Tooltip\", \"Incidence of tuberculosis per 100 000\", \"Point estimate incidence of tuberculosis\")"
   ]
  },
  {
   "cell_type": "code",
   "execution_count": 38,
   "metadata": {},
   "outputs": [
    {
     "name": "stdout",
     "output_type": "stream",
     "text": [
      "<class 'pandas.core.frame.DataFrame'>\n",
      "RangeIndex: 3857 entries, 0 to 3856\n",
      "Data columns (total 6 columns):\n",
      " #   Column                                    Non-Null Count  Dtype  \n",
      "---  ------                                    --------------  -----  \n",
      " 0   Location                                  3857 non-null   object \n",
      " 1   Indicator                                 3857 non-null   object \n",
      " 2   Period                                    3857 non-null   int64  \n",
      " 3   First Tooltip                             3857 non-null   object \n",
      " 4   Incidence of tuberculosis per 100 000     3857 non-null   object \n",
      " 5   Point estimate incidence of tuberculosis  3857 non-null   float64\n",
      "dtypes: float64(1), int64(1), object(4)\n",
      "memory usage: 180.9+ KB\n"
     ]
    }
   ],
   "source": [
    "df_incidence_tuberculosis.info()"
   ]
  },
  {
   "cell_type": "code",
   "execution_count": 39,
   "metadata": {},
   "outputs": [
    {
     "data": {
      "text/plain": [
       "array(['Incidence of tuberculosis (per 100 000 population per year)'],\n",
       "      dtype=object)"
      ]
     },
     "execution_count": 39,
     "metadata": {},
     "output_type": "execute_result"
    }
   ],
   "source": [
    "df_incidence_tuberculosis.Indicator.unique()"
   ]
  },
  {
   "cell_type": "markdown",
   "metadata": {},
   "source": [
    "Ahora se crea la columna para concatenar los dataframes"
   ]
  },
  {
   "cell_type": "code",
   "execution_count": 40,
   "metadata": {},
   "outputs": [
    {
     "data": {
      "text/plain": [
       "195"
      ]
     },
     "execution_count": 40,
     "metadata": {},
     "output_type": "execute_result"
    }
   ],
   "source": [
    "df_incidence_tuberculosis.Location.nunique()"
   ]
  },
  {
   "cell_type": "code",
   "execution_count": 41,
   "metadata": {},
   "outputs": [],
   "source": [
    "\n",
    "df_tuberculosis_copy = drop_columns(df_incidence_tuberculosis, columns_drop)"
   ]
  },
  {
   "cell_type": "markdown",
   "metadata": {},
   "source": [
    "#### **Ahora el dataframe 6**"
   ]
  },
  {
   "cell_type": "code",
   "execution_count": 42,
   "metadata": {},
   "outputs": [
    {
     "data": {
      "text/html": [
       "<div>\n",
       "<style scoped>\n",
       "    .dataframe tbody tr th:only-of-type {\n",
       "        vertical-align: middle;\n",
       "    }\n",
       "\n",
       "    .dataframe tbody tr th {\n",
       "        vertical-align: top;\n",
       "    }\n",
       "\n",
       "    .dataframe thead th {\n",
       "        text-align: right;\n",
       "    }\n",
       "</style>\n",
       "<table border=\"1\" class=\"dataframe\">\n",
       "  <thead>\n",
       "    <tr style=\"text-align: right;\">\n",
       "      <th></th>\n",
       "      <th>Location</th>\n",
       "      <th>Period</th>\n",
       "      <th>Indicator</th>\n",
       "      <th>Dim1</th>\n",
       "      <th>First Tooltip</th>\n",
       "    </tr>\n",
       "  </thead>\n",
       "  <tbody>\n",
       "    <tr>\n",
       "      <th>0</th>\n",
       "      <td>Afghanistan</td>\n",
       "      <td>2019</td>\n",
       "      <td>Infant mortality rate (probability of dying be...</td>\n",
       "      <td>Both sexes</td>\n",
       "      <td>46.51 [37.71-55.82]</td>\n",
       "    </tr>\n",
       "    <tr>\n",
       "      <th>1</th>\n",
       "      <td>Afghanistan</td>\n",
       "      <td>2019</td>\n",
       "      <td>Infant mortality rate (probability of dying be...</td>\n",
       "      <td>Male</td>\n",
       "      <td>49.8 [40.2-59.95]</td>\n",
       "    </tr>\n",
       "    <tr>\n",
       "      <th>2</th>\n",
       "      <td>Afghanistan</td>\n",
       "      <td>2019</td>\n",
       "      <td>Infant mortality rate (probability of dying be...</td>\n",
       "      <td>Female</td>\n",
       "      <td>43.05 [34.82-51.96]</td>\n",
       "    </tr>\n",
       "    <tr>\n",
       "      <th>3</th>\n",
       "      <td>Afghanistan</td>\n",
       "      <td>2018</td>\n",
       "      <td>Infant mortality rate (probability of dying be...</td>\n",
       "      <td>Both sexes</td>\n",
       "      <td>48.04 [39.94-56.32]</td>\n",
       "    </tr>\n",
       "    <tr>\n",
       "      <th>4</th>\n",
       "      <td>Afghanistan</td>\n",
       "      <td>2018</td>\n",
       "      <td>Infant mortality rate (probability of dying be...</td>\n",
       "      <td>Male</td>\n",
       "      <td>51.35 [42.56-60.4]</td>\n",
       "    </tr>\n",
       "  </tbody>\n",
       "</table>\n",
       "</div>"
      ],
      "text/plain": [
       "      Location  Period                                          Indicator  \\\n",
       "0  Afghanistan    2019  Infant mortality rate (probability of dying be...   \n",
       "1  Afghanistan    2019  Infant mortality rate (probability of dying be...   \n",
       "2  Afghanistan    2019  Infant mortality rate (probability of dying be...   \n",
       "3  Afghanistan    2018  Infant mortality rate (probability of dying be...   \n",
       "4  Afghanistan    2018  Infant mortality rate (probability of dying be...   \n",
       "\n",
       "         Dim1        First Tooltip  \n",
       "0  Both sexes  46.51 [37.71-55.82]  \n",
       "1        Male    49.8 [40.2-59.95]  \n",
       "2      Female  43.05 [34.82-51.96]  \n",
       "3  Both sexes  48.04 [39.94-56.32]  \n",
       "4        Male   51.35 [42.56-60.4]  "
      ]
     },
     "execution_count": 42,
     "metadata": {},
     "output_type": "execute_result"
    }
   ],
   "source": [
    "df_infant_mortality_rate.head()"
   ]
  },
  {
   "cell_type": "code",
   "execution_count": 43,
   "metadata": {},
   "outputs": [
    {
     "name": "stdout",
     "output_type": "stream",
     "text": [
      "<class 'pandas.core.frame.DataFrame'>\n",
      "RangeIndex: 29999 entries, 0 to 29998\n",
      "Data columns (total 5 columns):\n",
      " #   Column         Non-Null Count  Dtype \n",
      "---  ------         --------------  ----- \n",
      " 0   Location       29999 non-null  object\n",
      " 1   Period         29999 non-null  int64 \n",
      " 2   Indicator      29999 non-null  object\n",
      " 3   Dim1           29999 non-null  object\n",
      " 4   First Tooltip  29999 non-null  object\n",
      "dtypes: int64(1), object(4)\n",
      "memory usage: 1.1+ MB\n"
     ]
    }
   ],
   "source": [
    "df_infant_mortality_rate.info()"
   ]
  },
  {
   "cell_type": "code",
   "execution_count": 44,
   "metadata": {},
   "outputs": [
    {
     "data": {
      "text/plain": [
       "0"
      ]
     },
     "execution_count": 44,
     "metadata": {},
     "output_type": "execute_result"
    }
   ],
   "source": [
    "df_infant_mortality_rate.duplicated().sum()"
   ]
  },
  {
   "cell_type": "code",
   "execution_count": 45,
   "metadata": {},
   "outputs": [
    {
     "data": {
      "text/plain": [
       "array(['Infant mortality rate (probability of dying between birth and age 1 per 1000 live births)'],\n",
       "      dtype=object)"
      ]
     },
     "execution_count": 45,
     "metadata": {},
     "output_type": "execute_result"
    }
   ],
   "source": [
    "df_infant_mortality_rate.Indicator.unique()"
   ]
  },
  {
   "cell_type": "code",
   "execution_count": 46,
   "metadata": {},
   "outputs": [
    {
     "data": {
      "text/html": [
       "<div>\n",
       "<style scoped>\n",
       "    .dataframe tbody tr th:only-of-type {\n",
       "        vertical-align: middle;\n",
       "    }\n",
       "\n",
       "    .dataframe tbody tr th {\n",
       "        vertical-align: top;\n",
       "    }\n",
       "\n",
       "    .dataframe thead th {\n",
       "        text-align: right;\n",
       "    }\n",
       "</style>\n",
       "<table border=\"1\" class=\"dataframe\">\n",
       "  <thead>\n",
       "    <tr style=\"text-align: right;\">\n",
       "      <th></th>\n",
       "      <th>Location</th>\n",
       "      <th>Period</th>\n",
       "      <th>Indicator</th>\n",
       "      <th>Dim1</th>\n",
       "      <th>First Tooltip</th>\n",
       "      <th>Infant mortality rate</th>\n",
       "      <th>Point estimate infant mortality rate</th>\n",
       "    </tr>\n",
       "  </thead>\n",
       "  <tbody>\n",
       "    <tr>\n",
       "      <th>0</th>\n",
       "      <td>Afghanistan</td>\n",
       "      <td>2019</td>\n",
       "      <td>Infant mortality rate (probability of dying be...</td>\n",
       "      <td>Both sexes</td>\n",
       "      <td>46.51 [37.71-55.82]</td>\n",
       "      <td>37.71-55.82</td>\n",
       "      <td>46.51</td>\n",
       "    </tr>\n",
       "    <tr>\n",
       "      <th>1</th>\n",
       "      <td>Afghanistan</td>\n",
       "      <td>2019</td>\n",
       "      <td>Infant mortality rate (probability of dying be...</td>\n",
       "      <td>Male</td>\n",
       "      <td>49.8 [40.2-59.95]</td>\n",
       "      <td>40.2-59.95</td>\n",
       "      <td>49.80</td>\n",
       "    </tr>\n",
       "    <tr>\n",
       "      <th>2</th>\n",
       "      <td>Afghanistan</td>\n",
       "      <td>2019</td>\n",
       "      <td>Infant mortality rate (probability of dying be...</td>\n",
       "      <td>Female</td>\n",
       "      <td>43.05 [34.82-51.96]</td>\n",
       "      <td>34.82-51.96</td>\n",
       "      <td>43.05</td>\n",
       "    </tr>\n",
       "    <tr>\n",
       "      <th>3</th>\n",
       "      <td>Afghanistan</td>\n",
       "      <td>2018</td>\n",
       "      <td>Infant mortality rate (probability of dying be...</td>\n",
       "      <td>Both sexes</td>\n",
       "      <td>48.04 [39.94-56.32]</td>\n",
       "      <td>39.94-56.32</td>\n",
       "      <td>48.04</td>\n",
       "    </tr>\n",
       "    <tr>\n",
       "      <th>4</th>\n",
       "      <td>Afghanistan</td>\n",
       "      <td>2018</td>\n",
       "      <td>Infant mortality rate (probability of dying be...</td>\n",
       "      <td>Male</td>\n",
       "      <td>51.35 [42.56-60.4]</td>\n",
       "      <td>42.56-60.4</td>\n",
       "      <td>51.35</td>\n",
       "    </tr>\n",
       "    <tr>\n",
       "      <th>...</th>\n",
       "      <td>...</td>\n",
       "      <td>...</td>\n",
       "      <td>...</td>\n",
       "      <td>...</td>\n",
       "      <td>...</td>\n",
       "      <td>...</td>\n",
       "      <td>...</td>\n",
       "    </tr>\n",
       "    <tr>\n",
       "      <th>29994</th>\n",
       "      <td>Timor-Leste</td>\n",
       "      <td>2002</td>\n",
       "      <td>Infant mortality rate (probability of dying be...</td>\n",
       "      <td>Both sexes</td>\n",
       "      <td>77.08 [70.29-84.49]</td>\n",
       "      <td>70.29-84.49</td>\n",
       "      <td>77.08</td>\n",
       "    </tr>\n",
       "    <tr>\n",
       "      <th>29995</th>\n",
       "      <td>Timor-Leste</td>\n",
       "      <td>2002</td>\n",
       "      <td>Infant mortality rate (probability of dying be...</td>\n",
       "      <td>Male</td>\n",
       "      <td>82.53 [74.86-90.67]</td>\n",
       "      <td>74.86-90.67</td>\n",
       "      <td>82.53</td>\n",
       "    </tr>\n",
       "    <tr>\n",
       "      <th>29996</th>\n",
       "      <td>Timor-Leste</td>\n",
       "      <td>2002</td>\n",
       "      <td>Infant mortality rate (probability of dying be...</td>\n",
       "      <td>Female</td>\n",
       "      <td>71.37 [64.81-78.76]</td>\n",
       "      <td>64.81-78.76</td>\n",
       "      <td>71.37</td>\n",
       "    </tr>\n",
       "    <tr>\n",
       "      <th>29997</th>\n",
       "      <td>Timor-Leste</td>\n",
       "      <td>2001</td>\n",
       "      <td>Infant mortality rate (probability of dying be...</td>\n",
       "      <td>Both sexes</td>\n",
       "      <td>80.96 [74.1-88.4]</td>\n",
       "      <td>74.1-88.4</td>\n",
       "      <td>80.96</td>\n",
       "    </tr>\n",
       "    <tr>\n",
       "      <th>29998</th>\n",
       "      <td>Timor-Leste</td>\n",
       "      <td>2001</td>\n",
       "      <td>Infant mortality rate (probability of dying be...</td>\n",
       "      <td>Male</td>\n",
       "      <td>86.46 [78.83-94.89]</td>\n",
       "      <td>78.83-94.89</td>\n",
       "      <td>86.46</td>\n",
       "    </tr>\n",
       "  </tbody>\n",
       "</table>\n",
       "<p>29999 rows × 7 columns</p>\n",
       "</div>"
      ],
      "text/plain": [
       "          Location  Period                                          Indicator  \\\n",
       "0      Afghanistan    2019  Infant mortality rate (probability of dying be...   \n",
       "1      Afghanistan    2019  Infant mortality rate (probability of dying be...   \n",
       "2      Afghanistan    2019  Infant mortality rate (probability of dying be...   \n",
       "3      Afghanistan    2018  Infant mortality rate (probability of dying be...   \n",
       "4      Afghanistan    2018  Infant mortality rate (probability of dying be...   \n",
       "...            ...     ...                                                ...   \n",
       "29994  Timor-Leste    2002  Infant mortality rate (probability of dying be...   \n",
       "29995  Timor-Leste    2002  Infant mortality rate (probability of dying be...   \n",
       "29996  Timor-Leste    2002  Infant mortality rate (probability of dying be...   \n",
       "29997  Timor-Leste    2001  Infant mortality rate (probability of dying be...   \n",
       "29998  Timor-Leste    2001  Infant mortality rate (probability of dying be...   \n",
       "\n",
       "             Dim1        First Tooltip Infant mortality rate  \\\n",
       "0      Both sexes  46.51 [37.71-55.82]           37.71-55.82   \n",
       "1            Male    49.8 [40.2-59.95]            40.2-59.95   \n",
       "2          Female  43.05 [34.82-51.96]           34.82-51.96   \n",
       "3      Both sexes  48.04 [39.94-56.32]           39.94-56.32   \n",
       "4            Male   51.35 [42.56-60.4]            42.56-60.4   \n",
       "...           ...                  ...                   ...   \n",
       "29994  Both sexes  77.08 [70.29-84.49]           70.29-84.49   \n",
       "29995        Male  82.53 [74.86-90.67]           74.86-90.67   \n",
       "29996      Female  71.37 [64.81-78.76]           64.81-78.76   \n",
       "29997  Both sexes    80.96 [74.1-88.4]             74.1-88.4   \n",
       "29998        Male  86.46 [78.83-94.89]           78.83-94.89   \n",
       "\n",
       "       Point estimate infant mortality rate  \n",
       "0                                     46.51  \n",
       "1                                     49.80  \n",
       "2                                     43.05  \n",
       "3                                     48.04  \n",
       "4                                     51.35  \n",
       "...                                     ...  \n",
       "29994                                 77.08  \n",
       "29995                                 82.53  \n",
       "29996                                 71.37  \n",
       "29997                                 80.96  \n",
       "29998                                 86.46  \n",
       "\n",
       "[29999 rows x 7 columns]"
      ]
     },
     "execution_count": 46,
     "metadata": {},
     "output_type": "execute_result"
    }
   ],
   "source": [
    "split_interval_median(df_infant_mortality_rate, \"First Tooltip\", \"Infant mortality rate\", \"Point estimate infant mortality rate\")"
   ]
  },
  {
   "cell_type": "code",
   "execution_count": 47,
   "metadata": {},
   "outputs": [
    {
     "data": {
      "text/plain": [
       "177"
      ]
     },
     "execution_count": 47,
     "metadata": {},
     "output_type": "execute_result"
    }
   ],
   "source": [
    "df_infant_mortality_rate.Location.nunique()"
   ]
  },
  {
   "cell_type": "code",
   "execution_count": 48,
   "metadata": {},
   "outputs": [],
   "source": [
    "\n",
    "df_infant_copy = drop_columns(df_infant_mortality_rate, columns_drop)"
   ]
  },
  {
   "cell_type": "markdown",
   "metadata": {},
   "source": [
    "#### **Ahora el septimo dataframe**"
   ]
  },
  {
   "cell_type": "code",
   "execution_count": 49,
   "metadata": {},
   "outputs": [
    {
     "data": {
      "text/html": [
       "<div>\n",
       "<style scoped>\n",
       "    .dataframe tbody tr th:only-of-type {\n",
       "        vertical-align: middle;\n",
       "    }\n",
       "\n",
       "    .dataframe tbody tr th {\n",
       "        vertical-align: top;\n",
       "    }\n",
       "\n",
       "    .dataframe thead th {\n",
       "        text-align: right;\n",
       "    }\n",
       "</style>\n",
       "<table border=\"1\" class=\"dataframe\">\n",
       "  <thead>\n",
       "    <tr style=\"text-align: right;\">\n",
       "      <th></th>\n",
       "      <th>Location</th>\n",
       "      <th>Period</th>\n",
       "      <th>Indicator</th>\n",
       "      <th>First Tooltip</th>\n",
       "    </tr>\n",
       "  </thead>\n",
       "  <tbody>\n",
       "    <tr>\n",
       "      <th>0</th>\n",
       "      <td>Afghanistan</td>\n",
       "      <td>2017</td>\n",
       "      <td>Maternal mortality ratio (per 100 000 live bir...</td>\n",
       "      <td>638 [427-1010]</td>\n",
       "    </tr>\n",
       "    <tr>\n",
       "      <th>1</th>\n",
       "      <td>Afghanistan</td>\n",
       "      <td>2016</td>\n",
       "      <td>Maternal mortality ratio (per 100 000 live bir...</td>\n",
       "      <td>673 [457-1040]</td>\n",
       "    </tr>\n",
       "    <tr>\n",
       "      <th>2</th>\n",
       "      <td>Afghanistan</td>\n",
       "      <td>2015</td>\n",
       "      <td>Maternal mortality ratio (per 100 000 live bir...</td>\n",
       "      <td>701 [501-1020]</td>\n",
       "    </tr>\n",
       "    <tr>\n",
       "      <th>3</th>\n",
       "      <td>Afghanistan</td>\n",
       "      <td>2014</td>\n",
       "      <td>Maternal mortality ratio (per 100 000 live bir...</td>\n",
       "      <td>786 [592-1080]</td>\n",
       "    </tr>\n",
       "    <tr>\n",
       "      <th>4</th>\n",
       "      <td>Afghanistan</td>\n",
       "      <td>2013</td>\n",
       "      <td>Maternal mortality ratio (per 100 000 live bir...</td>\n",
       "      <td>810 [617-1080]</td>\n",
       "    </tr>\n",
       "  </tbody>\n",
       "</table>\n",
       "</div>"
      ],
      "text/plain": [
       "      Location  Period                                          Indicator  \\\n",
       "0  Afghanistan    2017  Maternal mortality ratio (per 100 000 live bir...   \n",
       "1  Afghanistan    2016  Maternal mortality ratio (per 100 000 live bir...   \n",
       "2  Afghanistan    2015  Maternal mortality ratio (per 100 000 live bir...   \n",
       "3  Afghanistan    2014  Maternal mortality ratio (per 100 000 live bir...   \n",
       "4  Afghanistan    2013  Maternal mortality ratio (per 100 000 live bir...   \n",
       "\n",
       "    First Tooltip  \n",
       "0  638 [427-1010]  \n",
       "1  673 [457-1040]  \n",
       "2  701 [501-1020]  \n",
       "3  786 [592-1080]  \n",
       "4  810 [617-1080]  "
      ]
     },
     "execution_count": 49,
     "metadata": {},
     "output_type": "execute_result"
    }
   ],
   "source": [
    "df_maternal_mortality_ratio.head()"
   ]
  },
  {
   "cell_type": "code",
   "execution_count": 50,
   "metadata": {},
   "outputs": [
    {
     "name": "stdout",
     "output_type": "stream",
     "text": [
      "<class 'pandas.core.frame.DataFrame'>\n",
      "RangeIndex: 3294 entries, 0 to 3293\n",
      "Data columns (total 4 columns):\n",
      " #   Column         Non-Null Count  Dtype \n",
      "---  ------         --------------  ----- \n",
      " 0   Location       3294 non-null   object\n",
      " 1   Period         3294 non-null   int64 \n",
      " 2   Indicator      3294 non-null   object\n",
      " 3   First Tooltip  3294 non-null   object\n",
      "dtypes: int64(1), object(3)\n",
      "memory usage: 103.1+ KB\n"
     ]
    }
   ],
   "source": [
    "df_maternal_mortality_ratio.info()"
   ]
  },
  {
   "cell_type": "code",
   "execution_count": 51,
   "metadata": {},
   "outputs": [
    {
     "data": {
      "text/plain": [
       "0"
      ]
     },
     "execution_count": 51,
     "metadata": {},
     "output_type": "execute_result"
    }
   ],
   "source": [
    "df_maternal_mortality_ratio.duplicated().sum()"
   ]
  },
  {
   "cell_type": "code",
   "execution_count": 52,
   "metadata": {},
   "outputs": [
    {
     "data": {
      "text/plain": [
       "array(['Maternal mortality ratio (per 100 000 live births)'], dtype=object)"
      ]
     },
     "execution_count": 52,
     "metadata": {},
     "output_type": "execute_result"
    }
   ],
   "source": [
    "df_maternal_mortality_ratio.Indicator.unique()"
   ]
  },
  {
   "cell_type": "code",
   "execution_count": 53,
   "metadata": {},
   "outputs": [
    {
     "data": {
      "text/plain": [
       "184"
      ]
     },
     "execution_count": 53,
     "metadata": {},
     "output_type": "execute_result"
    }
   ],
   "source": [
    "df_maternal_mortality_ratio.Location.nunique()"
   ]
  },
  {
   "cell_type": "code",
   "execution_count": 54,
   "metadata": {},
   "outputs": [
    {
     "data": {
      "text/html": [
       "<div>\n",
       "<style scoped>\n",
       "    .dataframe tbody tr th:only-of-type {\n",
       "        vertical-align: middle;\n",
       "    }\n",
       "\n",
       "    .dataframe tbody tr th {\n",
       "        vertical-align: top;\n",
       "    }\n",
       "\n",
       "    .dataframe thead th {\n",
       "        text-align: right;\n",
       "    }\n",
       "</style>\n",
       "<table border=\"1\" class=\"dataframe\">\n",
       "  <thead>\n",
       "    <tr style=\"text-align: right;\">\n",
       "      <th></th>\n",
       "      <th>Location</th>\n",
       "      <th>Period</th>\n",
       "      <th>Indicator</th>\n",
       "      <th>First Tooltip</th>\n",
       "      <th>Maternal mortality ratio per 100 000</th>\n",
       "      <th>Point estimate maternal mortality ratio per 100 000</th>\n",
       "    </tr>\n",
       "  </thead>\n",
       "  <tbody>\n",
       "    <tr>\n",
       "      <th>0</th>\n",
       "      <td>Afghanistan</td>\n",
       "      <td>2017</td>\n",
       "      <td>Maternal mortality ratio (per 100 000 live bir...</td>\n",
       "      <td>638 [427-1010]</td>\n",
       "      <td>427-1010</td>\n",
       "      <td>638.0</td>\n",
       "    </tr>\n",
       "    <tr>\n",
       "      <th>1</th>\n",
       "      <td>Afghanistan</td>\n",
       "      <td>2016</td>\n",
       "      <td>Maternal mortality ratio (per 100 000 live bir...</td>\n",
       "      <td>673 [457-1040]</td>\n",
       "      <td>457-1040</td>\n",
       "      <td>673.0</td>\n",
       "    </tr>\n",
       "    <tr>\n",
       "      <th>2</th>\n",
       "      <td>Afghanistan</td>\n",
       "      <td>2015</td>\n",
       "      <td>Maternal mortality ratio (per 100 000 live bir...</td>\n",
       "      <td>701 [501-1020]</td>\n",
       "      <td>501-1020</td>\n",
       "      <td>701.0</td>\n",
       "    </tr>\n",
       "    <tr>\n",
       "      <th>3</th>\n",
       "      <td>Afghanistan</td>\n",
       "      <td>2014</td>\n",
       "      <td>Maternal mortality ratio (per 100 000 live bir...</td>\n",
       "      <td>786 [592-1080]</td>\n",
       "      <td>592-1080</td>\n",
       "      <td>786.0</td>\n",
       "    </tr>\n",
       "    <tr>\n",
       "      <th>4</th>\n",
       "      <td>Afghanistan</td>\n",
       "      <td>2013</td>\n",
       "      <td>Maternal mortality ratio (per 100 000 live bir...</td>\n",
       "      <td>810 [617-1080]</td>\n",
       "      <td>617-1080</td>\n",
       "      <td>810.0</td>\n",
       "    </tr>\n",
       "    <tr>\n",
       "      <th>...</th>\n",
       "      <td>...</td>\n",
       "      <td>...</td>\n",
       "      <td>...</td>\n",
       "      <td>...</td>\n",
       "      <td>...</td>\n",
       "      <td>...</td>\n",
       "    </tr>\n",
       "    <tr>\n",
       "      <th>3289</th>\n",
       "      <td>Zimbabwe</td>\n",
       "      <td>2004</td>\n",
       "      <td>Maternal mortality ratio (per 100 000 live bir...</td>\n",
       "      <td>686 [597-784]</td>\n",
       "      <td>597-784</td>\n",
       "      <td>686.0</td>\n",
       "    </tr>\n",
       "    <tr>\n",
       "      <th>3290</th>\n",
       "      <td>Zimbabwe</td>\n",
       "      <td>2003</td>\n",
       "      <td>Maternal mortality ratio (per 100 000 live bir...</td>\n",
       "      <td>680 [590-779]</td>\n",
       "      <td>590-779</td>\n",
       "      <td>680.0</td>\n",
       "    </tr>\n",
       "    <tr>\n",
       "      <th>3291</th>\n",
       "      <td>Zimbabwe</td>\n",
       "      <td>2002</td>\n",
       "      <td>Maternal mortality ratio (per 100 000 live bir...</td>\n",
       "      <td>666 [577-766]</td>\n",
       "      <td>577-766</td>\n",
       "      <td>666.0</td>\n",
       "    </tr>\n",
       "    <tr>\n",
       "      <th>3292</th>\n",
       "      <td>Zimbabwe</td>\n",
       "      <td>2001</td>\n",
       "      <td>Maternal mortality ratio (per 100 000 live bir...</td>\n",
       "      <td>629 [544-723]</td>\n",
       "      <td>544-723</td>\n",
       "      <td>629.0</td>\n",
       "    </tr>\n",
       "    <tr>\n",
       "      <th>3293</th>\n",
       "      <td>Zimbabwe</td>\n",
       "      <td>2000</td>\n",
       "      <td>Maternal mortality ratio (per 100 000 live bir...</td>\n",
       "      <td>579 [500-667]</td>\n",
       "      <td>500-667</td>\n",
       "      <td>579.0</td>\n",
       "    </tr>\n",
       "  </tbody>\n",
       "</table>\n",
       "<p>3294 rows × 6 columns</p>\n",
       "</div>"
      ],
      "text/plain": [
       "         Location  Period                                          Indicator  \\\n",
       "0     Afghanistan    2017  Maternal mortality ratio (per 100 000 live bir...   \n",
       "1     Afghanistan    2016  Maternal mortality ratio (per 100 000 live bir...   \n",
       "2     Afghanistan    2015  Maternal mortality ratio (per 100 000 live bir...   \n",
       "3     Afghanistan    2014  Maternal mortality ratio (per 100 000 live bir...   \n",
       "4     Afghanistan    2013  Maternal mortality ratio (per 100 000 live bir...   \n",
       "...           ...     ...                                                ...   \n",
       "3289     Zimbabwe    2004  Maternal mortality ratio (per 100 000 live bir...   \n",
       "3290     Zimbabwe    2003  Maternal mortality ratio (per 100 000 live bir...   \n",
       "3291     Zimbabwe    2002  Maternal mortality ratio (per 100 000 live bir...   \n",
       "3292     Zimbabwe    2001  Maternal mortality ratio (per 100 000 live bir...   \n",
       "3293     Zimbabwe    2000  Maternal mortality ratio (per 100 000 live bir...   \n",
       "\n",
       "       First Tooltip Maternal mortality ratio per 100 000  \\\n",
       "0     638 [427-1010]                             427-1010   \n",
       "1     673 [457-1040]                             457-1040   \n",
       "2     701 [501-1020]                             501-1020   \n",
       "3     786 [592-1080]                             592-1080   \n",
       "4     810 [617-1080]                             617-1080   \n",
       "...              ...                                  ...   \n",
       "3289   686 [597-784]                              597-784   \n",
       "3290   680 [590-779]                              590-779   \n",
       "3291   666 [577-766]                              577-766   \n",
       "3292   629 [544-723]                              544-723   \n",
       "3293   579 [500-667]                              500-667   \n",
       "\n",
       "      Point estimate maternal mortality ratio per 100 000  \n",
       "0                                                 638.0    \n",
       "1                                                 673.0    \n",
       "2                                                 701.0    \n",
       "3                                                 786.0    \n",
       "4                                                 810.0    \n",
       "...                                                 ...    \n",
       "3289                                              686.0    \n",
       "3290                                              680.0    \n",
       "3291                                              666.0    \n",
       "3292                                              629.0    \n",
       "3293                                              579.0    \n",
       "\n",
       "[3294 rows x 6 columns]"
      ]
     },
     "execution_count": 54,
     "metadata": {},
     "output_type": "execute_result"
    }
   ],
   "source": [
    "split_interval_median(df_maternal_mortality_ratio, \"First Tooltip\", \"Maternal mortality ratio per 100 000\", \"Point estimate maternal mortality ratio per 100 000\")"
   ]
  },
  {
   "cell_type": "code",
   "execution_count": 55,
   "metadata": {},
   "outputs": [],
   "source": [
    "df_maternal_copy = drop_columns(df_maternal_mortality_ratio, columns_drop)"
   ]
  },
  {
   "cell_type": "markdown",
   "metadata": {},
   "source": [
    "#### **Para el octavo dataframe**"
   ]
  },
  {
   "cell_type": "code",
   "execution_count": 56,
   "metadata": {},
   "outputs": [
    {
     "data": {
      "text/html": [
       "<div>\n",
       "<style scoped>\n",
       "    .dataframe tbody tr th:only-of-type {\n",
       "        vertical-align: middle;\n",
       "    }\n",
       "\n",
       "    .dataframe tbody tr th {\n",
       "        vertical-align: top;\n",
       "    }\n",
       "\n",
       "    .dataframe thead th {\n",
       "        text-align: right;\n",
       "    }\n",
       "</style>\n",
       "<table border=\"1\" class=\"dataframe\">\n",
       "  <thead>\n",
       "    <tr style=\"text-align: right;\">\n",
       "      <th></th>\n",
       "      <th>Location</th>\n",
       "      <th>Indicator</th>\n",
       "      <th>Period</th>\n",
       "      <th>First Tooltip</th>\n",
       "    </tr>\n",
       "  </thead>\n",
       "  <tbody>\n",
       "    <tr>\n",
       "      <th>0</th>\n",
       "      <td>Afghanistan</td>\n",
       "      <td>Estimated road traffic death rate (per 100 000...</td>\n",
       "      <td>2016</td>\n",
       "      <td>15.1</td>\n",
       "    </tr>\n",
       "    <tr>\n",
       "      <th>1</th>\n",
       "      <td>Albania</td>\n",
       "      <td>Estimated road traffic death rate (per 100 000...</td>\n",
       "      <td>2016</td>\n",
       "      <td>13.6</td>\n",
       "    </tr>\n",
       "    <tr>\n",
       "      <th>2</th>\n",
       "      <td>Angola</td>\n",
       "      <td>Estimated road traffic death rate (per 100 000...</td>\n",
       "      <td>2016</td>\n",
       "      <td>23.6</td>\n",
       "    </tr>\n",
       "    <tr>\n",
       "      <th>3</th>\n",
       "      <td>Antigua and Barbuda</td>\n",
       "      <td>Estimated road traffic death rate (per 100 000...</td>\n",
       "      <td>2016</td>\n",
       "      <td>7.9</td>\n",
       "    </tr>\n",
       "    <tr>\n",
       "      <th>4</th>\n",
       "      <td>Argentina</td>\n",
       "      <td>Estimated road traffic death rate (per 100 000...</td>\n",
       "      <td>2016</td>\n",
       "      <td>14.0</td>\n",
       "    </tr>\n",
       "  </tbody>\n",
       "</table>\n",
       "</div>"
      ],
      "text/plain": [
       "              Location                                          Indicator  \\\n",
       "0          Afghanistan  Estimated road traffic death rate (per 100 000...   \n",
       "1              Albania  Estimated road traffic death rate (per 100 000...   \n",
       "2               Angola  Estimated road traffic death rate (per 100 000...   \n",
       "3  Antigua and Barbuda  Estimated road traffic death rate (per 100 000...   \n",
       "4            Argentina  Estimated road traffic death rate (per 100 000...   \n",
       "\n",
       "   Period  First Tooltip  \n",
       "0    2016           15.1  \n",
       "1    2016           13.6  \n",
       "2    2016           23.6  \n",
       "3    2016            7.9  \n",
       "4    2016           14.0  "
      ]
     },
     "execution_count": 56,
     "metadata": {},
     "output_type": "execute_result"
    }
   ],
   "source": [
    "df_road_traffic_deaths.head()"
   ]
  },
  {
   "cell_type": "code",
   "execution_count": 57,
   "metadata": {},
   "outputs": [
    {
     "name": "stdout",
     "output_type": "stream",
     "text": [
      "<class 'pandas.core.frame.DataFrame'>\n",
      "RangeIndex: 175 entries, 0 to 174\n",
      "Data columns (total 4 columns):\n",
      " #   Column         Non-Null Count  Dtype  \n",
      "---  ------         --------------  -----  \n",
      " 0   Location       175 non-null    object \n",
      " 1   Indicator      175 non-null    object \n",
      " 2   Period         175 non-null    int64  \n",
      " 3   First Tooltip  175 non-null    float64\n",
      "dtypes: float64(1), int64(1), object(2)\n",
      "memory usage: 5.6+ KB\n"
     ]
    }
   ],
   "source": [
    "df_road_traffic_deaths.info()"
   ]
  },
  {
   "cell_type": "code",
   "execution_count": 58,
   "metadata": {},
   "outputs": [
    {
     "data": {
      "text/plain": [
       "array(['Estimated road traffic death rate (per 100 000 population)'],\n",
       "      dtype=object)"
      ]
     },
     "execution_count": 58,
     "metadata": {},
     "output_type": "execute_result"
    }
   ],
   "source": [
    "df_road_traffic_deaths.Indicator.unique()"
   ]
  },
  {
   "cell_type": "code",
   "execution_count": 59,
   "metadata": {},
   "outputs": [],
   "source": [
    "df_road_traffic_deaths['Road traffic death rate (per 100 000'] = df_road_traffic_deaths['First Tooltip'].copy()"
   ]
  },
  {
   "cell_type": "code",
   "execution_count": 60,
   "metadata": {},
   "outputs": [],
   "source": [
    "df_traffic_copy = drop_columns(df_road_traffic_deaths, columns_drop)"
   ]
  },
  {
   "cell_type": "markdown",
   "metadata": {},
   "source": [
    "#### **Ahora el ultimo dataframe**"
   ]
  },
  {
   "cell_type": "code",
   "execution_count": 61,
   "metadata": {},
   "outputs": [
    {
     "data": {
      "text/html": [
       "<div>\n",
       "<style scoped>\n",
       "    .dataframe tbody tr th:only-of-type {\n",
       "        vertical-align: middle;\n",
       "    }\n",
       "\n",
       "    .dataframe tbody tr th {\n",
       "        vertical-align: top;\n",
       "    }\n",
       "\n",
       "    .dataframe thead th {\n",
       "        text-align: right;\n",
       "    }\n",
       "</style>\n",
       "<table border=\"1\" class=\"dataframe\">\n",
       "  <thead>\n",
       "    <tr style=\"text-align: right;\">\n",
       "      <th></th>\n",
       "      <th>Location</th>\n",
       "      <th>Indicator</th>\n",
       "      <th>Period</th>\n",
       "      <th>Dim1</th>\n",
       "      <th>First Tooltip</th>\n",
       "    </tr>\n",
       "  </thead>\n",
       "  <tbody>\n",
       "    <tr>\n",
       "      <th>0</th>\n",
       "      <td>Albania</td>\n",
       "      <td>Age-standardized prevalence of current tobacco...</td>\n",
       "      <td>2018</td>\n",
       "      <td>Both sexes</td>\n",
       "      <td>29.2</td>\n",
       "    </tr>\n",
       "    <tr>\n",
       "      <th>1</th>\n",
       "      <td>Albania</td>\n",
       "      <td>Age-standardized prevalence of current tobacco...</td>\n",
       "      <td>2018</td>\n",
       "      <td>Male</td>\n",
       "      <td>50.5</td>\n",
       "    </tr>\n",
       "    <tr>\n",
       "      <th>2</th>\n",
       "      <td>Albania</td>\n",
       "      <td>Age-standardized prevalence of current tobacco...</td>\n",
       "      <td>2018</td>\n",
       "      <td>Female</td>\n",
       "      <td>7.9</td>\n",
       "    </tr>\n",
       "    <tr>\n",
       "      <th>3</th>\n",
       "      <td>Albania</td>\n",
       "      <td>Age-standardized prevalence of current tobacco...</td>\n",
       "      <td>2017</td>\n",
       "      <td>Both sexes</td>\n",
       "      <td>29.3</td>\n",
       "    </tr>\n",
       "    <tr>\n",
       "      <th>4</th>\n",
       "      <td>Albania</td>\n",
       "      <td>Age-standardized prevalence of current tobacco...</td>\n",
       "      <td>2017</td>\n",
       "      <td>Male</td>\n",
       "      <td>50.6</td>\n",
       "    </tr>\n",
       "  </tbody>\n",
       "</table>\n",
       "</div>"
      ],
      "text/plain": [
       "  Location                                          Indicator  Period  \\\n",
       "0  Albania  Age-standardized prevalence of current tobacco...    2018   \n",
       "1  Albania  Age-standardized prevalence of current tobacco...    2018   \n",
       "2  Albania  Age-standardized prevalence of current tobacco...    2018   \n",
       "3  Albania  Age-standardized prevalence of current tobacco...    2017   \n",
       "4  Albania  Age-standardized prevalence of current tobacco...    2017   \n",
       "\n",
       "         Dim1  First Tooltip  \n",
       "0  Both sexes           29.2  \n",
       "1        Male           50.5  \n",
       "2      Female            7.9  \n",
       "3  Both sexes           29.3  \n",
       "4        Male           50.6  "
      ]
     },
     "execution_count": 61,
     "metadata": {},
     "output_type": "execute_result"
    }
   ],
   "source": [
    "df_tobacco_age.head()"
   ]
  },
  {
   "cell_type": "code",
   "execution_count": 62,
   "metadata": {},
   "outputs": [
    {
     "name": "stdout",
     "output_type": "stream",
     "text": [
      "<class 'pandas.core.frame.DataFrame'>\n",
      "RangeIndex: 4023 entries, 0 to 4022\n",
      "Data columns (total 5 columns):\n",
      " #   Column         Non-Null Count  Dtype  \n",
      "---  ------         --------------  -----  \n",
      " 0   Location       4023 non-null   object \n",
      " 1   Indicator      4023 non-null   object \n",
      " 2   Period         4023 non-null   int64  \n",
      " 3   Dim1           4023 non-null   object \n",
      " 4   First Tooltip  4023 non-null   float64\n",
      "dtypes: float64(1), int64(1), object(3)\n",
      "memory usage: 157.3+ KB\n"
     ]
    }
   ],
   "source": [
    "df_tobacco_age.info()"
   ]
  },
  {
   "cell_type": "code",
   "execution_count": 63,
   "metadata": {},
   "outputs": [
    {
     "data": {
      "text/plain": [
       "0"
      ]
     },
     "execution_count": 63,
     "metadata": {},
     "output_type": "execute_result"
    }
   ],
   "source": [
    "df_tobacco_age.duplicated().sum()"
   ]
  },
  {
   "cell_type": "code",
   "execution_count": 64,
   "metadata": {},
   "outputs": [
    {
     "data": {
      "text/plain": [
       "array(['Age-standardized prevalence of current tobacco smoking among persons aged 15 years and older'],\n",
       "      dtype=object)"
      ]
     },
     "execution_count": 64,
     "metadata": {},
     "output_type": "execute_result"
    }
   ],
   "source": [
    "df_tobacco_age.Indicator.unique()"
   ]
  },
  {
   "cell_type": "code",
   "execution_count": 65,
   "metadata": {},
   "outputs": [
    {
     "data": {
      "text/plain": [
       "149"
      ]
     },
     "execution_count": 65,
     "metadata": {},
     "output_type": "execute_result"
    }
   ],
   "source": [
    "df_tobacco_age.Location.nunique()"
   ]
  },
  {
   "cell_type": "code",
   "execution_count": 66,
   "metadata": {},
   "outputs": [],
   "source": [
    "df_tobacco_age['Prevalence of current tobacco smoking (15+)'] = df_tobacco_age['First Tooltip'].copy()"
   ]
  },
  {
   "cell_type": "code",
   "execution_count": 67,
   "metadata": {},
   "outputs": [],
   "source": [
    "\n",
    "df_tobacco_copy = drop_columns(df_tobacco_age, columns_drop)"
   ]
  },
  {
   "cell_type": "markdown",
   "metadata": {},
   "source": [
    "Se añade la columna para hacer el cruce."
   ]
  },
  {
   "cell_type": "markdown",
   "metadata": {},
   "source": [
    "La estrategia sera unir los dataframes a traves de la columna pais, año y los indicadores seran las columnas del nuevo \n",
    "dataframe, primero se realizara este procedimiento con los dataframes que no tengan indicadores categorizados por sexo.\n",
    "\n",
    "Estos son: df_maternal_copy, df_tuberculosis_copy, df_traffic_copy"
   ]
  },
  {
   "cell_type": "markdown",
   "metadata": {},
   "source": [
    "##### **Se crea una función para hacer el cruce**"
   ]
  },
  {
   "cell_type": "code",
   "execution_count": 68,
   "metadata": {},
   "outputs": [],
   "source": [
    "def concatenate_dfs_in_sequence(df_list, merge_columns, merge_how=\"outer\"):\n",
    "\n",
    "    concatenated_result = pd.merge(df_list[0], df_list[1], on=merge_columns, how=merge_how)\n",
    "\n",
    "    for df in df_list[2:]:\n",
    "        concatenated_result = pd.merge(concatenated_result, df, on=merge_columns, how=merge_how)\n",
    "\n",
    "    return concatenated_result\n"
   ]
  },
  {
   "cell_type": "code",
   "execution_count": 69,
   "metadata": {},
   "outputs": [],
   "source": [
    "list_dataframes_nodim = [df_maternal_copy, df_tuberculosis_copy, df_traffic_copy]\n",
    "merge_columns_first = [\"Location\", \"Period\"]\n",
    "df_final = concatenate_dfs_in_sequence(list_dataframes_nodim, merge_columns_first, merge_how=\"outer\")\n"
   ]
  },
  {
   "cell_type": "markdown",
   "metadata": {},
   "source": [
    "Solo se dejaran los indicadores, en caso de que solo se encuentre un indicador el otro será null"
   ]
  },
  {
   "cell_type": "markdown",
   "metadata": {},
   "source": [
    "Ahora para trabajar con el resto de dataframes que si tienen la variable sexo se añadirá una columna que contenga el sexo y que será \n",
    "la clave para combinar el resto de dataframes."
   ]
  },
  {
   "cell_type": "code",
   "execution_count": 70,
   "metadata": {},
   "outputs": [],
   "source": [
    "df_final.loc[:, 'Dim1'] = 'Both sexes'"
   ]
  },
  {
   "cell_type": "markdown",
   "metadata": {},
   "source": [
    "Se concatenarán todos aquellos dataframes que tengan la columna localización, dim1, pais excluyendo el que tiene dim2 que se le dará otro manejo.\n",
    "\n",
    "\n",
    "La lista es la siguiente, los que se marcan con (-) serán los incluidos:\n",
    "\n",
    "\n",
    "\n",
    "df_airpollution_death_rate --\n",
    "\n",
    "df_age_copy --\n",
    "\n",
    "df_alcohol_copy **\n",
    "\n",
    "df_suicide_copy --\n",
    "\n",
    "df_tuberculosis_copy **\n",
    "\n",
    "df_infant_copy --\n",
    "\n",
    "df_maternal_copy **\n",
    "\n",
    "df_tobacco_copy --\n",
    "\n",
    "df_traffic_copy --\n",
    "\n",
    "df_air_copy_normalized --\n",
    "\n",
    "df_air_copy --\n"
   ]
  },
  {
   "cell_type": "code",
   "execution_count": 71,
   "metadata": {},
   "outputs": [],
   "source": [
    "list_dataframes_air = [df_air_copy_normalized\n",
    ",df_air_copy]\n",
    "merge_columns_air = [\"Location\", \"Period\", \"Dim1\", \"Dim2\"]\n",
    "merge_how = \"outer\"\n",
    "df_str_air = concatenate_dfs_in_sequence(list_dataframes_air, merge_columns_air, merge_how)\n"
   ]
  },
  {
   "cell_type": "code",
   "execution_count": 72,
   "metadata": {},
   "outputs": [],
   "source": [
    "list_dataframes = [df_age_copy, df_suicide_copy, df_infant_copy,\n",
    " df_tobacco_copy, df_final, df_alcohol_copy, df_str_air]"
   ]
  },
  {
   "cell_type": "code",
   "execution_count": 73,
   "metadata": {},
   "outputs": [],
   "source": [
    "merge_columns = [\"Location\", \"Period\", \"Dim1\"]\n",
    "merge_how = \"outer\"\n",
    "df_structured = concatenate_dfs_in_sequence(list_dataframes, merge_columns, merge_how)\n"
   ]
  },
  {
   "cell_type": "markdown",
   "metadata": {},
   "source": [
    " Cambiar el nombre de algunas columnas que no brindan información"
   ]
  },
  {
   "cell_type": "code",
   "execution_count": 74,
   "metadata": {},
   "outputs": [],
   "source": [
    "nuevos_nombres = {\n",
    "    'Dim1': 'Gender',\n",
    "    'Dim2': 'Cause'\n",
    "}\n",
    "df_structured.rename(columns=nuevos_nombres, inplace=True)"
   ]
  },
  {
   "cell_type": "markdown",
   "metadata": {},
   "source": [
    "# **Se construyó una estructura con todos los datos disponibles**"
   ]
  },
  {
   "cell_type": "code",
   "execution_count": 75,
   "metadata": {},
   "outputs": [
    {
     "data": {
      "text/html": [
       "<div>\n",
       "<style scoped>\n",
       "    .dataframe tbody tr th:only-of-type {\n",
       "        vertical-align: middle;\n",
       "    }\n",
       "\n",
       "    .dataframe tbody tr th {\n",
       "        vertical-align: top;\n",
       "    }\n",
       "\n",
       "    .dataframe thead th {\n",
       "        text-align: right;\n",
       "    }\n",
       "</style>\n",
       "<table border=\"1\" class=\"dataframe\">\n",
       "  <thead>\n",
       "    <tr style=\"text-align: right;\">\n",
       "      <th></th>\n",
       "      <th>Location</th>\n",
       "      <th>Period</th>\n",
       "      <th>Gender</th>\n",
       "      <th>Probability of dying 30-70</th>\n",
       "      <th>Crude suicide rates per 100 000</th>\n",
       "      <th>Infant mortality rate</th>\n",
       "      <th>Point estimate infant mortality rate</th>\n",
       "      <th>Prevalence of current tobacco smoking (15+)</th>\n",
       "      <th>Maternal mortality ratio per 100 000</th>\n",
       "      <th>Point estimate maternal mortality ratio per 100 000</th>\n",
       "      <th>Incidence of tuberculosis per 100 000</th>\n",
       "      <th>Point estimate incidence of tuberculosis</th>\n",
       "      <th>Road traffic death rate (per 100 000</th>\n",
       "      <th>Alcohol per capita (15+) consumption</th>\n",
       "      <th>Cause</th>\n",
       "      <th>Pollution death rate per 100 000 standarized</th>\n",
       "      <th>Point estimate pollution death rate per 100 000 standarized</th>\n",
       "      <th>Pollution death rate per 100 000</th>\n",
       "      <th>Point estimate pollution death rate per 100 000</th>\n",
       "    </tr>\n",
       "  </thead>\n",
       "  <tbody>\n",
       "    <tr>\n",
       "      <th>0</th>\n",
       "      <td>Afghanistan</td>\n",
       "      <td>2016</td>\n",
       "      <td>Both sexes</td>\n",
       "      <td>29.8</td>\n",
       "      <td>0.0</td>\n",
       "      <td>44.36-58.38</td>\n",
       "      <td>51.32</td>\n",
       "      <td>NaN</td>\n",
       "      <td>457-1040</td>\n",
       "      <td>673.0</td>\n",
       "      <td>122-270</td>\n",
       "      <td>189.0</td>\n",
       "      <td>15.1</td>\n",
       "      <td>NaN</td>\n",
       "      <td>Total</td>\n",
       "      <td>188.9-231.3</td>\n",
       "      <td>211.10</td>\n",
       "      <td>85.12-104.3</td>\n",
       "      <td>95.12</td>\n",
       "    </tr>\n",
       "    <tr>\n",
       "      <th>1</th>\n",
       "      <td>Afghanistan</td>\n",
       "      <td>2016</td>\n",
       "      <td>Both sexes</td>\n",
       "      <td>29.8</td>\n",
       "      <td>0.0</td>\n",
       "      <td>44.36-58.38</td>\n",
       "      <td>51.32</td>\n",
       "      <td>NaN</td>\n",
       "      <td>457-1040</td>\n",
       "      <td>673.0</td>\n",
       "      <td>122-270</td>\n",
       "      <td>189.0</td>\n",
       "      <td>15.1</td>\n",
       "      <td>NaN</td>\n",
       "      <td>Lower respiratory infections</td>\n",
       "      <td>26.01-36.15</td>\n",
       "      <td>31.68</td>\n",
       "      <td>25.66-35.67</td>\n",
       "      <td>31.26</td>\n",
       "    </tr>\n",
       "    <tr>\n",
       "      <th>2</th>\n",
       "      <td>Afghanistan</td>\n",
       "      <td>2016</td>\n",
       "      <td>Both sexes</td>\n",
       "      <td>29.8</td>\n",
       "      <td>0.0</td>\n",
       "      <td>44.36-58.38</td>\n",
       "      <td>51.32</td>\n",
       "      <td>NaN</td>\n",
       "      <td>457-1040</td>\n",
       "      <td>673.0</td>\n",
       "      <td>122-270</td>\n",
       "      <td>189.0</td>\n",
       "      <td>15.1</td>\n",
       "      <td>NaN</td>\n",
       "      <td>Trachea, bronchus, lung cancers</td>\n",
       "      <td>3.03-4.92</td>\n",
       "      <td>4.05</td>\n",
       "      <td>1.21-1.96</td>\n",
       "      <td>1.61</td>\n",
       "    </tr>\n",
       "    <tr>\n",
       "      <th>3</th>\n",
       "      <td>Afghanistan</td>\n",
       "      <td>2016</td>\n",
       "      <td>Both sexes</td>\n",
       "      <td>29.8</td>\n",
       "      <td>0.0</td>\n",
       "      <td>44.36-58.38</td>\n",
       "      <td>51.32</td>\n",
       "      <td>NaN</td>\n",
       "      <td>457-1040</td>\n",
       "      <td>673.0</td>\n",
       "      <td>122-270</td>\n",
       "      <td>189.0</td>\n",
       "      <td>15.1</td>\n",
       "      <td>NaN</td>\n",
       "      <td>Ischaemic heart disease</td>\n",
       "      <td>91.91-121.1</td>\n",
       "      <td>106.90</td>\n",
       "      <td>33.12-43.65</td>\n",
       "      <td>38.51</td>\n",
       "    </tr>\n",
       "    <tr>\n",
       "      <th>4</th>\n",
       "      <td>Afghanistan</td>\n",
       "      <td>2016</td>\n",
       "      <td>Both sexes</td>\n",
       "      <td>29.8</td>\n",
       "      <td>0.0</td>\n",
       "      <td>44.36-58.38</td>\n",
       "      <td>51.32</td>\n",
       "      <td>NaN</td>\n",
       "      <td>457-1040</td>\n",
       "      <td>673.0</td>\n",
       "      <td>122-270</td>\n",
       "      <td>189.0</td>\n",
       "      <td>15.1</td>\n",
       "      <td>NaN</td>\n",
       "      <td>Stroke</td>\n",
       "      <td>38.59-51.65</td>\n",
       "      <td>45.10</td>\n",
       "      <td>13.48-18.04</td>\n",
       "      <td>15.75</td>\n",
       "    </tr>\n",
       "    <tr>\n",
       "      <th>...</th>\n",
       "      <td>...</td>\n",
       "      <td>...</td>\n",
       "      <td>...</td>\n",
       "      <td>...</td>\n",
       "      <td>...</td>\n",
       "      <td>...</td>\n",
       "      <td>...</td>\n",
       "      <td>...</td>\n",
       "      <td>...</td>\n",
       "      <td>...</td>\n",
       "      <td>...</td>\n",
       "      <td>...</td>\n",
       "      <td>...</td>\n",
       "      <td>...</td>\n",
       "      <td>...</td>\n",
       "      <td>...</td>\n",
       "      <td>...</td>\n",
       "      <td>...</td>\n",
       "      <td>...</td>\n",
       "    </tr>\n",
       "    <tr>\n",
       "      <th>33555</th>\n",
       "      <td>Turkmenistan</td>\n",
       "      <td>2018</td>\n",
       "      <td>Female</td>\n",
       "      <td>NaN</td>\n",
       "      <td>NaN</td>\n",
       "      <td>NaN</td>\n",
       "      <td>NaN</td>\n",
       "      <td>NaN</td>\n",
       "      <td>NaN</td>\n",
       "      <td>NaN</td>\n",
       "      <td>NaN</td>\n",
       "      <td>NaN</td>\n",
       "      <td>NaN</td>\n",
       "      <td>1.65</td>\n",
       "      <td>NaN</td>\n",
       "      <td>NaN</td>\n",
       "      <td>NaN</td>\n",
       "      <td>NaN</td>\n",
       "      <td>NaN</td>\n",
       "    </tr>\n",
       "    <tr>\n",
       "      <th>33556</th>\n",
       "      <td>Venezuela (Bolivarian Republic of)</td>\n",
       "      <td>2018</td>\n",
       "      <td>Male</td>\n",
       "      <td>NaN</td>\n",
       "      <td>NaN</td>\n",
       "      <td>NaN</td>\n",
       "      <td>NaN</td>\n",
       "      <td>NaN</td>\n",
       "      <td>NaN</td>\n",
       "      <td>NaN</td>\n",
       "      <td>NaN</td>\n",
       "      <td>NaN</td>\n",
       "      <td>NaN</td>\n",
       "      <td>6.60</td>\n",
       "      <td>NaN</td>\n",
       "      <td>NaN</td>\n",
       "      <td>NaN</td>\n",
       "      <td>NaN</td>\n",
       "      <td>NaN</td>\n",
       "    </tr>\n",
       "    <tr>\n",
       "      <th>33557</th>\n",
       "      <td>Venezuela (Bolivarian Republic of)</td>\n",
       "      <td>2018</td>\n",
       "      <td>Female</td>\n",
       "      <td>NaN</td>\n",
       "      <td>NaN</td>\n",
       "      <td>NaN</td>\n",
       "      <td>NaN</td>\n",
       "      <td>NaN</td>\n",
       "      <td>NaN</td>\n",
       "      <td>NaN</td>\n",
       "      <td>NaN</td>\n",
       "      <td>NaN</td>\n",
       "      <td>NaN</td>\n",
       "      <td>1.75</td>\n",
       "      <td>NaN</td>\n",
       "      <td>NaN</td>\n",
       "      <td>NaN</td>\n",
       "      <td>NaN</td>\n",
       "      <td>NaN</td>\n",
       "    </tr>\n",
       "    <tr>\n",
       "      <th>33558</th>\n",
       "      <td>Viet Nam</td>\n",
       "      <td>2018</td>\n",
       "      <td>Male</td>\n",
       "      <td>NaN</td>\n",
       "      <td>NaN</td>\n",
       "      <td>NaN</td>\n",
       "      <td>NaN</td>\n",
       "      <td>NaN</td>\n",
       "      <td>NaN</td>\n",
       "      <td>NaN</td>\n",
       "      <td>NaN</td>\n",
       "      <td>NaN</td>\n",
       "      <td>NaN</td>\n",
       "      <td>14.10</td>\n",
       "      <td>NaN</td>\n",
       "      <td>NaN</td>\n",
       "      <td>NaN</td>\n",
       "      <td>NaN</td>\n",
       "      <td>NaN</td>\n",
       "    </tr>\n",
       "    <tr>\n",
       "      <th>33559</th>\n",
       "      <td>Viet Nam</td>\n",
       "      <td>2018</td>\n",
       "      <td>Female</td>\n",
       "      <td>NaN</td>\n",
       "      <td>NaN</td>\n",
       "      <td>NaN</td>\n",
       "      <td>NaN</td>\n",
       "      <td>NaN</td>\n",
       "      <td>NaN</td>\n",
       "      <td>NaN</td>\n",
       "      <td>NaN</td>\n",
       "      <td>NaN</td>\n",
       "      <td>NaN</td>\n",
       "      <td>3.49</td>\n",
       "      <td>NaN</td>\n",
       "      <td>NaN</td>\n",
       "      <td>NaN</td>\n",
       "      <td>NaN</td>\n",
       "      <td>NaN</td>\n",
       "    </tr>\n",
       "  </tbody>\n",
       "</table>\n",
       "<p>33560 rows × 19 columns</p>\n",
       "</div>"
      ],
      "text/plain": [
       "                                 Location  Period      Gender  \\\n",
       "0                             Afghanistan    2016  Both sexes   \n",
       "1                             Afghanistan    2016  Both sexes   \n",
       "2                             Afghanistan    2016  Both sexes   \n",
       "3                             Afghanistan    2016  Both sexes   \n",
       "4                             Afghanistan    2016  Both sexes   \n",
       "...                                   ...     ...         ...   \n",
       "33555                        Turkmenistan    2018      Female   \n",
       "33556  Venezuela (Bolivarian Republic of)    2018        Male   \n",
       "33557  Venezuela (Bolivarian Republic of)    2018      Female   \n",
       "33558                            Viet Nam    2018        Male   \n",
       "33559                            Viet Nam    2018      Female   \n",
       "\n",
       "       Probability of dying 30-70  Crude suicide rates per 100 000  \\\n",
       "0                            29.8                              0.0   \n",
       "1                            29.8                              0.0   \n",
       "2                            29.8                              0.0   \n",
       "3                            29.8                              0.0   \n",
       "4                            29.8                              0.0   \n",
       "...                           ...                              ...   \n",
       "33555                         NaN                              NaN   \n",
       "33556                         NaN                              NaN   \n",
       "33557                         NaN                              NaN   \n",
       "33558                         NaN                              NaN   \n",
       "33559                         NaN                              NaN   \n",
       "\n",
       "      Infant mortality rate  Point estimate infant mortality rate  \\\n",
       "0               44.36-58.38                                 51.32   \n",
       "1               44.36-58.38                                 51.32   \n",
       "2               44.36-58.38                                 51.32   \n",
       "3               44.36-58.38                                 51.32   \n",
       "4               44.36-58.38                                 51.32   \n",
       "...                     ...                                   ...   \n",
       "33555                   NaN                                   NaN   \n",
       "33556                   NaN                                   NaN   \n",
       "33557                   NaN                                   NaN   \n",
       "33558                   NaN                                   NaN   \n",
       "33559                   NaN                                   NaN   \n",
       "\n",
       "       Prevalence of current tobacco smoking (15+)  \\\n",
       "0                                              NaN   \n",
       "1                                              NaN   \n",
       "2                                              NaN   \n",
       "3                                              NaN   \n",
       "4                                              NaN   \n",
       "...                                            ...   \n",
       "33555                                          NaN   \n",
       "33556                                          NaN   \n",
       "33557                                          NaN   \n",
       "33558                                          NaN   \n",
       "33559                                          NaN   \n",
       "\n",
       "      Maternal mortality ratio per 100 000  \\\n",
       "0                                 457-1040   \n",
       "1                                 457-1040   \n",
       "2                                 457-1040   \n",
       "3                                 457-1040   \n",
       "4                                 457-1040   \n",
       "...                                    ...   \n",
       "33555                                  NaN   \n",
       "33556                                  NaN   \n",
       "33557                                  NaN   \n",
       "33558                                  NaN   \n",
       "33559                                  NaN   \n",
       "\n",
       "       Point estimate maternal mortality ratio per 100 000  \\\n",
       "0                                                  673.0     \n",
       "1                                                  673.0     \n",
       "2                                                  673.0     \n",
       "3                                                  673.0     \n",
       "4                                                  673.0     \n",
       "...                                                  ...     \n",
       "33555                                                NaN     \n",
       "33556                                                NaN     \n",
       "33557                                                NaN     \n",
       "33558                                                NaN     \n",
       "33559                                                NaN     \n",
       "\n",
       "      Incidence of tuberculosis per 100 000  \\\n",
       "0                                   122-270   \n",
       "1                                   122-270   \n",
       "2                                   122-270   \n",
       "3                                   122-270   \n",
       "4                                   122-270   \n",
       "...                                     ...   \n",
       "33555                                   NaN   \n",
       "33556                                   NaN   \n",
       "33557                                   NaN   \n",
       "33558                                   NaN   \n",
       "33559                                   NaN   \n",
       "\n",
       "       Point estimate incidence of tuberculosis  \\\n",
       "0                                         189.0   \n",
       "1                                         189.0   \n",
       "2                                         189.0   \n",
       "3                                         189.0   \n",
       "4                                         189.0   \n",
       "...                                         ...   \n",
       "33555                                       NaN   \n",
       "33556                                       NaN   \n",
       "33557                                       NaN   \n",
       "33558                                       NaN   \n",
       "33559                                       NaN   \n",
       "\n",
       "       Road traffic death rate (per 100 000  \\\n",
       "0                                      15.1   \n",
       "1                                      15.1   \n",
       "2                                      15.1   \n",
       "3                                      15.1   \n",
       "4                                      15.1   \n",
       "...                                     ...   \n",
       "33555                                   NaN   \n",
       "33556                                   NaN   \n",
       "33557                                   NaN   \n",
       "33558                                   NaN   \n",
       "33559                                   NaN   \n",
       "\n",
       "       Alcohol per capita (15+) consumption                            Cause  \\\n",
       "0                                       NaN                            Total   \n",
       "1                                       NaN     Lower respiratory infections   \n",
       "2                                       NaN  Trachea, bronchus, lung cancers   \n",
       "3                                       NaN          Ischaemic heart disease   \n",
       "4                                       NaN                           Stroke   \n",
       "...                                     ...                              ...   \n",
       "33555                                  1.65                              NaN   \n",
       "33556                                  6.60                              NaN   \n",
       "33557                                  1.75                              NaN   \n",
       "33558                                 14.10                              NaN   \n",
       "33559                                  3.49                              NaN   \n",
       "\n",
       "      Pollution death rate per 100 000 standarized  \\\n",
       "0                                      188.9-231.3   \n",
       "1                                      26.01-36.15   \n",
       "2                                        3.03-4.92   \n",
       "3                                      91.91-121.1   \n",
       "4                                      38.59-51.65   \n",
       "...                                            ...   \n",
       "33555                                          NaN   \n",
       "33556                                          NaN   \n",
       "33557                                          NaN   \n",
       "33558                                          NaN   \n",
       "33559                                          NaN   \n",
       "\n",
       "       Point estimate pollution death rate per 100 000 standarized  \\\n",
       "0                                                 211.10             \n",
       "1                                                  31.68             \n",
       "2                                                   4.05             \n",
       "3                                                 106.90             \n",
       "4                                                  45.10             \n",
       "...                                                  ...             \n",
       "33555                                                NaN             \n",
       "33556                                                NaN             \n",
       "33557                                                NaN             \n",
       "33558                                                NaN             \n",
       "33559                                                NaN             \n",
       "\n",
       "      Pollution death rate per 100 000  \\\n",
       "0                          85.12-104.3   \n",
       "1                          25.66-35.67   \n",
       "2                            1.21-1.96   \n",
       "3                          33.12-43.65   \n",
       "4                          13.48-18.04   \n",
       "...                                ...   \n",
       "33555                              NaN   \n",
       "33556                              NaN   \n",
       "33557                              NaN   \n",
       "33558                              NaN   \n",
       "33559                              NaN   \n",
       "\n",
       "       Point estimate pollution death rate per 100 000  \n",
       "0                                                95.12  \n",
       "1                                                31.26  \n",
       "2                                                 1.61  \n",
       "3                                                38.51  \n",
       "4                                                15.75  \n",
       "...                                                ...  \n",
       "33555                                              NaN  \n",
       "33556                                              NaN  \n",
       "33557                                              NaN  \n",
       "33558                                              NaN  \n",
       "33559                                              NaN  \n",
       "\n",
       "[33560 rows x 19 columns]"
      ]
     },
     "execution_count": 75,
     "metadata": {},
     "output_type": "execute_result"
    }
   ],
   "source": [
    "df_structured"
   ]
  },
  {
   "cell_type": "markdown",
   "metadata": {},
   "source": [
    "La estructura construida presenta los países con sus indicadores por año, las columnas de NaN representan los datos de indicadores\n",
    "que no fueron reportados."
   ]
  },
  {
   "cell_type": "code",
   "execution_count": 76,
   "metadata": {},
   "outputs": [],
   "source": [
    "df_structured.to_excel('structured_data.xlsx')"
   ]
  },
  {
   "cell_type": "markdown",
   "metadata": {},
   "source": [
    "### **Ahora se mostrará el diccionario de la estructura de datos creada**"
   ]
  },
  {
   "attachments": {
    "image.png": {
     "image/png": "[encoded data removed]"
    }
   },
   "cell_type": "markdown",
   "metadata": {},
   "source": [
    "![image.png](attachment:image.png)"
   ]
  },
  {
   "attachments": {
    "image.png": {
     "image/png": "[encoded data removed]"
    }
   },
   "cell_type": "markdown",
   "metadata": {},
   "source": [
    "![image.png](attachment:image.png)"
   ]
  },
  {
   "attachments": {
    "image.png": {
     "image/png": "[encoded data removed]"
    }
   },
   "cell_type": "markdown",
   "metadata": {},
   "source": [
    "![image.png](attachment:image.png)"
   ]
  },
  {
   "cell_type": "markdown",
   "metadata": {},
   "source": [
    "# **Segunda parte**"
   ]
  },
  {
   "cell_type": "markdown",
   "metadata": {},
   "source": [
    "Como segundo objetivo se tiene realizar análisis descriptivo (univariado y multivariado)"
   ]
  },
  {
   "cell_type": "markdown",
   "metadata": {},
   "source": [
    "#### **Análisis del primer indicador:**"
   ]
  },
  {
   "cell_type": "markdown",
   "metadata": {},
   "source": [
    "Probability (%) of dying between age 30 and exact age 70 from any of cardiovascular disease, cancer, diabetes, or chronic respiratory disease"
   ]
  },
  {
   "cell_type": "markdown",
   "metadata": {},
   "source": [
    "Visualizando estadísticos descriptivos por país."
   ]
  },
  {
   "cell_type": "code",
   "execution_count": 100,
   "metadata": {},
   "outputs": [],
   "source": [
    "grouped_age_country = df_age_copy.groupby([\"Location\"])[\"Probability of dying 30-70\"].describe()"
   ]
  },
  {
   "cell_type": "markdown",
   "metadata": {},
   "source": [
    "Paises con mayor probabilidad de morir entre los 30 y 70 por las causas mencionadas"
   ]
  },
  {
   "cell_type": "code",
   "execution_count": 103,
   "metadata": {},
   "outputs": [
    {
     "data": {
      "text/html": [
       "<div>\n",
       "<style scoped>\n",
       "    .dataframe tbody tr th:only-of-type {\n",
       "        vertical-align: middle;\n",
       "    }\n",
       "\n",
       "    .dataframe tbody tr th {\n",
       "        vertical-align: top;\n",
       "    }\n",
       "\n",
       "    .dataframe thead th {\n",
       "        text-align: right;\n",
       "    }\n",
       "</style>\n",
       "<table border=\"1\" class=\"dataframe\">\n",
       "  <thead>\n",
       "    <tr style=\"text-align: right;\">\n",
       "      <th></th>\n",
       "      <th>count</th>\n",
       "      <th>mean</th>\n",
       "      <th>std</th>\n",
       "      <th>min</th>\n",
       "      <th>25%</th>\n",
       "      <th>50%</th>\n",
       "      <th>75%</th>\n",
       "      <th>max</th>\n",
       "    </tr>\n",
       "    <tr>\n",
       "      <th>Location</th>\n",
       "      <th></th>\n",
       "      <th></th>\n",
       "      <th></th>\n",
       "      <th></th>\n",
       "      <th></th>\n",
       "      <th></th>\n",
       "      <th></th>\n",
       "      <th></th>\n",
       "    </tr>\n",
       "  </thead>\n",
       "  <tbody>\n",
       "    <tr>\n",
       "      <th>Kazakhstan</th>\n",
       "      <td>15.0</td>\n",
       "      <td>33.733333</td>\n",
       "      <td>10.478663</td>\n",
       "      <td>18.5</td>\n",
       "      <td>27.10</td>\n",
       "      <td>32.9</td>\n",
       "      <td>39.05</td>\n",
       "      <td>51.7</td>\n",
       "    </tr>\n",
       "    <tr>\n",
       "      <th>Mongolia</th>\n",
       "      <td>15.0</td>\n",
       "      <td>33.520000</td>\n",
       "      <td>7.332433</td>\n",
       "      <td>21.9</td>\n",
       "      <td>28.95</td>\n",
       "      <td>33.3</td>\n",
       "      <td>38.95</td>\n",
       "      <td>44.5</td>\n",
       "    </tr>\n",
       "    <tr>\n",
       "      <th>Fiji</th>\n",
       "      <td>15.0</td>\n",
       "      <td>33.113333</td>\n",
       "      <td>6.016509</td>\n",
       "      <td>24.0</td>\n",
       "      <td>29.30</td>\n",
       "      <td>32.9</td>\n",
       "      <td>36.90</td>\n",
       "      <td>42.5</td>\n",
       "    </tr>\n",
       "    <tr>\n",
       "      <th>Sierra Leone</th>\n",
       "      <td>15.0</td>\n",
       "      <td>32.540000</td>\n",
       "      <td>2.980364</td>\n",
       "      <td>27.6</td>\n",
       "      <td>30.25</td>\n",
       "      <td>32.6</td>\n",
       "      <td>34.50</td>\n",
       "      <td>36.9</td>\n",
       "    </tr>\n",
       "    <tr>\n",
       "      <th>Turkmenistan</th>\n",
       "      <td>15.0</td>\n",
       "      <td>32.286667</td>\n",
       "      <td>6.197911</td>\n",
       "      <td>22.9</td>\n",
       "      <td>28.05</td>\n",
       "      <td>31.0</td>\n",
       "      <td>37.10</td>\n",
       "      <td>42.6</td>\n",
       "    </tr>\n",
       "    <tr>\n",
       "      <th>Afghanistan</th>\n",
       "      <td>15.0</td>\n",
       "      <td>31.953333</td>\n",
       "      <td>2.788206</td>\n",
       "      <td>27.7</td>\n",
       "      <td>29.80</td>\n",
       "      <td>31.8</td>\n",
       "      <td>34.10</td>\n",
       "      <td>36.6</td>\n",
       "    </tr>\n",
       "    <tr>\n",
       "      <th>Yemen</th>\n",
       "      <td>15.0</td>\n",
       "      <td>31.813333</td>\n",
       "      <td>2.383235</td>\n",
       "      <td>28.2</td>\n",
       "      <td>30.30</td>\n",
       "      <td>31.9</td>\n",
       "      <td>33.25</td>\n",
       "      <td>35.7</td>\n",
       "    </tr>\n",
       "    <tr>\n",
       "      <th>Russian Federation</th>\n",
       "      <td>15.0</td>\n",
       "      <td>31.700000</td>\n",
       "      <td>11.295258</td>\n",
       "      <td>16.1</td>\n",
       "      <td>24.45</td>\n",
       "      <td>30.4</td>\n",
       "      <td>37.15</td>\n",
       "      <td>51.4</td>\n",
       "    </tr>\n",
       "    <tr>\n",
       "      <th>Guyana</th>\n",
       "      <td>15.0</td>\n",
       "      <td>31.286667</td>\n",
       "      <td>1.399932</td>\n",
       "      <td>28.8</td>\n",
       "      <td>30.55</td>\n",
       "      <td>31.3</td>\n",
       "      <td>32.35</td>\n",
       "      <td>33.7</td>\n",
       "    </tr>\n",
       "    <tr>\n",
       "      <th>Ukraine</th>\n",
       "      <td>15.0</td>\n",
       "      <td>30.500000</td>\n",
       "      <td>10.003999</td>\n",
       "      <td>16.2</td>\n",
       "      <td>24.00</td>\n",
       "      <td>29.3</td>\n",
       "      <td>36.10</td>\n",
       "      <td>48.4</td>\n",
       "    </tr>\n",
       "  </tbody>\n",
       "</table>\n",
       "</div>"
      ],
      "text/plain": [
       "                    count       mean        std   min    25%   50%    75%  \\\n",
       "Location                                                                    \n",
       "Kazakhstan           15.0  33.733333  10.478663  18.5  27.10  32.9  39.05   \n",
       "Mongolia             15.0  33.520000   7.332433  21.9  28.95  33.3  38.95   \n",
       "Fiji                 15.0  33.113333   6.016509  24.0  29.30  32.9  36.90   \n",
       "Sierra Leone         15.0  32.540000   2.980364  27.6  30.25  32.6  34.50   \n",
       "Turkmenistan         15.0  32.286667   6.197911  22.9  28.05  31.0  37.10   \n",
       "Afghanistan          15.0  31.953333   2.788206  27.7  29.80  31.8  34.10   \n",
       "Yemen                15.0  31.813333   2.383235  28.2  30.30  31.9  33.25   \n",
       "Russian Federation   15.0  31.700000  11.295258  16.1  24.45  30.4  37.15   \n",
       "Guyana               15.0  31.286667   1.399932  28.8  30.55  31.3  32.35   \n",
       "Ukraine              15.0  30.500000  10.003999  16.2  24.00  29.3  36.10   \n",
       "\n",
       "                     max  \n",
       "Location                  \n",
       "Kazakhstan          51.7  \n",
       "Mongolia            44.5  \n",
       "Fiji                42.5  \n",
       "Sierra Leone        36.9  \n",
       "Turkmenistan        42.6  \n",
       "Afghanistan         36.6  \n",
       "Yemen               35.7  \n",
       "Russian Federation  51.4  \n",
       "Guyana              33.7  \n",
       "Ukraine             48.4  "
      ]
     },
     "execution_count": 103,
     "metadata": {},
     "output_type": "execute_result"
    }
   ],
   "source": [
    "top_countries = grouped_age_country.sort_values(by='mean', ascending=False).head(10)\n",
    "top_countries"
   ]
  },
  {
   "cell_type": "code",
   "execution_count": 118,
   "metadata": {},
   "outputs": [
    {
     "data": {
      "text/plain": [
       "Index(['Kazakhstan', 'Mongolia', 'Fiji', 'Sierra Leone', 'Turkmenistan',\n",
       "       'Afghanistan', 'Yemen', 'Russian Federation', 'Guyana', 'Ukraine'],\n",
       "      dtype='object', name='Location')"
      ]
     },
     "execution_count": 118,
     "metadata": {},
     "output_type": "execute_result"
    }
   ],
   "source": [
    "top_countries.index"
   ]
  },
  {
   "cell_type": "code",
   "execution_count": 164,
   "metadata": {},
   "outputs": [],
   "source": [
    "def plot_bar_chart(data_frame, y_col, title, x_rotation=45, colors=None, x_label='', y_label='',title_position=1.02):\n",
    "\n",
    "    plt.figure(figsize=(10, 6))\n",
    "\n",
    "    if colors is None:\n",
    "        colors = sns.color_palette(\"Paired\")[:len(data_frame)]\n",
    "\n",
    "    ax = sns.barplot(data=data_frame, x=data_frame.index, y=y_col, palette=colors)\n",
    "\n",
    "    plt.xlabel(x_label)\n",
    "    plt.ylabel(y_label)\n",
    "    plt.title(title, y=title_position) \n",
    "\n",
    "    \n",
    "\n",
    "    for p in ax.patches:\n",
    "        height = p.get_height()\n",
    "        ax.text(p.get_x() + p.get_width() / 2., height + 0.5, f'{height:.1f}%', ha=\"center\")\n",
    "\n",
    "    plt.xticks(rotation=x_rotation)\n",
    "    plt.tight_layout()\n",
    "\n",
    "    plt.subplots_adjust(top=0.85)\n",
    "\n",
    "    plt.show()\n"
   ]
  },
  {
   "cell_type": "code",
   "execution_count": 165,
   "metadata": {},
   "outputs": [
    {
     "data": {
      "image/png": "[encoded data removed]",
      "text/plain": [
       "<Figure size 1000x600 with 1 Axes>"
      ]
     },
     "metadata": {},
     "output_type": "display_data"
    }
   ],
   "source": [
    "custom_colors = ['skyblue', 'deepskyblue', 'dodgerblue', 'royalblue', 'darkblue', 'mediumblue']\n",
    "plot_bar_chart(top_countries, y_col='mean', title='Top 10 most probability (%) of dying between age 30 and exact age 70', colors=custom_colors, x_label='Probability (%)', y_label= 'Countries')"
   ]
  },
  {
   "cell_type": "code",
   "execution_count": 104,
   "metadata": {},
   "outputs": [
    {
     "data": {
      "text/html": [
       "<div>\n",
       "<style scoped>\n",
       "    .dataframe tbody tr th:only-of-type {\n",
       "        vertical-align: middle;\n",
       "    }\n",
       "\n",
       "    .dataframe tbody tr th {\n",
       "        vertical-align: top;\n",
       "    }\n",
       "\n",
       "    .dataframe thead th {\n",
       "        text-align: right;\n",
       "    }\n",
       "</style>\n",
       "<table border=\"1\" class=\"dataframe\">\n",
       "  <thead>\n",
       "    <tr style=\"text-align: right;\">\n",
       "      <th></th>\n",
       "      <th>count</th>\n",
       "      <th>mean</th>\n",
       "      <th>std</th>\n",
       "      <th>min</th>\n",
       "      <th>25%</th>\n",
       "      <th>50%</th>\n",
       "      <th>75%</th>\n",
       "      <th>max</th>\n",
       "    </tr>\n",
       "    <tr>\n",
       "      <th>Location</th>\n",
       "      <th></th>\n",
       "      <th></th>\n",
       "      <th></th>\n",
       "      <th></th>\n",
       "      <th></th>\n",
       "      <th></th>\n",
       "      <th></th>\n",
       "      <th></th>\n",
       "    </tr>\n",
       "  </thead>\n",
       "  <tbody>\n",
       "    <tr>\n",
       "      <th>Republic of Korea</th>\n",
       "      <td>15.0</td>\n",
       "      <td>11.386667</td>\n",
       "      <td>5.128334</td>\n",
       "      <td>4.7</td>\n",
       "      <td>8.05</td>\n",
       "      <td>10.6</td>\n",
       "      <td>14.15</td>\n",
       "      <td>22.9</td>\n",
       "    </tr>\n",
       "    <tr>\n",
       "      <th>Israel</th>\n",
       "      <td>15.0</td>\n",
       "      <td>11.386667</td>\n",
       "      <td>2.959698</td>\n",
       "      <td>7.5</td>\n",
       "      <td>9.65</td>\n",
       "      <td>11.6</td>\n",
       "      <td>12.45</td>\n",
       "      <td>17.8</td>\n",
       "    </tr>\n",
       "    <tr>\n",
       "      <th>Spain</th>\n",
       "      <td>15.0</td>\n",
       "      <td>11.333333</td>\n",
       "      <td>4.025041</td>\n",
       "      <td>6.4</td>\n",
       "      <td>7.65</td>\n",
       "      <td>10.7</td>\n",
       "      <td>13.75</td>\n",
       "      <td>19.1</td>\n",
       "    </tr>\n",
       "    <tr>\n",
       "      <th>Norway</th>\n",
       "      <td>15.0</td>\n",
       "      <td>11.246667</td>\n",
       "      <td>2.772278</td>\n",
       "      <td>7.6</td>\n",
       "      <td>9.25</td>\n",
       "      <td>10.9</td>\n",
       "      <td>12.80</td>\n",
       "      <td>17.6</td>\n",
       "    </tr>\n",
       "    <tr>\n",
       "      <th>Italy</th>\n",
       "      <td>15.0</td>\n",
       "      <td>10.993333</td>\n",
       "      <td>3.100338</td>\n",
       "      <td>7.2</td>\n",
       "      <td>8.75</td>\n",
       "      <td>10.3</td>\n",
       "      <td>12.85</td>\n",
       "      <td>17.9</td>\n",
       "    </tr>\n",
       "    <tr>\n",
       "      <th>Sweden</th>\n",
       "      <td>15.0</td>\n",
       "      <td>10.773333</td>\n",
       "      <td>2.275166</td>\n",
       "      <td>7.6</td>\n",
       "      <td>9.20</td>\n",
       "      <td>10.6</td>\n",
       "      <td>11.95</td>\n",
       "      <td>15.8</td>\n",
       "    </tr>\n",
       "    <tr>\n",
       "      <th>Iceland</th>\n",
       "      <td>15.0</td>\n",
       "      <td>10.660000</td>\n",
       "      <td>2.252554</td>\n",
       "      <td>7.7</td>\n",
       "      <td>9.20</td>\n",
       "      <td>9.9</td>\n",
       "      <td>11.80</td>\n",
       "      <td>15.4</td>\n",
       "    </tr>\n",
       "    <tr>\n",
       "      <th>Australia</th>\n",
       "      <td>15.0</td>\n",
       "      <td>10.560000</td>\n",
       "      <td>2.522697</td>\n",
       "      <td>7.2</td>\n",
       "      <td>8.95</td>\n",
       "      <td>10.0</td>\n",
       "      <td>11.75</td>\n",
       "      <td>16.1</td>\n",
       "    </tr>\n",
       "    <tr>\n",
       "      <th>Switzerland</th>\n",
       "      <td>15.0</td>\n",
       "      <td>10.133333</td>\n",
       "      <td>2.798129</td>\n",
       "      <td>6.6</td>\n",
       "      <td>8.20</td>\n",
       "      <td>9.7</td>\n",
       "      <td>11.50</td>\n",
       "      <td>16.4</td>\n",
       "    </tr>\n",
       "    <tr>\n",
       "      <th>Japan</th>\n",
       "      <td>15.0</td>\n",
       "      <td>9.693333</td>\n",
       "      <td>3.025479</td>\n",
       "      <td>5.7</td>\n",
       "      <td>7.20</td>\n",
       "      <td>9.5</td>\n",
       "      <td>11.45</td>\n",
       "      <td>15.5</td>\n",
       "    </tr>\n",
       "  </tbody>\n",
       "</table>\n",
       "</div>"
      ],
      "text/plain": [
       "                   count       mean       std  min   25%   50%    75%   max\n",
       "Location                                                                   \n",
       "Republic of Korea   15.0  11.386667  5.128334  4.7  8.05  10.6  14.15  22.9\n",
       "Israel              15.0  11.386667  2.959698  7.5  9.65  11.6  12.45  17.8\n",
       "Spain               15.0  11.333333  4.025041  6.4  7.65  10.7  13.75  19.1\n",
       "Norway              15.0  11.246667  2.772278  7.6  9.25  10.9  12.80  17.6\n",
       "Italy               15.0  10.993333  3.100338  7.2  8.75  10.3  12.85  17.9\n",
       "Sweden              15.0  10.773333  2.275166  7.6  9.20  10.6  11.95  15.8\n",
       "Iceland             15.0  10.660000  2.252554  7.7  9.20   9.9  11.80  15.4\n",
       "Australia           15.0  10.560000  2.522697  7.2  8.95  10.0  11.75  16.1\n",
       "Switzerland         15.0  10.133333  2.798129  6.6  8.20   9.7  11.50  16.4\n",
       "Japan               15.0   9.693333  3.025479  5.7  7.20   9.5  11.45  15.5"
      ]
     },
     "execution_count": 104,
     "metadata": {},
     "output_type": "execute_result"
    }
   ],
   "source": [
    "bottom_countries = grouped_age_country.sort_values(by='mean', ascending=False).tail(10)\n",
    "bottom_countries"
   ]
  },
  {
   "cell_type": "code",
   "execution_count": 177,
   "metadata": {},
   "outputs": [],
   "source": [
    "def plot_bar_chart_horizontal(data_frame, y_col, title, colors=None, y_rotation=0, x_label='', y_label='', title_position=1.02):\n",
    "\n",
    "    plt.figure(figsize=(10, 6))\n",
    "\n",
    "    if colors is None:\n",
    "        colors = sns.color_palette(\"Paired\")[:len(data_frame)]\n",
    "\n",
    "    ax = sns.barplot(data=data_frame, y=data_frame.index, x=y_col, palette=colors)\n",
    "\n",
    "    plt.xlabel(x_label)\n",
    "    plt.ylabel(y_label)\n",
    "    \n",
    "    plt.title(title, y=title_position)\n",
    "    \n",
    "    for p in ax.patches:\n",
    "        width = p.get_width()\n",
    "        x, y = p.get_xy()\n",
    "        ax.text(x + width + 0.5, y + p.get_height() / 2., f'{width:.1f}%', va=\"center\", ha=\"left\")\n",
    "\n",
    "    plt.yticks(rotation=y_rotation)\n",
    "    plt.tight_layout()\n",
    "\n",
    "    plt.show()"
   ]
  },
  {
   "cell_type": "code",
   "execution_count": 179,
   "metadata": {},
   "outputs": [
    {
     "data": {
      "image/png": "[encoded data removed]",
      "text/plain": [
       "<Figure size 1000x600 with 1 Axes>"
      ]
     },
     "metadata": {},
     "output_type": "display_data"
    }
   ],
   "source": [
    "custom_colors = ['skyblue', 'deepskyblue', 'dodgerblue', 'royalblue', 'darkblue', 'mediumblue']\n",
    "plot_bar_chart(bottom_countries, y_col='mean', title='Top 10 less Probability (%) of dying between age 30 and exact age 70', colors=custom_colors, x_label='Probability (%)', y_label= 'Countries')"
   ]
  },
  {
   "cell_type": "code",
   "execution_count": 180,
   "metadata": {},
   "outputs": [],
   "source": [
    "\n",
    "top_5_countries = df_age_copy.groupby(\"Location\")[\"Probability of dying 30-70\"].mean().nlargest(5).index\n",
    "\n",
    "\n",
    "filtered_data = df_age_copy[df_age_copy[\"Location\"].isin(top_5_countries)]\n",
    "\n",
    "\n",
    "grouped_genre = filtered_data.groupby([\"Location\", \"Dim1\"])[\"Probability of dying 30-70\"].describe()\n"
   ]
  },
  {
   "cell_type": "code",
   "execution_count": 181,
   "metadata": {},
   "outputs": [
    {
     "data": {
      "text/html": [
       "<div>\n",
       "<style scoped>\n",
       "    .dataframe tbody tr th:only-of-type {\n",
       "        vertical-align: middle;\n",
       "    }\n",
       "\n",
       "    .dataframe tbody tr th {\n",
       "        vertical-align: top;\n",
       "    }\n",
       "\n",
       "    .dataframe thead th {\n",
       "        text-align: right;\n",
       "    }\n",
       "</style>\n",
       "<table border=\"1\" class=\"dataframe\">\n",
       "  <thead>\n",
       "    <tr style=\"text-align: right;\">\n",
       "      <th></th>\n",
       "      <th></th>\n",
       "      <th>count</th>\n",
       "      <th>mean</th>\n",
       "      <th>std</th>\n",
       "      <th>min</th>\n",
       "      <th>25%</th>\n",
       "      <th>50%</th>\n",
       "      <th>75%</th>\n",
       "      <th>max</th>\n",
       "    </tr>\n",
       "    <tr>\n",
       "      <th>Location</th>\n",
       "      <th>Dim1</th>\n",
       "      <th></th>\n",
       "      <th></th>\n",
       "      <th></th>\n",
       "      <th></th>\n",
       "      <th></th>\n",
       "      <th></th>\n",
       "      <th></th>\n",
       "      <th></th>\n",
       "    </tr>\n",
       "  </thead>\n",
       "  <tbody>\n",
       "    <tr>\n",
       "      <th rowspan=\"3\" valign=\"top\">Fiji</th>\n",
       "      <th>Both sexes</th>\n",
       "      <td>5.0</td>\n",
       "      <td>33.26</td>\n",
       "      <td>2.673574</td>\n",
       "      <td>30.6</td>\n",
       "      <td>30.8</td>\n",
       "      <td>32.9</td>\n",
       "      <td>35.6</td>\n",
       "      <td>36.4</td>\n",
       "    </tr>\n",
       "    <tr>\n",
       "      <th>Female</th>\n",
       "      <td>5.0</td>\n",
       "      <td>26.56</td>\n",
       "      <td>2.680112</td>\n",
       "      <td>24.0</td>\n",
       "      <td>24.2</td>\n",
       "      <td>26.0</td>\n",
       "      <td>28.5</td>\n",
       "      <td>30.1</td>\n",
       "    </tr>\n",
       "    <tr>\n",
       "      <th>Male</th>\n",
       "      <td>5.0</td>\n",
       "      <td>39.52</td>\n",
       "      <td>2.710535</td>\n",
       "      <td>36.8</td>\n",
       "      <td>37.0</td>\n",
       "      <td>39.2</td>\n",
       "      <td>42.1</td>\n",
       "      <td>42.5</td>\n",
       "    </tr>\n",
       "    <tr>\n",
       "      <th rowspan=\"3\" valign=\"top\">Kazakhstan</th>\n",
       "      <th>Both sexes</th>\n",
       "      <td>5.0</td>\n",
       "      <td>33.28</td>\n",
       "      <td>5.714630</td>\n",
       "      <td>26.8</td>\n",
       "      <td>28.6</td>\n",
       "      <td>32.9</td>\n",
       "      <td>39.0</td>\n",
       "      <td>39.1</td>\n",
       "    </tr>\n",
       "    <tr>\n",
       "      <th>Female</th>\n",
       "      <td>5.0</td>\n",
       "      <td>23.28</td>\n",
       "      <td>4.229303</td>\n",
       "      <td>18.5</td>\n",
       "      <td>19.8</td>\n",
       "      <td>23.0</td>\n",
       "      <td>27.4</td>\n",
       "      <td>27.7</td>\n",
       "    </tr>\n",
       "    <tr>\n",
       "      <th>Male</th>\n",
       "      <td>5.0</td>\n",
       "      <td>44.64</td>\n",
       "      <td>6.944278</td>\n",
       "      <td>36.8</td>\n",
       "      <td>38.9</td>\n",
       "      <td>44.2</td>\n",
       "      <td>51.6</td>\n",
       "      <td>51.7</td>\n",
       "    </tr>\n",
       "    <tr>\n",
       "      <th rowspan=\"3\" valign=\"top\">Mongolia</th>\n",
       "      <th>Both sexes</th>\n",
       "      <td>5.0</td>\n",
       "      <td>33.48</td>\n",
       "      <td>3.725185</td>\n",
       "      <td>30.2</td>\n",
       "      <td>30.4</td>\n",
       "      <td>32.3</td>\n",
       "      <td>35.6</td>\n",
       "      <td>38.9</td>\n",
       "    </tr>\n",
       "    <tr>\n",
       "      <th>Female</th>\n",
       "      <td>5.0</td>\n",
       "      <td>25.92</td>\n",
       "      <td>4.734131</td>\n",
       "      <td>21.9</td>\n",
       "      <td>22.2</td>\n",
       "      <td>24.5</td>\n",
       "      <td>27.7</td>\n",
       "      <td>33.3</td>\n",
       "    </tr>\n",
       "    <tr>\n",
       "      <th>Male</th>\n",
       "      <td>5.0</td>\n",
       "      <td>41.16</td>\n",
       "      <td>2.592875</td>\n",
       "      <td>38.8</td>\n",
       "      <td>39.0</td>\n",
       "      <td>40.2</td>\n",
       "      <td>43.3</td>\n",
       "      <td>44.5</td>\n",
       "    </tr>\n",
       "    <tr>\n",
       "      <th rowspan=\"3\" valign=\"top\">Sierra Leone</th>\n",
       "      <th>Both sexes</th>\n",
       "      <td>5.0</td>\n",
       "      <td>32.58</td>\n",
       "      <td>2.752635</td>\n",
       "      <td>30.0</td>\n",
       "      <td>30.5</td>\n",
       "      <td>31.8</td>\n",
       "      <td>33.9</td>\n",
       "      <td>36.7</td>\n",
       "    </tr>\n",
       "    <tr>\n",
       "      <th>Female</th>\n",
       "      <td>5.0</td>\n",
       "      <td>34.02</td>\n",
       "      <td>1.785217</td>\n",
       "      <td>32.2</td>\n",
       "      <td>32.6</td>\n",
       "      <td>33.7</td>\n",
       "      <td>35.1</td>\n",
       "      <td>36.5</td>\n",
       "    </tr>\n",
       "    <tr>\n",
       "      <th>Male</th>\n",
       "      <td>5.0</td>\n",
       "      <td>31.02</td>\n",
       "      <td>3.833667</td>\n",
       "      <td>27.6</td>\n",
       "      <td>28.2</td>\n",
       "      <td>29.7</td>\n",
       "      <td>32.7</td>\n",
       "      <td>36.9</td>\n",
       "    </tr>\n",
       "    <tr>\n",
       "      <th rowspan=\"3\" valign=\"top\">Turkmenistan</th>\n",
       "      <th>Both sexes</th>\n",
       "      <td>5.0</td>\n",
       "      <td>32.14</td>\n",
       "      <td>2.553037</td>\n",
       "      <td>29.5</td>\n",
       "      <td>30.6</td>\n",
       "      <td>31.0</td>\n",
       "      <td>34.0</td>\n",
       "      <td>35.6</td>\n",
       "    </tr>\n",
       "    <tr>\n",
       "      <th>Female</th>\n",
       "      <td>5.0</td>\n",
       "      <td>25.56</td>\n",
       "      <td>2.438852</td>\n",
       "      <td>22.9</td>\n",
       "      <td>23.9</td>\n",
       "      <td>24.9</td>\n",
       "      <td>27.3</td>\n",
       "      <td>28.8</td>\n",
       "    </tr>\n",
       "    <tr>\n",
       "      <th>Male</th>\n",
       "      <td>5.0</td>\n",
       "      <td>39.16</td>\n",
       "      <td>2.518531</td>\n",
       "      <td>36.7</td>\n",
       "      <td>37.5</td>\n",
       "      <td>38.0</td>\n",
       "      <td>41.0</td>\n",
       "      <td>42.6</td>\n",
       "    </tr>\n",
       "  </tbody>\n",
       "</table>\n",
       "</div>"
      ],
      "text/plain": [
       "                         count   mean       std   min   25%   50%   75%   max\n",
       "Location     Dim1                                                            \n",
       "Fiji         Both sexes    5.0  33.26  2.673574  30.6  30.8  32.9  35.6  36.4\n",
       "             Female        5.0  26.56  2.680112  24.0  24.2  26.0  28.5  30.1\n",
       "             Male          5.0  39.52  2.710535  36.8  37.0  39.2  42.1  42.5\n",
       "Kazakhstan   Both sexes    5.0  33.28  5.714630  26.8  28.6  32.9  39.0  39.1\n",
       "             Female        5.0  23.28  4.229303  18.5  19.8  23.0  27.4  27.7\n",
       "             Male          5.0  44.64  6.944278  36.8  38.9  44.2  51.6  51.7\n",
       "Mongolia     Both sexes    5.0  33.48  3.725185  30.2  30.4  32.3  35.6  38.9\n",
       "             Female        5.0  25.92  4.734131  21.9  22.2  24.5  27.7  33.3\n",
       "             Male          5.0  41.16  2.592875  38.8  39.0  40.2  43.3  44.5\n",
       "Sierra Leone Both sexes    5.0  32.58  2.752635  30.0  30.5  31.8  33.9  36.7\n",
       "             Female        5.0  34.02  1.785217  32.2  32.6  33.7  35.1  36.5\n",
       "             Male          5.0  31.02  3.833667  27.6  28.2  29.7  32.7  36.9\n",
       "Turkmenistan Both sexes    5.0  32.14  2.553037  29.5  30.6  31.0  34.0  35.6\n",
       "             Female        5.0  25.56  2.438852  22.9  23.9  24.9  27.3  28.8\n",
       "             Male          5.0  39.16  2.518531  36.7  37.5  38.0  41.0  42.6"
      ]
     },
     "execution_count": 181,
     "metadata": {},
     "output_type": "execute_result"
    }
   ],
   "source": [
    "grouped_genre"
   ]
  },
  {
   "cell_type": "code",
   "execution_count": 192,
   "metadata": {},
   "outputs": [],
   "source": [
    "def plot_genre_by_country(data_frame, x_label='', y_label='', title_t=''):\n",
    "    sns.set_palette(\"mako\")\n",
    "    \n",
    "    grouped_genre = data_frame.groupby([\"Location\", \"Dim1\"])[\"Probability of dying 30-70\"].mean()\n",
    "    grouped_genre_df = grouped_genre.unstack()\n",
    "\n",
    "    plt.figure(figsize=(12, 8))\n",
    "    ax = grouped_genre_df.plot(kind=\"bar\")\n",
    "\n",
    "    plt.xlabel(x_label)\n",
    "    plt.ylabel(y_label)\n",
    "    plt.title(title_t)\n",
    "    plt.legend(title=\"Genre\")\n",
    "\n",
    "    plt.xticks(rotation=45, ha='right')\n",
    "\n",
    "   \n",
    "    for p in ax.patches:\n",
    "        height = p.get_height()\n",
    "        ax.annotate(f'{height:.1f}%', \n",
    "                    xy=(p.get_x() + p.get_width() / 2, height),\n",
    "                    xytext=(0, 3),  \n",
    "                    textcoords=\"offset points\",\n",
    "                    ha='center', va='bottom',\n",
    "                    fontsize=8)  \n",
    "\n",
    "    plt.tight_layout()\n",
    "    plt.show()\n",
    "\n",
    "\n"
   ]
  },
  {
   "cell_type": "code",
   "execution_count": 196,
   "metadata": {},
   "outputs": [
    {
     "data": {
      "text/plain": [
       "<Figure size 1200x800 with 0 Axes>"
      ]
     },
     "metadata": {},
     "output_type": "display_data"
    },
    {
     "data": {
      "image/png": "[encoded data removed]",
      "text/plain": [
       "<Figure size 640x480 with 1 Axes>"
      ]
     },
     "metadata": {},
     "output_type": "display_data"
    }
   ],
   "source": [
    "\n",
    "top_5_countries= df_age_copy.groupby(\"Location\")[\"Probability of dying 30-70\"].mean().nlargest(5).index\n",
    "filtered_data = df_age_copy[df_age_copy[\"Location\"].isin(top_5_countries)]\n",
    "plot_genre_by_country(filtered_data, x_label='Countries', y_label='Mean of probability (%) ', title_t='Mean of probability (%) of dying between age 30 and exact age 70 per genre')\n"
   ]
  },
  {
   "cell_type": "code",
   "execution_count": 197,
   "metadata": {},
   "outputs": [
    {
     "data": {
      "text/plain": [
       "<Figure size 1200x800 with 0 Axes>"
      ]
     },
     "metadata": {},
     "output_type": "display_data"
    },
    {
     "data": {
      "image/png": "[encoded data removed]",
      "text/plain": [
       "<Figure size 640x480 with 1 Axes>"
      ]
     },
     "metadata": {},
     "output_type": "display_data"
    }
   ],
   "source": [
    "\n",
    "top_5_countries_less= df_age_copy.groupby(\"Location\")[\"Probability of dying 30-70\"].mean().nsmallest(5).index\n",
    "filtered_data_less = df_age_copy[df_age_copy[\"Location\"].isin(top_5_countries_less)]\n",
    "plot_genre_by_country(filtered_data_less, x_label='Countries', y_label='Mean of probability (%) ', title_t='Mean of probability (%) of dying between age 30 and exact age 70 per genre')\n"
   ]
  },
  {
   "cell_type": "code",
   "execution_count": 202,
   "metadata": {},
   "outputs": [
    {
     "name": "stderr",
     "output_type": "stream",
     "text": [
      "No artists with labels found to put in legend.  Note that artists whose label start with an underscore are ignored when legend() is called with no argument.\n"
     ]
    },
    {
     "data": {
      "image/png": "[encoded data removed]",
      "text/plain": [
       "<Figure size 800x600 with 1 Axes>"
      ]
     },
     "metadata": {},
     "output_type": "display_data"
    }
   ],
   "source": [
    "\n",
    "plt.figure(figsize=(8, 6))\n",
    "sns.set(style=\"whitegrid\")  \n",
    "\n",
    "sns.histplot(data=df_age_copy, x=\"Probability of dying 30-70\", hue=\"Dim1\", multiple=\"stack\", palette=\"mako\")\n",
    "\n",
    "plt.xlabel(\"Probabilidad de Morir (30-70)\")\n",
    "plt.ylabel(\"Frecuencia\")\n",
    "plt.title(\"Histograma de Probabilidad de Morir por Género\")\n",
    "\n",
    "plt.legend(title=\"Género\")\n",
    "plt.tight_layout()\n",
    "\n",
    "plt.show()"
   ]
  }
 ],
 "metadata": {
  "kernelspec": {
   "display_name": "base",
   "language": "python",
   "name": "python3"
  },
  "language_info": {
   "codemirror_mode": {
    "name": "ipython",
    "version": 3
   },
   "file_extension": ".py",
   "mimetype": "text/x-python",
   "name": "python",
   "nbconvert_exporter": "python",
   "pygments_lexer": "ipython3",
   "version": "3.11.4"
  },
  "orig_nbformat": 4
 },
 "nbformat": 4,
 "nbformat_minor": 2
}
