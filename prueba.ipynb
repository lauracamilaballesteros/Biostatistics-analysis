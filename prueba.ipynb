{
 "cells": [
  {
   "cell_type": "markdown",
   "metadata": {},
   "source": [
    "# **Prueba tecnica: Análisis bioestadístico**"
   ]
  },
  {
   "cell_type": "markdown",
   "metadata": {},
   "source": [
    "Para empezar se crea un entorno virtual que se llama biostatistics que contiene todas las librerias\n",
    "necesarias para el proyecto. Se procedera a analizar los datos de cada uno de los dataset individuales."
   ]
  },
  {
   "cell_type": "markdown",
   "metadata": {},
   "source": [
    "El primer objetivo trazado es llegar a una estructura de datos que contenga cada país con sus indicadores y un diccionario de dicha estructura."
   ]
  },
  {
   "cell_type": "code",
   "execution_count": 46,
   "metadata": {},
   "outputs": [],
   "source": [
    "import pandas as pd"
   ]
  },
  {
   "cell_type": "markdown",
   "metadata": {},
   "source": [
    "Ahora se leeran y analizaran los datos de csv individuales para crear una estructura de datos"
   ]
  },
  {
   "cell_type": "code",
   "execution_count": 47,
   "metadata": {},
   "outputs": [],
   "source": [
    "\n",
    "\n",
    "ruta = \"C:/Users/USUARIO/Documents/GitHub/Biostatistics-analysis/datos\"\n",
    "\n",
    "df_age_death = pd.read_csv(f\"{ruta}/30-70cancerChdEtc.csv\")\n",
    "df_airpollution_death_rate = pd.read_csv(f\"{ruta}/airPollutionDeathRate.csv\")\n",
    "df_alcohol_substance_abuse = pd.read_csv(f\"{ruta}/alcoholSubstanceAbuse.csv\")\n",
    "df_crude_suicide_rates = pd.read_csv(f\"{ruta}/crudeSuicideRates.csv\")\n",
    "df_incidence_tuberculosis = pd.read_csv(f\"{ruta}/incedenceOfTuberculosis.csv\")\n",
    "df_infant_mortality_rate = pd.read_csv(f\"{ruta}/infantMortalityRate.csv\")\n",
    "df_maternal_mortality_ratio = pd.read_csv(f\"{ruta}/maternalMortalityRatio.csv\")\n",
    "df_road_traffic_deaths = pd.read_csv(f\"{ruta}/roadTrafficDeaths.csv\")\n",
    "df_tobacco_age = pd.read_csv(f\"{ruta}/tobaccoAge15.csv\")\n"
   ]
  },
  {
   "cell_type": "markdown",
   "metadata": {},
   "source": [
    "Visualizando los datos correspondientes al primer df"
   ]
  },
  {
   "cell_type": "code",
   "execution_count": 48,
   "metadata": {},
   "outputs": [
    {
     "name": "stdout",
     "output_type": "stream",
     "text": [
      "<class 'pandas.core.frame.DataFrame'>\n",
      "RangeIndex: 2745 entries, 0 to 2744\n",
      "Data columns (total 5 columns):\n",
      " #   Column         Non-Null Count  Dtype  \n",
      "---  ------         --------------  -----  \n",
      " 0   Location       2745 non-null   object \n",
      " 1   Period         2745 non-null   int64  \n",
      " 2   Indicator      2745 non-null   object \n",
      " 3   Dim1           2745 non-null   object \n",
      " 4   First Tooltip  2745 non-null   float64\n",
      "dtypes: float64(1), int64(1), object(3)\n",
      "memory usage: 107.4+ KB\n"
     ]
    }
   ],
   "source": [
    "df_age_death.info()"
   ]
  },
  {
   "cell_type": "code",
   "execution_count": 49,
   "metadata": {},
   "outputs": [
    {
     "data": {
      "text/html": [
       "<div>\n",
       "<style scoped>\n",
       "    .dataframe tbody tr th:only-of-type {\n",
       "        vertical-align: middle;\n",
       "    }\n",
       "\n",
       "    .dataframe tbody tr th {\n",
       "        vertical-align: top;\n",
       "    }\n",
       "\n",
       "    .dataframe thead th {\n",
       "        text-align: right;\n",
       "    }\n",
       "</style>\n",
       "<table border=\"1\" class=\"dataframe\">\n",
       "  <thead>\n",
       "    <tr style=\"text-align: right;\">\n",
       "      <th></th>\n",
       "      <th>Location</th>\n",
       "      <th>Period</th>\n",
       "      <th>Indicator</th>\n",
       "      <th>Dim1</th>\n",
       "      <th>First Tooltip</th>\n",
       "    </tr>\n",
       "  </thead>\n",
       "  <tbody>\n",
       "    <tr>\n",
       "      <th>0</th>\n",
       "      <td>Afghanistan</td>\n",
       "      <td>2016</td>\n",
       "      <td>Probability (%) of dying between age 30 and ex...</td>\n",
       "      <td>Both sexes</td>\n",
       "      <td>29.8</td>\n",
       "    </tr>\n",
       "    <tr>\n",
       "      <th>1</th>\n",
       "      <td>Afghanistan</td>\n",
       "      <td>2016</td>\n",
       "      <td>Probability (%) of dying between age 30 and ex...</td>\n",
       "      <td>Male</td>\n",
       "      <td>31.8</td>\n",
       "    </tr>\n",
       "    <tr>\n",
       "      <th>2</th>\n",
       "      <td>Afghanistan</td>\n",
       "      <td>2016</td>\n",
       "      <td>Probability (%) of dying between age 30 and ex...</td>\n",
       "      <td>Female</td>\n",
       "      <td>27.7</td>\n",
       "    </tr>\n",
       "    <tr>\n",
       "      <th>3</th>\n",
       "      <td>Afghanistan</td>\n",
       "      <td>2015</td>\n",
       "      <td>Probability (%) of dying between age 30 and ex...</td>\n",
       "      <td>Both sexes</td>\n",
       "      <td>29.8</td>\n",
       "    </tr>\n",
       "    <tr>\n",
       "      <th>4</th>\n",
       "      <td>Afghanistan</td>\n",
       "      <td>2015</td>\n",
       "      <td>Probability (%) of dying between age 30 and ex...</td>\n",
       "      <td>Male</td>\n",
       "      <td>31.9</td>\n",
       "    </tr>\n",
       "  </tbody>\n",
       "</table>\n",
       "</div>"
      ],
      "text/plain": [
       "      Location  Period                                          Indicator  \\\n",
       "0  Afghanistan    2016  Probability (%) of dying between age 30 and ex...   \n",
       "1  Afghanistan    2016  Probability (%) of dying between age 30 and ex...   \n",
       "2  Afghanistan    2016  Probability (%) of dying between age 30 and ex...   \n",
       "3  Afghanistan    2015  Probability (%) of dying between age 30 and ex...   \n",
       "4  Afghanistan    2015  Probability (%) of dying between age 30 and ex...   \n",
       "\n",
       "         Dim1  First Tooltip  \n",
       "0  Both sexes           29.8  \n",
       "1        Male           31.8  \n",
       "2      Female           27.7  \n",
       "3  Both sexes           29.8  \n",
       "4        Male           31.9  "
      ]
     },
     "execution_count": 49,
     "metadata": {},
     "output_type": "execute_result"
    }
   ],
   "source": [
    "df_age_death.head()"
   ]
  },
  {
   "cell_type": "markdown",
   "metadata": {},
   "source": [
    "Se visualiza que los datos se encuentran en formato adecuado"
   ]
  },
  {
   "cell_type": "code",
   "execution_count": 50,
   "metadata": {},
   "outputs": [
    {
     "data": {
      "text/plain": [
       "array(['Probability (%) of dying between age 30 and exact age 70 from any of cardiovascular disease, cancer, diabetes, or chronic respiratory disease'],\n",
       "      dtype=object)"
      ]
     },
     "execution_count": 50,
     "metadata": {},
     "output_type": "execute_result"
    }
   ],
   "source": [
    "df_age_death.Indicator.unique()"
   ]
  },
  {
   "cell_type": "markdown",
   "metadata": {},
   "source": [
    "Se crea la columna para concatenar los dataframes"
   ]
  },
  {
   "cell_type": "code",
   "execution_count": 51,
   "metadata": {},
   "outputs": [],
   "source": [
    "df_age_death['Probability of dying 30-70'] = df_age_death['First Tooltip'].copy()"
   ]
  },
  {
   "cell_type": "code",
   "execution_count": 52,
   "metadata": {},
   "outputs": [
    {
     "data": {
      "text/plain": [
       "184"
      ]
     },
     "execution_count": 52,
     "metadata": {},
     "output_type": "execute_result"
    }
   ],
   "source": [
    "df_age_death.Location.nunique()"
   ]
  },
  {
   "cell_type": "markdown",
   "metadata": {},
   "source": [
    "Verificando que los datos tengan congruencia"
   ]
  },
  {
   "cell_type": "code",
   "execution_count": 53,
   "metadata": {},
   "outputs": [
    {
     "data": {
      "text/plain": [
       "Location                        0\n",
       "Period                          0\n",
       "Indicator                       0\n",
       "Dim1                            0\n",
       "First Tooltip                 0.0\n",
       "Probability of dying 30-70    0.0\n",
       "dtype: object"
      ]
     },
     "execution_count": 53,
     "metadata": {},
     "output_type": "execute_result"
    }
   ],
   "source": [
    "df_age_death[df_age_death['First Tooltip']>100].sum()"
   ]
  },
  {
   "cell_type": "markdown",
   "metadata": {},
   "source": [
    "Se debe dejar el dataframe solo con las columnas de interés."
   ]
  },
  {
   "cell_type": "markdown",
   "metadata": {},
   "source": [
    "### **Se crea una función para filtrar las columnas**"
   ]
  },
  {
   "cell_type": "code",
   "execution_count": 54,
   "metadata": {},
   "outputs": [],
   "source": [
    "def filter_dataframes(df,columns):\n",
    "    df_copy = df.copy()\n",
    "    df_filtered = df_copy[[columns]]\n",
    "    return df_filtered"
   ]
  },
  {
   "cell_type": "markdown",
   "metadata": {},
   "source": [
    "#### **Se crea una función para borrar columnas**"
   ]
  },
  {
   "cell_type": "code",
   "execution_count": 55,
   "metadata": {},
   "outputs": [],
   "source": [
    "def drop_columns(df, columns_d):\n",
    "    df_copy = df.copy()\n",
    "    df_copy.drop(columns=columns_d, inplace=True)\n",
    "    return df_copy\n"
   ]
  },
  {
   "cell_type": "code",
   "execution_count": 56,
   "metadata": {},
   "outputs": [],
   "source": [
    "columns_drop = ['Indicator', 'First Tooltip']\n",
    "df_age_copy = drop_columns(df_age_death, columns_drop)"
   ]
  },
  {
   "cell_type": "markdown",
   "metadata": {},
   "source": [
    "Ahora se procedera de la misma forma con el resto de dataframes"
   ]
  },
  {
   "cell_type": "markdown",
   "metadata": {},
   "source": [
    "#### **Para el segundo dataframe**"
   ]
  },
  {
   "cell_type": "code",
   "execution_count": 57,
   "metadata": {},
   "outputs": [
    {
     "data": {
      "text/html": [
       "<div>\n",
       "<style scoped>\n",
       "    .dataframe tbody tr th:only-of-type {\n",
       "        vertical-align: middle;\n",
       "    }\n",
       "\n",
       "    .dataframe tbody tr th {\n",
       "        vertical-align: top;\n",
       "    }\n",
       "\n",
       "    .dataframe thead th {\n",
       "        text-align: right;\n",
       "    }\n",
       "</style>\n",
       "<table border=\"1\" class=\"dataframe\">\n",
       "  <thead>\n",
       "    <tr style=\"text-align: right;\">\n",
       "      <th></th>\n",
       "      <th>Location</th>\n",
       "      <th>Dim2</th>\n",
       "      <th>Indicator</th>\n",
       "      <th>Period</th>\n",
       "      <th>Dim1</th>\n",
       "      <th>First Tooltip</th>\n",
       "    </tr>\n",
       "  </thead>\n",
       "  <tbody>\n",
       "    <tr>\n",
       "      <th>0</th>\n",
       "      <td>Afghanistan</td>\n",
       "      <td>Total</td>\n",
       "      <td>Ambient and household air pollution attributab...</td>\n",
       "      <td>2016</td>\n",
       "      <td>Both sexes</td>\n",
       "      <td>95.12 [85.12-104.3]</td>\n",
       "    </tr>\n",
       "    <tr>\n",
       "      <th>1</th>\n",
       "      <td>Afghanistan</td>\n",
       "      <td>Total</td>\n",
       "      <td>Ambient and household air pollution attributab...</td>\n",
       "      <td>2016</td>\n",
       "      <td>Male</td>\n",
       "      <td>95.58 [85.5-106]</td>\n",
       "    </tr>\n",
       "    <tr>\n",
       "      <th>2</th>\n",
       "      <td>Afghanistan</td>\n",
       "      <td>Total</td>\n",
       "      <td>Ambient and household air pollution attributab...</td>\n",
       "      <td>2016</td>\n",
       "      <td>Female</td>\n",
       "      <td>94.63 [84.55-103.9]</td>\n",
       "    </tr>\n",
       "    <tr>\n",
       "      <th>3</th>\n",
       "      <td>Afghanistan</td>\n",
       "      <td>Total</td>\n",
       "      <td>Ambient and household air pollution attributab...</td>\n",
       "      <td>2016</td>\n",
       "      <td>Both sexes</td>\n",
       "      <td>211.1 [188.9-231.3]</td>\n",
       "    </tr>\n",
       "    <tr>\n",
       "      <th>4</th>\n",
       "      <td>Afghanistan</td>\n",
       "      <td>Total</td>\n",
       "      <td>Ambient and household air pollution attributab...</td>\n",
       "      <td>2016</td>\n",
       "      <td>Male</td>\n",
       "      <td>228.7 [204.6-253.6]</td>\n",
       "    </tr>\n",
       "  </tbody>\n",
       "</table>\n",
       "</div>"
      ],
      "text/plain": [
       "      Location   Dim2                                          Indicator  \\\n",
       "0  Afghanistan  Total  Ambient and household air pollution attributab...   \n",
       "1  Afghanistan  Total  Ambient and household air pollution attributab...   \n",
       "2  Afghanistan  Total  Ambient and household air pollution attributab...   \n",
       "3  Afghanistan  Total  Ambient and household air pollution attributab...   \n",
       "4  Afghanistan  Total  Ambient and household air pollution attributab...   \n",
       "\n",
       "   Period        Dim1        First Tooltip  \n",
       "0    2016  Both sexes  95.12 [85.12-104.3]  \n",
       "1    2016        Male     95.58 [85.5-106]  \n",
       "2    2016      Female  94.63 [84.55-103.9]  \n",
       "3    2016  Both sexes  211.1 [188.9-231.3]  \n",
       "4    2016        Male  228.7 [204.6-253.6]  "
      ]
     },
     "execution_count": 57,
     "metadata": {},
     "output_type": "execute_result"
    }
   ],
   "source": [
    "df_airpollution_death_rate.head()"
   ]
  },
  {
   "cell_type": "markdown",
   "metadata": {},
   "source": [
    "Se crea una función de preprocesamiento para separar la mediana del intervalo de confianza y el intervalo en dos columnas."
   ]
  },
  {
   "cell_type": "code",
   "execution_count": 58,
   "metadata": {},
   "outputs": [],
   "source": [
    "\n",
    "def split_interval_median(df, column, name_column, median):\n",
    "    pattern = r'\\[(.*?)\\]' \n",
    "    df[name_column] = df[column].str.extract(pattern, expand=False)\n",
    "    df[median] = df[column].str.extract(r'(\\d+\\.\\d+|\\d+)', expand=False).astype(float)\n",
    "    return df"
   ]
  },
  {
   "cell_type": "code",
   "execution_count": 59,
   "metadata": {},
   "outputs": [
    {
     "name": "stdout",
     "output_type": "stream",
     "text": [
      "<class 'pandas.core.frame.DataFrame'>\n",
      "RangeIndex: 6588 entries, 0 to 6587\n",
      "Data columns (total 6 columns):\n",
      " #   Column         Non-Null Count  Dtype \n",
      "---  ------         --------------  ----- \n",
      " 0   Location       6588 non-null   object\n",
      " 1   Dim2           6588 non-null   object\n",
      " 2   Indicator      6588 non-null   object\n",
      " 3   Period         6588 non-null   int64 \n",
      " 4   Dim1           6588 non-null   object\n",
      " 5   First Tooltip  6588 non-null   object\n",
      "dtypes: int64(1), object(5)\n",
      "memory usage: 308.9+ KB\n"
     ]
    }
   ],
   "source": [
    "df_airpollution_death_rate.info()"
   ]
  },
  {
   "cell_type": "markdown",
   "metadata": {},
   "source": [
    "Se observan los indicadores presentes en el dataframe"
   ]
  },
  {
   "cell_type": "code",
   "execution_count": 60,
   "metadata": {},
   "outputs": [
    {
     "data": {
      "text/plain": [
       "array(['Ambient and household air pollution attributable death rate (per 100 000 population)',\n",
       "       'Ambient and household air pollution attributable death rate (per 100 000 population, age-standardized)'],\n",
       "      dtype=object)"
      ]
     },
     "execution_count": 60,
     "metadata": {},
     "output_type": "execute_result"
    }
   ],
   "source": [
    "df_airpollution_death_rate.Indicator.unique()"
   ]
  },
  {
   "cell_type": "code",
   "execution_count": 61,
   "metadata": {},
   "outputs": [
    {
     "data": {
      "text/plain": [
       "array(['Total', 'Lower respiratory infections',\n",
       "       'Trachea, bronchus, lung cancers', 'Ischaemic heart disease',\n",
       "       'Stroke', 'Chronic obstructive pulmonary disease'], dtype=object)"
      ]
     },
     "execution_count": 61,
     "metadata": {},
     "output_type": "execute_result"
    }
   ],
   "source": [
    "df_airpollution_death_rate.Dim2.unique()"
   ]
  },
  {
   "cell_type": "code",
   "execution_count": 62,
   "metadata": {},
   "outputs": [
    {
     "data": {
      "text/plain": [
       "183"
      ]
     },
     "execution_count": 62,
     "metadata": {},
     "output_type": "execute_result"
    }
   ],
   "source": [
    "df_airpollution_death_rate.Location.nunique()"
   ]
  },
  {
   "cell_type": "markdown",
   "metadata": {},
   "source": [
    "#### **Para el tercer dataframe**"
   ]
  },
  {
   "cell_type": "markdown",
   "metadata": {},
   "source": [
    "Ahora a explorar el tercer dataframe"
   ]
  },
  {
   "cell_type": "code",
   "execution_count": 63,
   "metadata": {},
   "outputs": [
    {
     "data": {
      "text/html": [
       "<div>\n",
       "<style scoped>\n",
       "    .dataframe tbody tr th:only-of-type {\n",
       "        vertical-align: middle;\n",
       "    }\n",
       "\n",
       "    .dataframe tbody tr th {\n",
       "        vertical-align: top;\n",
       "    }\n",
       "\n",
       "    .dataframe thead th {\n",
       "        text-align: right;\n",
       "    }\n",
       "</style>\n",
       "<table border=\"1\" class=\"dataframe\">\n",
       "  <thead>\n",
       "    <tr style=\"text-align: right;\">\n",
       "      <th></th>\n",
       "      <th>Location</th>\n",
       "      <th>Period</th>\n",
       "      <th>Indicator</th>\n",
       "      <th>Dim1</th>\n",
       "      <th>First Tooltip</th>\n",
       "    </tr>\n",
       "  </thead>\n",
       "  <tbody>\n",
       "    <tr>\n",
       "      <th>0</th>\n",
       "      <td>Afghanistan</td>\n",
       "      <td>2018</td>\n",
       "      <td>Total (recorded+unrecorded) alcohol per capita...</td>\n",
       "      <td>Both sexes</td>\n",
       "      <td>0.210</td>\n",
       "    </tr>\n",
       "    <tr>\n",
       "      <th>1</th>\n",
       "      <td>Afghanistan</td>\n",
       "      <td>2018</td>\n",
       "      <td>Total (recorded+unrecorded) alcohol per capita...</td>\n",
       "      <td>Male</td>\n",
       "      <td>0.360</td>\n",
       "    </tr>\n",
       "    <tr>\n",
       "      <th>2</th>\n",
       "      <td>Afghanistan</td>\n",
       "      <td>2018</td>\n",
       "      <td>Total (recorded+unrecorded) alcohol per capita...</td>\n",
       "      <td>Female</td>\n",
       "      <td>0.055</td>\n",
       "    </tr>\n",
       "    <tr>\n",
       "      <th>3</th>\n",
       "      <td>Afghanistan</td>\n",
       "      <td>2015</td>\n",
       "      <td>Total (recorded+unrecorded) alcohol per capita...</td>\n",
       "      <td>Both sexes</td>\n",
       "      <td>0.210</td>\n",
       "    </tr>\n",
       "    <tr>\n",
       "      <th>4</th>\n",
       "      <td>Afghanistan</td>\n",
       "      <td>2015</td>\n",
       "      <td>Total (recorded+unrecorded) alcohol per capita...</td>\n",
       "      <td>Male</td>\n",
       "      <td>0.350</td>\n",
       "    </tr>\n",
       "  </tbody>\n",
       "</table>\n",
       "</div>"
      ],
      "text/plain": [
       "      Location  Period                                          Indicator  \\\n",
       "0  Afghanistan    2018  Total (recorded+unrecorded) alcohol per capita...   \n",
       "1  Afghanistan    2018  Total (recorded+unrecorded) alcohol per capita...   \n",
       "2  Afghanistan    2018  Total (recorded+unrecorded) alcohol per capita...   \n",
       "3  Afghanistan    2015  Total (recorded+unrecorded) alcohol per capita...   \n",
       "4  Afghanistan    2015  Total (recorded+unrecorded) alcohol per capita...   \n",
       "\n",
       "         Dim1  First Tooltip  \n",
       "0  Both sexes          0.210  \n",
       "1        Male          0.360  \n",
       "2      Female          0.055  \n",
       "3  Both sexes          0.210  \n",
       "4        Male          0.350  "
      ]
     },
     "execution_count": 63,
     "metadata": {},
     "output_type": "execute_result"
    }
   ],
   "source": [
    "df_alcohol_substance_abuse.head()"
   ]
  },
  {
   "cell_type": "code",
   "execution_count": 64,
   "metadata": {},
   "outputs": [
    {
     "name": "stdout",
     "output_type": "stream",
     "text": [
      "<class 'pandas.core.frame.DataFrame'>\n",
      "RangeIndex: 2787 entries, 0 to 2786\n",
      "Data columns (total 5 columns):\n",
      " #   Column         Non-Null Count  Dtype  \n",
      "---  ------         --------------  -----  \n",
      " 0   Location       2787 non-null   object \n",
      " 1   Period         2787 non-null   int64  \n",
      " 2   Indicator      2787 non-null   object \n",
      " 3   Dim1           2787 non-null   object \n",
      " 4   First Tooltip  2787 non-null   float64\n",
      "dtypes: float64(1), int64(1), object(3)\n",
      "memory usage: 109.0+ KB\n"
     ]
    }
   ],
   "source": [
    "df_alcohol_substance_abuse.info()"
   ]
  },
  {
   "cell_type": "code",
   "execution_count": 65,
   "metadata": {},
   "outputs": [
    {
     "data": {
      "text/plain": [
       "array(['Total (recorded+unrecorded) alcohol per capita (15+) consumption'],\n",
       "      dtype=object)"
      ]
     },
     "execution_count": 65,
     "metadata": {},
     "output_type": "execute_result"
    }
   ],
   "source": [
    "df_alcohol_substance_abuse.Indicator.unique()"
   ]
  },
  {
   "cell_type": "code",
   "execution_count": 66,
   "metadata": {},
   "outputs": [],
   "source": [
    "df_alcohol_substance_abuse['Alcohol per capita (15+) consumption'] =df_alcohol_substance_abuse['First Tooltip']"
   ]
  },
  {
   "cell_type": "code",
   "execution_count": 67,
   "metadata": {},
   "outputs": [
    {
     "data": {
      "text/plain": [
       "188"
      ]
     },
     "execution_count": 67,
     "metadata": {},
     "output_type": "execute_result"
    }
   ],
   "source": [
    "df_alcohol_substance_abuse.Location.nunique()"
   ]
  },
  {
   "cell_type": "code",
   "execution_count": 68,
   "metadata": {},
   "outputs": [],
   "source": [
    "\n",
    "df_alcohol_copy = drop_columns(df_alcohol_substance_abuse, columns_drop)"
   ]
  },
  {
   "cell_type": "markdown",
   "metadata": {},
   "source": [
    "Vemos que existe una diferencia entre los paises que se encuentran en cada dataframe por lo que debe ser tenida en cuenta \n",
    "a la hora de unir los dataframes"
   ]
  },
  {
   "cell_type": "markdown",
   "metadata": {},
   "source": [
    "#### **Explorando el dataframe 4 se tiene**"
   ]
  },
  {
   "cell_type": "code",
   "execution_count": 69,
   "metadata": {},
   "outputs": [
    {
     "data": {
      "text/html": [
       "<div>\n",
       "<style scoped>\n",
       "    .dataframe tbody tr th:only-of-type {\n",
       "        vertical-align: middle;\n",
       "    }\n",
       "\n",
       "    .dataframe tbody tr th {\n",
       "        vertical-align: top;\n",
       "    }\n",
       "\n",
       "    .dataframe thead th {\n",
       "        text-align: right;\n",
       "    }\n",
       "</style>\n",
       "<table border=\"1\" class=\"dataframe\">\n",
       "  <thead>\n",
       "    <tr style=\"text-align: right;\">\n",
       "      <th></th>\n",
       "      <th>Location</th>\n",
       "      <th>Period</th>\n",
       "      <th>Indicator</th>\n",
       "      <th>Dim1</th>\n",
       "      <th>First Tooltip</th>\n",
       "    </tr>\n",
       "  </thead>\n",
       "  <tbody>\n",
       "    <tr>\n",
       "      <th>0</th>\n",
       "      <td>Afghanistan</td>\n",
       "      <td>2016</td>\n",
       "      <td>Crude suicide rates (per 100 000 population)</td>\n",
       "      <td>Both sexes</td>\n",
       "      <td>0.0</td>\n",
       "    </tr>\n",
       "    <tr>\n",
       "      <th>1</th>\n",
       "      <td>Afghanistan</td>\n",
       "      <td>2016</td>\n",
       "      <td>Crude suicide rates (per 100 000 population)</td>\n",
       "      <td>Male</td>\n",
       "      <td>0.0</td>\n",
       "    </tr>\n",
       "    <tr>\n",
       "      <th>2</th>\n",
       "      <td>Afghanistan</td>\n",
       "      <td>2016</td>\n",
       "      <td>Crude suicide rates (per 100 000 population)</td>\n",
       "      <td>Female</td>\n",
       "      <td>0.0</td>\n",
       "    </tr>\n",
       "    <tr>\n",
       "      <th>3</th>\n",
       "      <td>Afghanistan</td>\n",
       "      <td>2015</td>\n",
       "      <td>Crude suicide rates (per 100 000 population)</td>\n",
       "      <td>Both sexes</td>\n",
       "      <td>4.8</td>\n",
       "    </tr>\n",
       "    <tr>\n",
       "      <th>4</th>\n",
       "      <td>Afghanistan</td>\n",
       "      <td>2015</td>\n",
       "      <td>Crude suicide rates (per 100 000 population)</td>\n",
       "      <td>Male</td>\n",
       "      <td>7.8</td>\n",
       "    </tr>\n",
       "  </tbody>\n",
       "</table>\n",
       "</div>"
      ],
      "text/plain": [
       "      Location  Period                                     Indicator  \\\n",
       "0  Afghanistan    2016  Crude suicide rates (per 100 000 population)   \n",
       "1  Afghanistan    2016  Crude suicide rates (per 100 000 population)   \n",
       "2  Afghanistan    2016  Crude suicide rates (per 100 000 population)   \n",
       "3  Afghanistan    2015  Crude suicide rates (per 100 000 population)   \n",
       "4  Afghanistan    2015  Crude suicide rates (per 100 000 population)   \n",
       "\n",
       "         Dim1  First Tooltip  \n",
       "0  Both sexes            0.0  \n",
       "1        Male            0.0  \n",
       "2      Female            0.0  \n",
       "3  Both sexes            4.8  \n",
       "4        Male            7.8  "
      ]
     },
     "execution_count": 69,
     "metadata": {},
     "output_type": "execute_result"
    }
   ],
   "source": [
    "df_crude_suicide_rates.head()"
   ]
  },
  {
   "cell_type": "code",
   "execution_count": 70,
   "metadata": {},
   "outputs": [
    {
     "name": "stdout",
     "output_type": "stream",
     "text": [
      "<class 'pandas.core.frame.DataFrame'>\n",
      "RangeIndex: 2745 entries, 0 to 2744\n",
      "Data columns (total 5 columns):\n",
      " #   Column         Non-Null Count  Dtype  \n",
      "---  ------         --------------  -----  \n",
      " 0   Location       2745 non-null   object \n",
      " 1   Period         2745 non-null   int64  \n",
      " 2   Indicator      2745 non-null   object \n",
      " 3   Dim1           2745 non-null   object \n",
      " 4   First Tooltip  2745 non-null   float64\n",
      "dtypes: float64(1), int64(1), object(3)\n",
      "memory usage: 107.4+ KB\n"
     ]
    }
   ],
   "source": [
    "df_crude_suicide_rates.info()"
   ]
  },
  {
   "cell_type": "code",
   "execution_count": 71,
   "metadata": {},
   "outputs": [
    {
     "data": {
      "text/plain": [
       "array(['Crude suicide rates (per 100 000 population)'], dtype=object)"
      ]
     },
     "execution_count": 71,
     "metadata": {},
     "output_type": "execute_result"
    }
   ],
   "source": [
    "df_crude_suicide_rates.Indicator.unique()\n"
   ]
  },
  {
   "cell_type": "markdown",
   "metadata": {},
   "source": [
    "Acá se crea la columna para concatenar los dataframes"
   ]
  },
  {
   "cell_type": "code",
   "execution_count": 72,
   "metadata": {},
   "outputs": [],
   "source": [
    "df_crude_suicide_rates['Crude suicide rates per 100 000'] = df_crude_suicide_rates['First Tooltip'].copy()"
   ]
  },
  {
   "cell_type": "code",
   "execution_count": 73,
   "metadata": {},
   "outputs": [
    {
     "data": {
      "text/plain": [
       "184"
      ]
     },
     "execution_count": 73,
     "metadata": {},
     "output_type": "execute_result"
    }
   ],
   "source": [
    "df_crude_suicide_rates.Location.nunique()"
   ]
  },
  {
   "cell_type": "code",
   "execution_count": 74,
   "metadata": {},
   "outputs": [],
   "source": [
    "\n",
    "df_suicide_copy = drop_columns(df_crude_suicide_rates, columns_drop)"
   ]
  },
  {
   "cell_type": "markdown",
   "metadata": {},
   "source": [
    "#### **Ahora el dataframe 5**"
   ]
  },
  {
   "cell_type": "code",
   "execution_count": 75,
   "metadata": {},
   "outputs": [
    {
     "data": {
      "text/html": [
       "<div>\n",
       "<style scoped>\n",
       "    .dataframe tbody tr th:only-of-type {\n",
       "        vertical-align: middle;\n",
       "    }\n",
       "\n",
       "    .dataframe tbody tr th {\n",
       "        vertical-align: top;\n",
       "    }\n",
       "\n",
       "    .dataframe thead th {\n",
       "        text-align: right;\n",
       "    }\n",
       "</style>\n",
       "<table border=\"1\" class=\"dataframe\">\n",
       "  <thead>\n",
       "    <tr style=\"text-align: right;\">\n",
       "      <th></th>\n",
       "      <th>Location</th>\n",
       "      <th>Indicator</th>\n",
       "      <th>Period</th>\n",
       "      <th>First Tooltip</th>\n",
       "    </tr>\n",
       "  </thead>\n",
       "  <tbody>\n",
       "    <tr>\n",
       "      <th>0</th>\n",
       "      <td>Afghanistan</td>\n",
       "      <td>Incidence of tuberculosis (per 100 000 populat...</td>\n",
       "      <td>2019</td>\n",
       "      <td>189 [122-270]</td>\n",
       "    </tr>\n",
       "    <tr>\n",
       "      <th>1</th>\n",
       "      <td>Afghanistan</td>\n",
       "      <td>Incidence of tuberculosis (per 100 000 populat...</td>\n",
       "      <td>2018</td>\n",
       "      <td>189 [122-270]</td>\n",
       "    </tr>\n",
       "    <tr>\n",
       "      <th>2</th>\n",
       "      <td>Afghanistan</td>\n",
       "      <td>Incidence of tuberculosis (per 100 000 populat...</td>\n",
       "      <td>2017</td>\n",
       "      <td>189 [122-270]</td>\n",
       "    </tr>\n",
       "    <tr>\n",
       "      <th>3</th>\n",
       "      <td>Afghanistan</td>\n",
       "      <td>Incidence of tuberculosis (per 100 000 populat...</td>\n",
       "      <td>2016</td>\n",
       "      <td>189 [122-270]</td>\n",
       "    </tr>\n",
       "    <tr>\n",
       "      <th>4</th>\n",
       "      <td>Afghanistan</td>\n",
       "      <td>Incidence of tuberculosis (per 100 000 populat...</td>\n",
       "      <td>2015</td>\n",
       "      <td>189 [122-270]</td>\n",
       "    </tr>\n",
       "  </tbody>\n",
       "</table>\n",
       "</div>"
      ],
      "text/plain": [
       "      Location                                          Indicator  Period  \\\n",
       "0  Afghanistan  Incidence of tuberculosis (per 100 000 populat...    2019   \n",
       "1  Afghanistan  Incidence of tuberculosis (per 100 000 populat...    2018   \n",
       "2  Afghanistan  Incidence of tuberculosis (per 100 000 populat...    2017   \n",
       "3  Afghanistan  Incidence of tuberculosis (per 100 000 populat...    2016   \n",
       "4  Afghanistan  Incidence of tuberculosis (per 100 000 populat...    2015   \n",
       "\n",
       "   First Tooltip  \n",
       "0  189 [122-270]  \n",
       "1  189 [122-270]  \n",
       "2  189 [122-270]  \n",
       "3  189 [122-270]  \n",
       "4  189 [122-270]  "
      ]
     },
     "execution_count": 75,
     "metadata": {},
     "output_type": "execute_result"
    }
   ],
   "source": [
    "df_incidence_tuberculosis.head()"
   ]
  },
  {
   "cell_type": "code",
   "execution_count": 76,
   "metadata": {},
   "outputs": [
    {
     "data": {
      "text/html": [
       "<div>\n",
       "<style scoped>\n",
       "    .dataframe tbody tr th:only-of-type {\n",
       "        vertical-align: middle;\n",
       "    }\n",
       "\n",
       "    .dataframe tbody tr th {\n",
       "        vertical-align: top;\n",
       "    }\n",
       "\n",
       "    .dataframe thead th {\n",
       "        text-align: right;\n",
       "    }\n",
       "</style>\n",
       "<table border=\"1\" class=\"dataframe\">\n",
       "  <thead>\n",
       "    <tr style=\"text-align: right;\">\n",
       "      <th></th>\n",
       "      <th>Location</th>\n",
       "      <th>Indicator</th>\n",
       "      <th>Period</th>\n",
       "      <th>First Tooltip</th>\n",
       "      <th>Incidence of tuberculosis per 100 000</th>\n",
       "      <th>Median incidence of tuberculosis</th>\n",
       "    </tr>\n",
       "  </thead>\n",
       "  <tbody>\n",
       "    <tr>\n",
       "      <th>0</th>\n",
       "      <td>Afghanistan</td>\n",
       "      <td>Incidence of tuberculosis (per 100 000 populat...</td>\n",
       "      <td>2019</td>\n",
       "      <td>189 [122-270]</td>\n",
       "      <td>122-270</td>\n",
       "      <td>189.0</td>\n",
       "    </tr>\n",
       "    <tr>\n",
       "      <th>1</th>\n",
       "      <td>Afghanistan</td>\n",
       "      <td>Incidence of tuberculosis (per 100 000 populat...</td>\n",
       "      <td>2018</td>\n",
       "      <td>189 [122-270]</td>\n",
       "      <td>122-270</td>\n",
       "      <td>189.0</td>\n",
       "    </tr>\n",
       "    <tr>\n",
       "      <th>2</th>\n",
       "      <td>Afghanistan</td>\n",
       "      <td>Incidence of tuberculosis (per 100 000 populat...</td>\n",
       "      <td>2017</td>\n",
       "      <td>189 [122-270]</td>\n",
       "      <td>122-270</td>\n",
       "      <td>189.0</td>\n",
       "    </tr>\n",
       "    <tr>\n",
       "      <th>3</th>\n",
       "      <td>Afghanistan</td>\n",
       "      <td>Incidence of tuberculosis (per 100 000 populat...</td>\n",
       "      <td>2016</td>\n",
       "      <td>189 [122-270]</td>\n",
       "      <td>122-270</td>\n",
       "      <td>189.0</td>\n",
       "    </tr>\n",
       "    <tr>\n",
       "      <th>4</th>\n",
       "      <td>Afghanistan</td>\n",
       "      <td>Incidence of tuberculosis (per 100 000 populat...</td>\n",
       "      <td>2015</td>\n",
       "      <td>189 [122-270]</td>\n",
       "      <td>122-270</td>\n",
       "      <td>189.0</td>\n",
       "    </tr>\n",
       "    <tr>\n",
       "      <th>...</th>\n",
       "      <td>...</td>\n",
       "      <td>...</td>\n",
       "      <td>...</td>\n",
       "      <td>...</td>\n",
       "      <td>...</td>\n",
       "      <td>...</td>\n",
       "    </tr>\n",
       "    <tr>\n",
       "      <th>3852</th>\n",
       "      <td>Zimbabwe</td>\n",
       "      <td>Incidence of tuberculosis (per 100 000 populat...</td>\n",
       "      <td>2004</td>\n",
       "      <td>607 [451-786]</td>\n",
       "      <td>451-786</td>\n",
       "      <td>607.0</td>\n",
       "    </tr>\n",
       "    <tr>\n",
       "      <th>3853</th>\n",
       "      <td>Zimbabwe</td>\n",
       "      <td>Incidence of tuberculosis (per 100 000 populat...</td>\n",
       "      <td>2003</td>\n",
       "      <td>617 [462-794]</td>\n",
       "      <td>462-794</td>\n",
       "      <td>617.0</td>\n",
       "    </tr>\n",
       "    <tr>\n",
       "      <th>3854</th>\n",
       "      <td>Zimbabwe</td>\n",
       "      <td>Incidence of tuberculosis (per 100 000 populat...</td>\n",
       "      <td>2002</td>\n",
       "      <td>617 [478-773]</td>\n",
       "      <td>478-773</td>\n",
       "      <td>617.0</td>\n",
       "    </tr>\n",
       "    <tr>\n",
       "      <th>3855</th>\n",
       "      <td>Zimbabwe</td>\n",
       "      <td>Incidence of tuberculosis (per 100 000 populat...</td>\n",
       "      <td>2001</td>\n",
       "      <td>617 [461-795]</td>\n",
       "      <td>461-795</td>\n",
       "      <td>617.0</td>\n",
       "    </tr>\n",
       "    <tr>\n",
       "      <th>3856</th>\n",
       "      <td>Zimbabwe</td>\n",
       "      <td>Incidence of tuberculosis (per 100 000 populat...</td>\n",
       "      <td>2000</td>\n",
       "      <td>605 [426-813]</td>\n",
       "      <td>426-813</td>\n",
       "      <td>605.0</td>\n",
       "    </tr>\n",
       "  </tbody>\n",
       "</table>\n",
       "<p>3857 rows × 6 columns</p>\n",
       "</div>"
      ],
      "text/plain": [
       "         Location                                          Indicator  Period  \\\n",
       "0     Afghanistan  Incidence of tuberculosis (per 100 000 populat...    2019   \n",
       "1     Afghanistan  Incidence of tuberculosis (per 100 000 populat...    2018   \n",
       "2     Afghanistan  Incidence of tuberculosis (per 100 000 populat...    2017   \n",
       "3     Afghanistan  Incidence of tuberculosis (per 100 000 populat...    2016   \n",
       "4     Afghanistan  Incidence of tuberculosis (per 100 000 populat...    2015   \n",
       "...           ...                                                ...     ...   \n",
       "3852     Zimbabwe  Incidence of tuberculosis (per 100 000 populat...    2004   \n",
       "3853     Zimbabwe  Incidence of tuberculosis (per 100 000 populat...    2003   \n",
       "3854     Zimbabwe  Incidence of tuberculosis (per 100 000 populat...    2002   \n",
       "3855     Zimbabwe  Incidence of tuberculosis (per 100 000 populat...    2001   \n",
       "3856     Zimbabwe  Incidence of tuberculosis (per 100 000 populat...    2000   \n",
       "\n",
       "      First Tooltip Incidence of tuberculosis per 100 000  \\\n",
       "0     189 [122-270]                               122-270   \n",
       "1     189 [122-270]                               122-270   \n",
       "2     189 [122-270]                               122-270   \n",
       "3     189 [122-270]                               122-270   \n",
       "4     189 [122-270]                               122-270   \n",
       "...             ...                                   ...   \n",
       "3852  607 [451-786]                               451-786   \n",
       "3853  617 [462-794]                               462-794   \n",
       "3854  617 [478-773]                               478-773   \n",
       "3855  617 [461-795]                               461-795   \n",
       "3856  605 [426-813]                               426-813   \n",
       "\n",
       "      Median incidence of tuberculosis  \n",
       "0                                189.0  \n",
       "1                                189.0  \n",
       "2                                189.0  \n",
       "3                                189.0  \n",
       "4                                189.0  \n",
       "...                                ...  \n",
       "3852                             607.0  \n",
       "3853                             617.0  \n",
       "3854                             617.0  \n",
       "3855                             617.0  \n",
       "3856                             605.0  \n",
       "\n",
       "[3857 rows x 6 columns]"
      ]
     },
     "execution_count": 76,
     "metadata": {},
     "output_type": "execute_result"
    }
   ],
   "source": [
    "split_interval_median(df_incidence_tuberculosis, \"First Tooltip\", \"Incidence of tuberculosis per 100 000\", \"Median incidence of tuberculosis\")"
   ]
  },
  {
   "cell_type": "code",
   "execution_count": 77,
   "metadata": {},
   "outputs": [
    {
     "name": "stdout",
     "output_type": "stream",
     "text": [
      "<class 'pandas.core.frame.DataFrame'>\n",
      "RangeIndex: 3857 entries, 0 to 3856\n",
      "Data columns (total 6 columns):\n",
      " #   Column                                 Non-Null Count  Dtype  \n",
      "---  ------                                 --------------  -----  \n",
      " 0   Location                               3857 non-null   object \n",
      " 1   Indicator                              3857 non-null   object \n",
      " 2   Period                                 3857 non-null   int64  \n",
      " 3   First Tooltip                          3857 non-null   object \n",
      " 4   Incidence of tuberculosis per 100 000  3857 non-null   object \n",
      " 5   Median incidence of tuberculosis       3857 non-null   float64\n",
      "dtypes: float64(1), int64(1), object(4)\n",
      "memory usage: 180.9+ KB\n"
     ]
    }
   ],
   "source": [
    "df_incidence_tuberculosis.info()"
   ]
  },
  {
   "cell_type": "code",
   "execution_count": 78,
   "metadata": {},
   "outputs": [
    {
     "data": {
      "text/plain": [
       "array(['Incidence of tuberculosis (per 100 000 population per year)'],\n",
       "      dtype=object)"
      ]
     },
     "execution_count": 78,
     "metadata": {},
     "output_type": "execute_result"
    }
   ],
   "source": [
    "df_incidence_tuberculosis.Indicator.unique()"
   ]
  },
  {
   "cell_type": "markdown",
   "metadata": {},
   "source": [
    "Ahora se crea la columna para concatenar los dataframes"
   ]
  },
  {
   "cell_type": "code",
   "execution_count": 79,
   "metadata": {},
   "outputs": [
    {
     "data": {
      "text/plain": [
       "195"
      ]
     },
     "execution_count": 79,
     "metadata": {},
     "output_type": "execute_result"
    }
   ],
   "source": [
    "df_incidence_tuberculosis.Location.nunique()"
   ]
  },
  {
   "cell_type": "code",
   "execution_count": 80,
   "metadata": {},
   "outputs": [],
   "source": [
    "\n",
    "df_tuberculosis_copy = drop_columns(df_incidence_tuberculosis, columns_drop)"
   ]
  },
  {
   "cell_type": "markdown",
   "metadata": {},
   "source": [
    "#### **Ahora el dataframe 6**"
   ]
  },
  {
   "cell_type": "code",
   "execution_count": 81,
   "metadata": {},
   "outputs": [
    {
     "data": {
      "text/html": [
       "<div>\n",
       "<style scoped>\n",
       "    .dataframe tbody tr th:only-of-type {\n",
       "        vertical-align: middle;\n",
       "    }\n",
       "\n",
       "    .dataframe tbody tr th {\n",
       "        vertical-align: top;\n",
       "    }\n",
       "\n",
       "    .dataframe thead th {\n",
       "        text-align: right;\n",
       "    }\n",
       "</style>\n",
       "<table border=\"1\" class=\"dataframe\">\n",
       "  <thead>\n",
       "    <tr style=\"text-align: right;\">\n",
       "      <th></th>\n",
       "      <th>Location</th>\n",
       "      <th>Period</th>\n",
       "      <th>Indicator</th>\n",
       "      <th>Dim1</th>\n",
       "      <th>First Tooltip</th>\n",
       "    </tr>\n",
       "  </thead>\n",
       "  <tbody>\n",
       "    <tr>\n",
       "      <th>0</th>\n",
       "      <td>Afghanistan</td>\n",
       "      <td>2019</td>\n",
       "      <td>Infant mortality rate (probability of dying be...</td>\n",
       "      <td>Both sexes</td>\n",
       "      <td>46.51 [37.71-55.82]</td>\n",
       "    </tr>\n",
       "    <tr>\n",
       "      <th>1</th>\n",
       "      <td>Afghanistan</td>\n",
       "      <td>2019</td>\n",
       "      <td>Infant mortality rate (probability of dying be...</td>\n",
       "      <td>Male</td>\n",
       "      <td>49.8 [40.2-59.95]</td>\n",
       "    </tr>\n",
       "    <tr>\n",
       "      <th>2</th>\n",
       "      <td>Afghanistan</td>\n",
       "      <td>2019</td>\n",
       "      <td>Infant mortality rate (probability of dying be...</td>\n",
       "      <td>Female</td>\n",
       "      <td>43.05 [34.82-51.96]</td>\n",
       "    </tr>\n",
       "    <tr>\n",
       "      <th>3</th>\n",
       "      <td>Afghanistan</td>\n",
       "      <td>2018</td>\n",
       "      <td>Infant mortality rate (probability of dying be...</td>\n",
       "      <td>Both sexes</td>\n",
       "      <td>48.04 [39.94-56.32]</td>\n",
       "    </tr>\n",
       "    <tr>\n",
       "      <th>4</th>\n",
       "      <td>Afghanistan</td>\n",
       "      <td>2018</td>\n",
       "      <td>Infant mortality rate (probability of dying be...</td>\n",
       "      <td>Male</td>\n",
       "      <td>51.35 [42.56-60.4]</td>\n",
       "    </tr>\n",
       "  </tbody>\n",
       "</table>\n",
       "</div>"
      ],
      "text/plain": [
       "      Location  Period                                          Indicator  \\\n",
       "0  Afghanistan    2019  Infant mortality rate (probability of dying be...   \n",
       "1  Afghanistan    2019  Infant mortality rate (probability of dying be...   \n",
       "2  Afghanistan    2019  Infant mortality rate (probability of dying be...   \n",
       "3  Afghanistan    2018  Infant mortality rate (probability of dying be...   \n",
       "4  Afghanistan    2018  Infant mortality rate (probability of dying be...   \n",
       "\n",
       "         Dim1        First Tooltip  \n",
       "0  Both sexes  46.51 [37.71-55.82]  \n",
       "1        Male    49.8 [40.2-59.95]  \n",
       "2      Female  43.05 [34.82-51.96]  \n",
       "3  Both sexes  48.04 [39.94-56.32]  \n",
       "4        Male   51.35 [42.56-60.4]  "
      ]
     },
     "execution_count": 81,
     "metadata": {},
     "output_type": "execute_result"
    }
   ],
   "source": [
    "df_infant_mortality_rate.head()"
   ]
  },
  {
   "cell_type": "code",
   "execution_count": 82,
   "metadata": {},
   "outputs": [
    {
     "name": "stdout",
     "output_type": "stream",
     "text": [
      "<class 'pandas.core.frame.DataFrame'>\n",
      "RangeIndex: 29999 entries, 0 to 29998\n",
      "Data columns (total 5 columns):\n",
      " #   Column         Non-Null Count  Dtype \n",
      "---  ------         --------------  ----- \n",
      " 0   Location       29999 non-null  object\n",
      " 1   Period         29999 non-null  int64 \n",
      " 2   Indicator      29999 non-null  object\n",
      " 3   Dim1           29999 non-null  object\n",
      " 4   First Tooltip  29999 non-null  object\n",
      "dtypes: int64(1), object(4)\n",
      "memory usage: 1.1+ MB\n"
     ]
    }
   ],
   "source": [
    "df_infant_mortality_rate.info()"
   ]
  },
  {
   "cell_type": "code",
   "execution_count": 83,
   "metadata": {},
   "outputs": [
    {
     "data": {
      "text/plain": [
       "0"
      ]
     },
     "execution_count": 83,
     "metadata": {},
     "output_type": "execute_result"
    }
   ],
   "source": [
    "df_infant_mortality_rate.duplicated().sum()"
   ]
  },
  {
   "cell_type": "code",
   "execution_count": 84,
   "metadata": {},
   "outputs": [
    {
     "data": {
      "text/plain": [
       "array(['Infant mortality rate (probability of dying between birth and age 1 per 1000 live births)'],\n",
       "      dtype=object)"
      ]
     },
     "execution_count": 84,
     "metadata": {},
     "output_type": "execute_result"
    }
   ],
   "source": [
    "df_infant_mortality_rate.Indicator.unique()"
   ]
  },
  {
   "cell_type": "code",
   "execution_count": 85,
   "metadata": {},
   "outputs": [
    {
     "data": {
      "text/html": [
       "<div>\n",
       "<style scoped>\n",
       "    .dataframe tbody tr th:only-of-type {\n",
       "        vertical-align: middle;\n",
       "    }\n",
       "\n",
       "    .dataframe tbody tr th {\n",
       "        vertical-align: top;\n",
       "    }\n",
       "\n",
       "    .dataframe thead th {\n",
       "        text-align: right;\n",
       "    }\n",
       "</style>\n",
       "<table border=\"1\" class=\"dataframe\">\n",
       "  <thead>\n",
       "    <tr style=\"text-align: right;\">\n",
       "      <th></th>\n",
       "      <th>Location</th>\n",
       "      <th>Period</th>\n",
       "      <th>Indicator</th>\n",
       "      <th>Dim1</th>\n",
       "      <th>First Tooltip</th>\n",
       "      <th>Infant mortality rate</th>\n",
       "      <th>Median infant mortality rate</th>\n",
       "    </tr>\n",
       "  </thead>\n",
       "  <tbody>\n",
       "    <tr>\n",
       "      <th>0</th>\n",
       "      <td>Afghanistan</td>\n",
       "      <td>2019</td>\n",
       "      <td>Infant mortality rate (probability of dying be...</td>\n",
       "      <td>Both sexes</td>\n",
       "      <td>46.51 [37.71-55.82]</td>\n",
       "      <td>37.71-55.82</td>\n",
       "      <td>46.51</td>\n",
       "    </tr>\n",
       "    <tr>\n",
       "      <th>1</th>\n",
       "      <td>Afghanistan</td>\n",
       "      <td>2019</td>\n",
       "      <td>Infant mortality rate (probability of dying be...</td>\n",
       "      <td>Male</td>\n",
       "      <td>49.8 [40.2-59.95]</td>\n",
       "      <td>40.2-59.95</td>\n",
       "      <td>49.80</td>\n",
       "    </tr>\n",
       "    <tr>\n",
       "      <th>2</th>\n",
       "      <td>Afghanistan</td>\n",
       "      <td>2019</td>\n",
       "      <td>Infant mortality rate (probability of dying be...</td>\n",
       "      <td>Female</td>\n",
       "      <td>43.05 [34.82-51.96]</td>\n",
       "      <td>34.82-51.96</td>\n",
       "      <td>43.05</td>\n",
       "    </tr>\n",
       "    <tr>\n",
       "      <th>3</th>\n",
       "      <td>Afghanistan</td>\n",
       "      <td>2018</td>\n",
       "      <td>Infant mortality rate (probability of dying be...</td>\n",
       "      <td>Both sexes</td>\n",
       "      <td>48.04 [39.94-56.32]</td>\n",
       "      <td>39.94-56.32</td>\n",
       "      <td>48.04</td>\n",
       "    </tr>\n",
       "    <tr>\n",
       "      <th>4</th>\n",
       "      <td>Afghanistan</td>\n",
       "      <td>2018</td>\n",
       "      <td>Infant mortality rate (probability of dying be...</td>\n",
       "      <td>Male</td>\n",
       "      <td>51.35 [42.56-60.4]</td>\n",
       "      <td>42.56-60.4</td>\n",
       "      <td>51.35</td>\n",
       "    </tr>\n",
       "    <tr>\n",
       "      <th>...</th>\n",
       "      <td>...</td>\n",
       "      <td>...</td>\n",
       "      <td>...</td>\n",
       "      <td>...</td>\n",
       "      <td>...</td>\n",
       "      <td>...</td>\n",
       "      <td>...</td>\n",
       "    </tr>\n",
       "    <tr>\n",
       "      <th>29994</th>\n",
       "      <td>Timor-Leste</td>\n",
       "      <td>2002</td>\n",
       "      <td>Infant mortality rate (probability of dying be...</td>\n",
       "      <td>Both sexes</td>\n",
       "      <td>77.08 [70.29-84.49]</td>\n",
       "      <td>70.29-84.49</td>\n",
       "      <td>77.08</td>\n",
       "    </tr>\n",
       "    <tr>\n",
       "      <th>29995</th>\n",
       "      <td>Timor-Leste</td>\n",
       "      <td>2002</td>\n",
       "      <td>Infant mortality rate (probability of dying be...</td>\n",
       "      <td>Male</td>\n",
       "      <td>82.53 [74.86-90.67]</td>\n",
       "      <td>74.86-90.67</td>\n",
       "      <td>82.53</td>\n",
       "    </tr>\n",
       "    <tr>\n",
       "      <th>29996</th>\n",
       "      <td>Timor-Leste</td>\n",
       "      <td>2002</td>\n",
       "      <td>Infant mortality rate (probability of dying be...</td>\n",
       "      <td>Female</td>\n",
       "      <td>71.37 [64.81-78.76]</td>\n",
       "      <td>64.81-78.76</td>\n",
       "      <td>71.37</td>\n",
       "    </tr>\n",
       "    <tr>\n",
       "      <th>29997</th>\n",
       "      <td>Timor-Leste</td>\n",
       "      <td>2001</td>\n",
       "      <td>Infant mortality rate (probability of dying be...</td>\n",
       "      <td>Both sexes</td>\n",
       "      <td>80.96 [74.1-88.4]</td>\n",
       "      <td>74.1-88.4</td>\n",
       "      <td>80.96</td>\n",
       "    </tr>\n",
       "    <tr>\n",
       "      <th>29998</th>\n",
       "      <td>Timor-Leste</td>\n",
       "      <td>2001</td>\n",
       "      <td>Infant mortality rate (probability of dying be...</td>\n",
       "      <td>Male</td>\n",
       "      <td>86.46 [78.83-94.89]</td>\n",
       "      <td>78.83-94.89</td>\n",
       "      <td>86.46</td>\n",
       "    </tr>\n",
       "  </tbody>\n",
       "</table>\n",
       "<p>29999 rows × 7 columns</p>\n",
       "</div>"
      ],
      "text/plain": [
       "          Location  Period                                          Indicator  \\\n",
       "0      Afghanistan    2019  Infant mortality rate (probability of dying be...   \n",
       "1      Afghanistan    2019  Infant mortality rate (probability of dying be...   \n",
       "2      Afghanistan    2019  Infant mortality rate (probability of dying be...   \n",
       "3      Afghanistan    2018  Infant mortality rate (probability of dying be...   \n",
       "4      Afghanistan    2018  Infant mortality rate (probability of dying be...   \n",
       "...            ...     ...                                                ...   \n",
       "29994  Timor-Leste    2002  Infant mortality rate (probability of dying be...   \n",
       "29995  Timor-Leste    2002  Infant mortality rate (probability of dying be...   \n",
       "29996  Timor-Leste    2002  Infant mortality rate (probability of dying be...   \n",
       "29997  Timor-Leste    2001  Infant mortality rate (probability of dying be...   \n",
       "29998  Timor-Leste    2001  Infant mortality rate (probability of dying be...   \n",
       "\n",
       "             Dim1        First Tooltip Infant mortality rate  \\\n",
       "0      Both sexes  46.51 [37.71-55.82]           37.71-55.82   \n",
       "1            Male    49.8 [40.2-59.95]            40.2-59.95   \n",
       "2          Female  43.05 [34.82-51.96]           34.82-51.96   \n",
       "3      Both sexes  48.04 [39.94-56.32]           39.94-56.32   \n",
       "4            Male   51.35 [42.56-60.4]            42.56-60.4   \n",
       "...           ...                  ...                   ...   \n",
       "29994  Both sexes  77.08 [70.29-84.49]           70.29-84.49   \n",
       "29995        Male  82.53 [74.86-90.67]           74.86-90.67   \n",
       "29996      Female  71.37 [64.81-78.76]           64.81-78.76   \n",
       "29997  Both sexes    80.96 [74.1-88.4]             74.1-88.4   \n",
       "29998        Male  86.46 [78.83-94.89]           78.83-94.89   \n",
       "\n",
       "       Median infant mortality rate  \n",
       "0                             46.51  \n",
       "1                             49.80  \n",
       "2                             43.05  \n",
       "3                             48.04  \n",
       "4                             51.35  \n",
       "...                             ...  \n",
       "29994                         77.08  \n",
       "29995                         82.53  \n",
       "29996                         71.37  \n",
       "29997                         80.96  \n",
       "29998                         86.46  \n",
       "\n",
       "[29999 rows x 7 columns]"
      ]
     },
     "execution_count": 85,
     "metadata": {},
     "output_type": "execute_result"
    }
   ],
   "source": [
    "split_interval_median(df_infant_mortality_rate, \"First Tooltip\", \"Infant mortality rate\", \"Median infant mortality rate\")"
   ]
  },
  {
   "cell_type": "code",
   "execution_count": 86,
   "metadata": {},
   "outputs": [
    {
     "data": {
      "text/plain": [
       "177"
      ]
     },
     "execution_count": 86,
     "metadata": {},
     "output_type": "execute_result"
    }
   ],
   "source": [
    "df_infant_mortality_rate.Location.nunique()"
   ]
  },
  {
   "cell_type": "code",
   "execution_count": 87,
   "metadata": {},
   "outputs": [],
   "source": [
    "\n",
    "df_infant_copy = drop_columns(df_infant_mortality_rate, columns_drop)"
   ]
  },
  {
   "cell_type": "markdown",
   "metadata": {},
   "source": [
    "#### **Ahora el septimo dataframe**"
   ]
  },
  {
   "cell_type": "code",
   "execution_count": 88,
   "metadata": {},
   "outputs": [
    {
     "data": {
      "text/html": [
       "<div>\n",
       "<style scoped>\n",
       "    .dataframe tbody tr th:only-of-type {\n",
       "        vertical-align: middle;\n",
       "    }\n",
       "\n",
       "    .dataframe tbody tr th {\n",
       "        vertical-align: top;\n",
       "    }\n",
       "\n",
       "    .dataframe thead th {\n",
       "        text-align: right;\n",
       "    }\n",
       "</style>\n",
       "<table border=\"1\" class=\"dataframe\">\n",
       "  <thead>\n",
       "    <tr style=\"text-align: right;\">\n",
       "      <th></th>\n",
       "      <th>Location</th>\n",
       "      <th>Period</th>\n",
       "      <th>Indicator</th>\n",
       "      <th>First Tooltip</th>\n",
       "    </tr>\n",
       "  </thead>\n",
       "  <tbody>\n",
       "    <tr>\n",
       "      <th>0</th>\n",
       "      <td>Afghanistan</td>\n",
       "      <td>2017</td>\n",
       "      <td>Maternal mortality ratio (per 100 000 live bir...</td>\n",
       "      <td>638 [427-1010]</td>\n",
       "    </tr>\n",
       "    <tr>\n",
       "      <th>1</th>\n",
       "      <td>Afghanistan</td>\n",
       "      <td>2016</td>\n",
       "      <td>Maternal mortality ratio (per 100 000 live bir...</td>\n",
       "      <td>673 [457-1040]</td>\n",
       "    </tr>\n",
       "    <tr>\n",
       "      <th>2</th>\n",
       "      <td>Afghanistan</td>\n",
       "      <td>2015</td>\n",
       "      <td>Maternal mortality ratio (per 100 000 live bir...</td>\n",
       "      <td>701 [501-1020]</td>\n",
       "    </tr>\n",
       "    <tr>\n",
       "      <th>3</th>\n",
       "      <td>Afghanistan</td>\n",
       "      <td>2014</td>\n",
       "      <td>Maternal mortality ratio (per 100 000 live bir...</td>\n",
       "      <td>786 [592-1080]</td>\n",
       "    </tr>\n",
       "    <tr>\n",
       "      <th>4</th>\n",
       "      <td>Afghanistan</td>\n",
       "      <td>2013</td>\n",
       "      <td>Maternal mortality ratio (per 100 000 live bir...</td>\n",
       "      <td>810 [617-1080]</td>\n",
       "    </tr>\n",
       "  </tbody>\n",
       "</table>\n",
       "</div>"
      ],
      "text/plain": [
       "      Location  Period                                          Indicator  \\\n",
       "0  Afghanistan    2017  Maternal mortality ratio (per 100 000 live bir...   \n",
       "1  Afghanistan    2016  Maternal mortality ratio (per 100 000 live bir...   \n",
       "2  Afghanistan    2015  Maternal mortality ratio (per 100 000 live bir...   \n",
       "3  Afghanistan    2014  Maternal mortality ratio (per 100 000 live bir...   \n",
       "4  Afghanistan    2013  Maternal mortality ratio (per 100 000 live bir...   \n",
       "\n",
       "    First Tooltip  \n",
       "0  638 [427-1010]  \n",
       "1  673 [457-1040]  \n",
       "2  701 [501-1020]  \n",
       "3  786 [592-1080]  \n",
       "4  810 [617-1080]  "
      ]
     },
     "execution_count": 88,
     "metadata": {},
     "output_type": "execute_result"
    }
   ],
   "source": [
    "df_maternal_mortality_ratio.head()"
   ]
  },
  {
   "cell_type": "code",
   "execution_count": 89,
   "metadata": {},
   "outputs": [
    {
     "name": "stdout",
     "output_type": "stream",
     "text": [
      "<class 'pandas.core.frame.DataFrame'>\n",
      "RangeIndex: 3294 entries, 0 to 3293\n",
      "Data columns (total 4 columns):\n",
      " #   Column         Non-Null Count  Dtype \n",
      "---  ------         --------------  ----- \n",
      " 0   Location       3294 non-null   object\n",
      " 1   Period         3294 non-null   int64 \n",
      " 2   Indicator      3294 non-null   object\n",
      " 3   First Tooltip  3294 non-null   object\n",
      "dtypes: int64(1), object(3)\n",
      "memory usage: 103.1+ KB\n"
     ]
    }
   ],
   "source": [
    "df_maternal_mortality_ratio.info()"
   ]
  },
  {
   "cell_type": "code",
   "execution_count": 90,
   "metadata": {},
   "outputs": [
    {
     "data": {
      "text/plain": [
       "0"
      ]
     },
     "execution_count": 90,
     "metadata": {},
     "output_type": "execute_result"
    }
   ],
   "source": [
    "df_maternal_mortality_ratio.duplicated().sum()"
   ]
  },
  {
   "cell_type": "code",
   "execution_count": 91,
   "metadata": {},
   "outputs": [
    {
     "data": {
      "text/plain": [
       "array(['Maternal mortality ratio (per 100 000 live births)'], dtype=object)"
      ]
     },
     "execution_count": 91,
     "metadata": {},
     "output_type": "execute_result"
    }
   ],
   "source": [
    "df_maternal_mortality_ratio.Indicator.unique()"
   ]
  },
  {
   "cell_type": "code",
   "execution_count": 92,
   "metadata": {},
   "outputs": [
    {
     "data": {
      "text/plain": [
       "184"
      ]
     },
     "execution_count": 92,
     "metadata": {},
     "output_type": "execute_result"
    }
   ],
   "source": [
    "df_maternal_mortality_ratio.Location.nunique()"
   ]
  },
  {
   "cell_type": "code",
   "execution_count": 93,
   "metadata": {},
   "outputs": [
    {
     "data": {
      "text/html": [
       "<div>\n",
       "<style scoped>\n",
       "    .dataframe tbody tr th:only-of-type {\n",
       "        vertical-align: middle;\n",
       "    }\n",
       "\n",
       "    .dataframe tbody tr th {\n",
       "        vertical-align: top;\n",
       "    }\n",
       "\n",
       "    .dataframe thead th {\n",
       "        text-align: right;\n",
       "    }\n",
       "</style>\n",
       "<table border=\"1\" class=\"dataframe\">\n",
       "  <thead>\n",
       "    <tr style=\"text-align: right;\">\n",
       "      <th></th>\n",
       "      <th>Location</th>\n",
       "      <th>Period</th>\n",
       "      <th>Indicator</th>\n",
       "      <th>First Tooltip</th>\n",
       "      <th>Maternal mortality ratio per 100 000</th>\n",
       "      <th>Median maternal mortality ratio per 100 000</th>\n",
       "    </tr>\n",
       "  </thead>\n",
       "  <tbody>\n",
       "    <tr>\n",
       "      <th>0</th>\n",
       "      <td>Afghanistan</td>\n",
       "      <td>2017</td>\n",
       "      <td>Maternal mortality ratio (per 100 000 live bir...</td>\n",
       "      <td>638 [427-1010]</td>\n",
       "      <td>427-1010</td>\n",
       "      <td>638.0</td>\n",
       "    </tr>\n",
       "    <tr>\n",
       "      <th>1</th>\n",
       "      <td>Afghanistan</td>\n",
       "      <td>2016</td>\n",
       "      <td>Maternal mortality ratio (per 100 000 live bir...</td>\n",
       "      <td>673 [457-1040]</td>\n",
       "      <td>457-1040</td>\n",
       "      <td>673.0</td>\n",
       "    </tr>\n",
       "    <tr>\n",
       "      <th>2</th>\n",
       "      <td>Afghanistan</td>\n",
       "      <td>2015</td>\n",
       "      <td>Maternal mortality ratio (per 100 000 live bir...</td>\n",
       "      <td>701 [501-1020]</td>\n",
       "      <td>501-1020</td>\n",
       "      <td>701.0</td>\n",
       "    </tr>\n",
       "    <tr>\n",
       "      <th>3</th>\n",
       "      <td>Afghanistan</td>\n",
       "      <td>2014</td>\n",
       "      <td>Maternal mortality ratio (per 100 000 live bir...</td>\n",
       "      <td>786 [592-1080]</td>\n",
       "      <td>592-1080</td>\n",
       "      <td>786.0</td>\n",
       "    </tr>\n",
       "    <tr>\n",
       "      <th>4</th>\n",
       "      <td>Afghanistan</td>\n",
       "      <td>2013</td>\n",
       "      <td>Maternal mortality ratio (per 100 000 live bir...</td>\n",
       "      <td>810 [617-1080]</td>\n",
       "      <td>617-1080</td>\n",
       "      <td>810.0</td>\n",
       "    </tr>\n",
       "    <tr>\n",
       "      <th>...</th>\n",
       "      <td>...</td>\n",
       "      <td>...</td>\n",
       "      <td>...</td>\n",
       "      <td>...</td>\n",
       "      <td>...</td>\n",
       "      <td>...</td>\n",
       "    </tr>\n",
       "    <tr>\n",
       "      <th>3289</th>\n",
       "      <td>Zimbabwe</td>\n",
       "      <td>2004</td>\n",
       "      <td>Maternal mortality ratio (per 100 000 live bir...</td>\n",
       "      <td>686 [597-784]</td>\n",
       "      <td>597-784</td>\n",
       "      <td>686.0</td>\n",
       "    </tr>\n",
       "    <tr>\n",
       "      <th>3290</th>\n",
       "      <td>Zimbabwe</td>\n",
       "      <td>2003</td>\n",
       "      <td>Maternal mortality ratio (per 100 000 live bir...</td>\n",
       "      <td>680 [590-779]</td>\n",
       "      <td>590-779</td>\n",
       "      <td>680.0</td>\n",
       "    </tr>\n",
       "    <tr>\n",
       "      <th>3291</th>\n",
       "      <td>Zimbabwe</td>\n",
       "      <td>2002</td>\n",
       "      <td>Maternal mortality ratio (per 100 000 live bir...</td>\n",
       "      <td>666 [577-766]</td>\n",
       "      <td>577-766</td>\n",
       "      <td>666.0</td>\n",
       "    </tr>\n",
       "    <tr>\n",
       "      <th>3292</th>\n",
       "      <td>Zimbabwe</td>\n",
       "      <td>2001</td>\n",
       "      <td>Maternal mortality ratio (per 100 000 live bir...</td>\n",
       "      <td>629 [544-723]</td>\n",
       "      <td>544-723</td>\n",
       "      <td>629.0</td>\n",
       "    </tr>\n",
       "    <tr>\n",
       "      <th>3293</th>\n",
       "      <td>Zimbabwe</td>\n",
       "      <td>2000</td>\n",
       "      <td>Maternal mortality ratio (per 100 000 live bir...</td>\n",
       "      <td>579 [500-667]</td>\n",
       "      <td>500-667</td>\n",
       "      <td>579.0</td>\n",
       "    </tr>\n",
       "  </tbody>\n",
       "</table>\n",
       "<p>3294 rows × 6 columns</p>\n",
       "</div>"
      ],
      "text/plain": [
       "         Location  Period                                          Indicator  \\\n",
       "0     Afghanistan    2017  Maternal mortality ratio (per 100 000 live bir...   \n",
       "1     Afghanistan    2016  Maternal mortality ratio (per 100 000 live bir...   \n",
       "2     Afghanistan    2015  Maternal mortality ratio (per 100 000 live bir...   \n",
       "3     Afghanistan    2014  Maternal mortality ratio (per 100 000 live bir...   \n",
       "4     Afghanistan    2013  Maternal mortality ratio (per 100 000 live bir...   \n",
       "...           ...     ...                                                ...   \n",
       "3289     Zimbabwe    2004  Maternal mortality ratio (per 100 000 live bir...   \n",
       "3290     Zimbabwe    2003  Maternal mortality ratio (per 100 000 live bir...   \n",
       "3291     Zimbabwe    2002  Maternal mortality ratio (per 100 000 live bir...   \n",
       "3292     Zimbabwe    2001  Maternal mortality ratio (per 100 000 live bir...   \n",
       "3293     Zimbabwe    2000  Maternal mortality ratio (per 100 000 live bir...   \n",
       "\n",
       "       First Tooltip Maternal mortality ratio per 100 000  \\\n",
       "0     638 [427-1010]                             427-1010   \n",
       "1     673 [457-1040]                             457-1040   \n",
       "2     701 [501-1020]                             501-1020   \n",
       "3     786 [592-1080]                             592-1080   \n",
       "4     810 [617-1080]                             617-1080   \n",
       "...              ...                                  ...   \n",
       "3289   686 [597-784]                              597-784   \n",
       "3290   680 [590-779]                              590-779   \n",
       "3291   666 [577-766]                              577-766   \n",
       "3292   629 [544-723]                              544-723   \n",
       "3293   579 [500-667]                              500-667   \n",
       "\n",
       "      Median maternal mortality ratio per 100 000  \n",
       "0                                           638.0  \n",
       "1                                           673.0  \n",
       "2                                           701.0  \n",
       "3                                           786.0  \n",
       "4                                           810.0  \n",
       "...                                           ...  \n",
       "3289                                        686.0  \n",
       "3290                                        680.0  \n",
       "3291                                        666.0  \n",
       "3292                                        629.0  \n",
       "3293                                        579.0  \n",
       "\n",
       "[3294 rows x 6 columns]"
      ]
     },
     "execution_count": 93,
     "metadata": {},
     "output_type": "execute_result"
    }
   ],
   "source": [
    "split_interval_median(df_maternal_mortality_ratio, \"First Tooltip\", \"Maternal mortality ratio per 100 000\", \"Median maternal mortality ratio per 100 000\")"
   ]
  },
  {
   "cell_type": "code",
   "execution_count": 94,
   "metadata": {},
   "outputs": [],
   "source": [
    "df_maternal_copy = drop_columns(df_maternal_mortality_ratio, columns_drop)"
   ]
  },
  {
   "cell_type": "markdown",
   "metadata": {},
   "source": [
    "#### **Para el octavo dataframe**"
   ]
  },
  {
   "cell_type": "code",
   "execution_count": 95,
   "metadata": {},
   "outputs": [
    {
     "data": {
      "text/html": [
       "<div>\n",
       "<style scoped>\n",
       "    .dataframe tbody tr th:only-of-type {\n",
       "        vertical-align: middle;\n",
       "    }\n",
       "\n",
       "    .dataframe tbody tr th {\n",
       "        vertical-align: top;\n",
       "    }\n",
       "\n",
       "    .dataframe thead th {\n",
       "        text-align: right;\n",
       "    }\n",
       "</style>\n",
       "<table border=\"1\" class=\"dataframe\">\n",
       "  <thead>\n",
       "    <tr style=\"text-align: right;\">\n",
       "      <th></th>\n",
       "      <th>Location</th>\n",
       "      <th>Indicator</th>\n",
       "      <th>Period</th>\n",
       "      <th>First Tooltip</th>\n",
       "    </tr>\n",
       "  </thead>\n",
       "  <tbody>\n",
       "    <tr>\n",
       "      <th>0</th>\n",
       "      <td>Afghanistan</td>\n",
       "      <td>Estimated road traffic death rate (per 100 000...</td>\n",
       "      <td>2016</td>\n",
       "      <td>15.1</td>\n",
       "    </tr>\n",
       "    <tr>\n",
       "      <th>1</th>\n",
       "      <td>Albania</td>\n",
       "      <td>Estimated road traffic death rate (per 100 000...</td>\n",
       "      <td>2016</td>\n",
       "      <td>13.6</td>\n",
       "    </tr>\n",
       "    <tr>\n",
       "      <th>2</th>\n",
       "      <td>Angola</td>\n",
       "      <td>Estimated road traffic death rate (per 100 000...</td>\n",
       "      <td>2016</td>\n",
       "      <td>23.6</td>\n",
       "    </tr>\n",
       "    <tr>\n",
       "      <th>3</th>\n",
       "      <td>Antigua and Barbuda</td>\n",
       "      <td>Estimated road traffic death rate (per 100 000...</td>\n",
       "      <td>2016</td>\n",
       "      <td>7.9</td>\n",
       "    </tr>\n",
       "    <tr>\n",
       "      <th>4</th>\n",
       "      <td>Argentina</td>\n",
       "      <td>Estimated road traffic death rate (per 100 000...</td>\n",
       "      <td>2016</td>\n",
       "      <td>14.0</td>\n",
       "    </tr>\n",
       "  </tbody>\n",
       "</table>\n",
       "</div>"
      ],
      "text/plain": [
       "              Location                                          Indicator  \\\n",
       "0          Afghanistan  Estimated road traffic death rate (per 100 000...   \n",
       "1              Albania  Estimated road traffic death rate (per 100 000...   \n",
       "2               Angola  Estimated road traffic death rate (per 100 000...   \n",
       "3  Antigua and Barbuda  Estimated road traffic death rate (per 100 000...   \n",
       "4            Argentina  Estimated road traffic death rate (per 100 000...   \n",
       "\n",
       "   Period  First Tooltip  \n",
       "0    2016           15.1  \n",
       "1    2016           13.6  \n",
       "2    2016           23.6  \n",
       "3    2016            7.9  \n",
       "4    2016           14.0  "
      ]
     },
     "execution_count": 95,
     "metadata": {},
     "output_type": "execute_result"
    }
   ],
   "source": [
    "df_road_traffic_deaths.head()"
   ]
  },
  {
   "cell_type": "code",
   "execution_count": 96,
   "metadata": {},
   "outputs": [
    {
     "name": "stdout",
     "output_type": "stream",
     "text": [
      "<class 'pandas.core.frame.DataFrame'>\n",
      "RangeIndex: 175 entries, 0 to 174\n",
      "Data columns (total 4 columns):\n",
      " #   Column         Non-Null Count  Dtype  \n",
      "---  ------         --------------  -----  \n",
      " 0   Location       175 non-null    object \n",
      " 1   Indicator      175 non-null    object \n",
      " 2   Period         175 non-null    int64  \n",
      " 3   First Tooltip  175 non-null    float64\n",
      "dtypes: float64(1), int64(1), object(2)\n",
      "memory usage: 5.6+ KB\n"
     ]
    }
   ],
   "source": [
    "df_road_traffic_deaths.info()"
   ]
  },
  {
   "cell_type": "code",
   "execution_count": 97,
   "metadata": {},
   "outputs": [
    {
     "data": {
      "text/plain": [
       "array(['Estimated road traffic death rate (per 100 000 population)'],\n",
       "      dtype=object)"
      ]
     },
     "execution_count": 97,
     "metadata": {},
     "output_type": "execute_result"
    }
   ],
   "source": [
    "df_road_traffic_deaths.Indicator.unique()"
   ]
  },
  {
   "cell_type": "code",
   "execution_count": 98,
   "metadata": {},
   "outputs": [],
   "source": [
    "df_road_traffic_deaths['Road traffic death rate (per 100 000'] = df_road_traffic_deaths['First Tooltip'].copy()"
   ]
  },
  {
   "cell_type": "code",
   "execution_count": 99,
   "metadata": {},
   "outputs": [],
   "source": [
    "df_traffic_copy = drop_columns(df_road_traffic_deaths, columns_drop)"
   ]
  },
  {
   "cell_type": "markdown",
   "metadata": {},
   "source": [
    "#### **Ahora el ultimo dataframe**"
   ]
  },
  {
   "cell_type": "code",
   "execution_count": 100,
   "metadata": {},
   "outputs": [
    {
     "data": {
      "text/html": [
       "<div>\n",
       "<style scoped>\n",
       "    .dataframe tbody tr th:only-of-type {\n",
       "        vertical-align: middle;\n",
       "    }\n",
       "\n",
       "    .dataframe tbody tr th {\n",
       "        vertical-align: top;\n",
       "    }\n",
       "\n",
       "    .dataframe thead th {\n",
       "        text-align: right;\n",
       "    }\n",
       "</style>\n",
       "<table border=\"1\" class=\"dataframe\">\n",
       "  <thead>\n",
       "    <tr style=\"text-align: right;\">\n",
       "      <th></th>\n",
       "      <th>Location</th>\n",
       "      <th>Indicator</th>\n",
       "      <th>Period</th>\n",
       "      <th>Dim1</th>\n",
       "      <th>First Tooltip</th>\n",
       "    </tr>\n",
       "  </thead>\n",
       "  <tbody>\n",
       "    <tr>\n",
       "      <th>0</th>\n",
       "      <td>Albania</td>\n",
       "      <td>Age-standardized prevalence of current tobacco...</td>\n",
       "      <td>2018</td>\n",
       "      <td>Both sexes</td>\n",
       "      <td>29.2</td>\n",
       "    </tr>\n",
       "    <tr>\n",
       "      <th>1</th>\n",
       "      <td>Albania</td>\n",
       "      <td>Age-standardized prevalence of current tobacco...</td>\n",
       "      <td>2018</td>\n",
       "      <td>Male</td>\n",
       "      <td>50.5</td>\n",
       "    </tr>\n",
       "    <tr>\n",
       "      <th>2</th>\n",
       "      <td>Albania</td>\n",
       "      <td>Age-standardized prevalence of current tobacco...</td>\n",
       "      <td>2018</td>\n",
       "      <td>Female</td>\n",
       "      <td>7.9</td>\n",
       "    </tr>\n",
       "    <tr>\n",
       "      <th>3</th>\n",
       "      <td>Albania</td>\n",
       "      <td>Age-standardized prevalence of current tobacco...</td>\n",
       "      <td>2017</td>\n",
       "      <td>Both sexes</td>\n",
       "      <td>29.3</td>\n",
       "    </tr>\n",
       "    <tr>\n",
       "      <th>4</th>\n",
       "      <td>Albania</td>\n",
       "      <td>Age-standardized prevalence of current tobacco...</td>\n",
       "      <td>2017</td>\n",
       "      <td>Male</td>\n",
       "      <td>50.6</td>\n",
       "    </tr>\n",
       "  </tbody>\n",
       "</table>\n",
       "</div>"
      ],
      "text/plain": [
       "  Location                                          Indicator  Period  \\\n",
       "0  Albania  Age-standardized prevalence of current tobacco...    2018   \n",
       "1  Albania  Age-standardized prevalence of current tobacco...    2018   \n",
       "2  Albania  Age-standardized prevalence of current tobacco...    2018   \n",
       "3  Albania  Age-standardized prevalence of current tobacco...    2017   \n",
       "4  Albania  Age-standardized prevalence of current tobacco...    2017   \n",
       "\n",
       "         Dim1  First Tooltip  \n",
       "0  Both sexes           29.2  \n",
       "1        Male           50.5  \n",
       "2      Female            7.9  \n",
       "3  Both sexes           29.3  \n",
       "4        Male           50.6  "
      ]
     },
     "execution_count": 100,
     "metadata": {},
     "output_type": "execute_result"
    }
   ],
   "source": [
    "df_tobacco_age.head()"
   ]
  },
  {
   "cell_type": "code",
   "execution_count": 101,
   "metadata": {},
   "outputs": [
    {
     "name": "stdout",
     "output_type": "stream",
     "text": [
      "<class 'pandas.core.frame.DataFrame'>\n",
      "RangeIndex: 4023 entries, 0 to 4022\n",
      "Data columns (total 5 columns):\n",
      " #   Column         Non-Null Count  Dtype  \n",
      "---  ------         --------------  -----  \n",
      " 0   Location       4023 non-null   object \n",
      " 1   Indicator      4023 non-null   object \n",
      " 2   Period         4023 non-null   int64  \n",
      " 3   Dim1           4023 non-null   object \n",
      " 4   First Tooltip  4023 non-null   float64\n",
      "dtypes: float64(1), int64(1), object(3)\n",
      "memory usage: 157.3+ KB\n"
     ]
    }
   ],
   "source": [
    "df_tobacco_age.info()"
   ]
  },
  {
   "cell_type": "code",
   "execution_count": 102,
   "metadata": {},
   "outputs": [
    {
     "data": {
      "text/plain": [
       "0"
      ]
     },
     "execution_count": 102,
     "metadata": {},
     "output_type": "execute_result"
    }
   ],
   "source": [
    "df_tobacco_age.duplicated().sum()"
   ]
  },
  {
   "cell_type": "code",
   "execution_count": 103,
   "metadata": {},
   "outputs": [
    {
     "data": {
      "text/plain": [
       "array(['Age-standardized prevalence of current tobacco smoking among persons aged 15 years and older'],\n",
       "      dtype=object)"
      ]
     },
     "execution_count": 103,
     "metadata": {},
     "output_type": "execute_result"
    }
   ],
   "source": [
    "df_tobacco_age.Indicator.unique()"
   ]
  },
  {
   "cell_type": "code",
   "execution_count": 104,
   "metadata": {},
   "outputs": [
    {
     "data": {
      "text/plain": [
       "149"
      ]
     },
     "execution_count": 104,
     "metadata": {},
     "output_type": "execute_result"
    }
   ],
   "source": [
    "df_tobacco_age.Location.nunique()"
   ]
  },
  {
   "cell_type": "code",
   "execution_count": 105,
   "metadata": {},
   "outputs": [],
   "source": [
    "df_tobacco_age['Prevalence of current tobacco smoking (15+)'] = df_tobacco_age['First Tooltip'].copy()"
   ]
  },
  {
   "cell_type": "code",
   "execution_count": 106,
   "metadata": {},
   "outputs": [],
   "source": [
    "\n",
    "df_tobacco_copy = drop_columns(df_tobacco_age, columns_drop)"
   ]
  },
  {
   "cell_type": "markdown",
   "metadata": {},
   "source": [
    "Se añade la columna para hacer el cruce."
   ]
  },
  {
   "cell_type": "markdown",
   "metadata": {},
   "source": [
    "La estrategia sera unir los dataframes a traves de la columna pais, año y los indicadores seran las columnas del nuevo \n",
    "dataframe, primero se realizara este procedimiento con los dataframes que no tengan indicadores categorizados por sexo.\n",
    "\n",
    "Estos son: df_maternal_copy, df_tuberculosis_copy, df_traffic_copy"
   ]
  },
  {
   "cell_type": "markdown",
   "metadata": {},
   "source": [
    "##### **Se crea una función para hacer el cruce**"
   ]
  },
  {
   "cell_type": "code",
   "execution_count": 111,
   "metadata": {},
   "outputs": [],
   "source": [
    "def concatenate_dfs_in_sequence(df_list, merge_columns, merge_how=\"outer\"):\n",
    "\n",
    "    concatenated_result = pd.merge(df_list[0], df_list[1], on=merge_columns, how=merge_how)\n",
    "\n",
    "    for df in df_list[2:]:\n",
    "        concatenated_result = pd.merge(concatenated_result, df, on=merge_columns, how=merge_how)\n",
    "\n",
    "    return concatenated_result\n"
   ]
  },
  {
   "cell_type": "code",
   "execution_count": 112,
   "metadata": {},
   "outputs": [],
   "source": [
    "list_dataframes_nodim = [df_maternal_copy, df_tuberculosis_copy, df_traffic_copy]\n",
    "merge_columns_first = [\"Location\", \"Period\"]\n",
    "df_final = concatenate_dfs_in_sequence(list_dataframes_nodim, merge_columns_first, merge_how=\"outer\")\n"
   ]
  },
  {
   "cell_type": "markdown",
   "metadata": {},
   "source": [
    "Solo se dejaran los indicadores, en caso de que solo se encuentre un indicador el otro será null"
   ]
  },
  {
   "cell_type": "markdown",
   "metadata": {},
   "source": [
    "Ahora para trabajar con el resto de dataframes que si tienen la variable sexo se añadirá una columna que contenga el sexo y que será \n",
    "la clave para combinar el resto de dataframes."
   ]
  },
  {
   "cell_type": "code",
   "execution_count": 114,
   "metadata": {},
   "outputs": [],
   "source": [
    "df_final.loc[:, 'Dim1'] = 'Both sexes'"
   ]
  },
  {
   "cell_type": "markdown",
   "metadata": {},
   "source": [
    "Se concatenarán todos aquellos dataframes que tengan la columna localización, dim1, pais excluyendo el que tiene dim2 que se le dará otro manejo.\n",
    "\n",
    "\n",
    "La lista es la siguiente, los que se marcan con (-) serán los incluidos:\n",
    "\n",
    "\n",
    "\n",
    "df_airpollution_death_rate \n",
    "\n",
    "df_age_copy --\n",
    "\n",
    "df_alcohol_copy **\n",
    "\n",
    "df_suicide_copy --\n",
    "\n",
    "df_tuberculosis_copy **\n",
    "\n",
    "df_infant_copy --\n",
    "\n",
    "df_maternal_copy **\n",
    "\n",
    "df_tobacco_copy --\n",
    "\n",
    "df_traffic_copy --"
   ]
  },
  {
   "cell_type": "code",
   "execution_count": 124,
   "metadata": {},
   "outputs": [],
   "source": [
    "list_dataframes = [df_age_copy, df_suicide_copy, df_infant_copy,\n",
    " df_tobacco_copy, df_final, df_alcohol_copy]"
   ]
  },
  {
   "cell_type": "code",
   "execution_count": 125,
   "metadata": {},
   "outputs": [],
   "source": [
    "merge_columns = [\"Location\", \"Period\", \"Dim1\"]\n",
    "merge_how = \"outer\"\n",
    "df_combined = concatenate_dfs_in_sequence(list_dataframes, merge_columns, merge_how)\n"
   ]
  },
  {
   "cell_type": "code",
   "execution_count": null,
   "metadata": {},
   "outputs": [],
   "source": []
  }
 ],
 "metadata": {
  "kernelspec": {
   "display_name": "base",
   "language": "python",
   "name": "python3"
  },
  "language_info": {
   "codemirror_mode": {
    "name": "ipython",
    "version": 3
   },
   "file_extension": ".py",
   "mimetype": "text/x-python",
   "name": "python",
   "nbconvert_exporter": "python",
   "pygments_lexer": "ipython3",
   "version": "3.11.4"
  },
  "orig_nbformat": 4
 },
 "nbformat": 4,
 "nbformat_minor": 2
}
